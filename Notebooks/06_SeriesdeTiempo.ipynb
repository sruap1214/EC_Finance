{
 "cells": [
  {
   "cell_type": "markdown",
   "id": "b7afeb4e-a725-4733-ba56-0629374a123b",
   "metadata": {},
   "source": [
    "<h1 align=\"center\"><b>Modelación Financiera I</b></h1>\n",
    "<h1 align=\"center\"><b> Módulo 6 </b></h1>\n",
    "<h1 align=\"center\"><b> Series de tiempo  </b></h1>"
   ]
  },
  {
   "cell_type": "markdown",
   "id": "92f3cb9a-0cfa-4612-a196-948c2002448a",
   "metadata": {},
   "source": [
    "*** \n",
    "\n",
    "***Docente:*** Santiago Rúa Pérez, PhD.\n",
    "\n",
    "***e-mail:*** srua@udemedellin.edu.co\n",
    "\n",
    "***Herramienta:*** [Jupyter Notebook](http://jupyter.org/)\n",
    "\n",
    "***Kernel:*** Python 3.7\n",
    "\n",
    "***MEDELLÍN - COLOMBIA***\n",
    "\n",
    "***2022***\n",
    "\n",
    "***"
   ]
  },
  {
   "cell_type": "markdown",
   "id": "841377aa-60e8-4831-9921-fa961104eeb1",
   "metadata": {},
   "source": [
    "<h1>Tabla de Contenidos<span class=\"tocSkip\"></span></h1>\n",
    "<div class=\"toc\"><ul class=\"toc-item\">\n",
    "    <li><span><a href=\"#Trabajando-con-series-de-tiempo\" data-toc-modified-id=\"Trabajando-con-series-de-tiempo-1\"><span class=\"toc-item-num\">1&nbsp;&nbsp;</span>Trabajando con series de tiempo</a></span></li>\n",
    "    <li><span><a href=\"#Fechas-y-tiempos-nativos-de-Python\" data-toc-modified-id=\"Fechas-y-tiempos-nativos-de-Python-2\"><span class=\"toc-item-num\">2&nbsp;&nbsp;</span>Fechas y tiempos nativos de Python</a></span></li>\n",
    "    <li><span><a href=\"#Estructura-de-series-de-tiempo-con-Pandas\" data-toc-modified-id=\"Estructura-de-series-de-tiempo-con-Pandas-3\"><span class=\"toc-item-num\">3&nbsp;&nbsp;</span>Estructura de series de tiempo con Pandas</a></span></li>\n",
    "    <li><span><a href=\"#Remuestreo,-desplazamiento-y-creaci%C3%B3n-de-ventanas\" data-toc-modified-id=\"Remuestreo,-desplazamiento-y-creaci%C3%B3n-de-ventanas-4\"><span class=\"toc-item-num\">4&nbsp;&nbsp;</span>Remuestreo, desplazamiento y creación de ventanas</a></span></li>\n",
    "    <li><span><a href=\"#Ventanas-m%C3%B3viles\" data-toc-modified-id=\"Ventanas-m%C3%B3viles-5\"><span class=\"toc-item-num\">5&nbsp;&nbsp;</span>Ventanas móviles</a></span></li>\n",
    "    <li><span><a href=\"#Descomponer-series-de-tiempo\" data-toc-modified-id=\"Descomponer-series-de-tiempo-6\"><span class=\"toc-item-num\">6&nbsp;&nbsp;</span>Descomponer series de tiempo</a></span></li>\n",
    "    <li><span><a href=\"#Usar-y-remover-tendencias\" data-toc-modified-id=\"Usar-y-remover-tendencias-7\"><span class=\"toc-item-num\">7&nbsp;&nbsp;</span>Usar y remover tendencias</a></span></li>\n",
    "    <li><span><a href=\"#Usar-y-remover-estacionalidad\" data-toc-modified-id=\"Usar-y-remover-estacionalidad-8\"><span class=\"toc-item-num\">8&nbsp;&nbsp;</span>Usar y remover estacionalidad</a></span></li>\n",
    "    <li><span><a href=\"#Estacionaridad-en-series-de-tiempo\" data-toc-modified-id=\"Estacionaridad-en-series-de-tiempo-9\"><span class=\"toc-item-num\">9&nbsp;&nbsp;</span>Estacionaridad en series de tiempo</a></span></li>\n",
    "    <li><span><a href=\"#Laboratorio\" data-toc-modified-id=\"Laboratorio-10\"><span class=\"toc-item-num\">10&nbsp;&nbsp;</span>Laboratorio</a></span></li>\n",
    "    </ul></div>"
   ]
  },
  {
   "cell_type": "code",
   "execution_count": null,
   "id": "44465862-ed74-41ec-b7d8-d64c3e0d8016",
   "metadata": {},
   "outputs": [],
   "source": [
    "%matplotlib inline"
   ]
  },
  {
   "cell_type": "markdown",
   "id": "0394aa19-671a-4137-b585-29b17724de17",
   "metadata": {
    "tags": []
   },
   "source": [
    "## Trabajando con series de tiempo\n",
    "\n",
    "Pandas fue desarrollado en el contexto de modelación financiera, por lo anterior tiene un conjunto extenso de herramientas para trabajar con fechas, tiempo, y datos indexados con tiempo. Fechas y datos de tiempo vienen con las siguientes características:\n",
    "\n",
    "- Las etiquetas de tiempo referencia momentos particulares, ejemplo: July 4th, 2015 at 7:00am\n",
    "- Periodos e intervalos de tiempo hacen referencia a longitudes que tienen inicio y final, por ejemplo: año 2015\n",
    "- Deltas de tiempo hacen referencia a longitud exacta, ejemplo: 22.5 segundos. "
   ]
  },
  {
   "cell_type": "markdown",
   "id": "ae7b224b-ea44-4b48-b08d-8716f8b9a3d2",
   "metadata": {},
   "source": [
    "## Fechas y tiempos nativos de Python\n",
    "\n",
    "El objeto o clase por defecto para trabajar con fechas en python es el modulo interno de `datetime`. "
   ]
  },
  {
   "cell_type": "code",
   "execution_count": null,
   "id": "8342e53c-72fb-43d1-885c-979a9fec0ce9",
   "metadata": {},
   "outputs": [
    {
     "data": {
      "text/plain": [
       "datetime.datetime(2015, 7, 4, 0, 0)"
      ]
     },
     "execution_count": 23,
     "metadata": {},
     "output_type": "execute_result"
    }
   ],
   "source": [
    "from datetime import datetime\n",
    "datetime(year=2015, month=7, day=4)"
   ]
  },
  {
   "cell_type": "code",
   "execution_count": null,
   "id": "a6d3c6f2-d568-4859-a0ac-9986f109761f",
   "metadata": {},
   "outputs": [
    {
     "data": {
      "text/plain": [
       "datetime.datetime(2015, 7, 4, 0, 0)"
      ]
     },
     "execution_count": 24,
     "metadata": {},
     "output_type": "execute_result"
    }
   ],
   "source": [
    "from dateutil import parser\n",
    "date = parser.parse(\"4th of July, 2015\")\n",
    "date"
   ]
  },
  {
   "cell_type": "code",
   "execution_count": null,
   "id": "cd5a42d7-f068-42d6-b388-6e7faebd7ed2",
   "metadata": {},
   "outputs": [
    {
     "data": {
      "text/plain": [
       "'Saturday'"
      ]
     },
     "execution_count": 25,
     "metadata": {},
     "output_type": "execute_result"
    }
   ],
   "source": [
    "date.strftime('%A')"
   ]
  },
  {
   "cell_type": "markdown",
   "id": "8ff4d00d-3e62-4710-8396-77ed9297e2b5",
   "metadata": {},
   "source": [
    "En la última línea, se uso el formato estándar de salida para imprimir fechas, el cual puede leer más información en [strftime section](https://docs.python.org/3/library/datetime.html#strftime-and-strptime-behavior).\n",
    "\n",
    "La potencia de estas librerias está en su fácil uso y flexibilidad en su sintaxis. Donde fallan es cuando se requiere trabajar con listado grande de fechas y tiempo"
   ]
  },
  {
   "cell_type": "markdown",
   "id": "8ef2c414-b82b-40ee-8425-228a4e29fbb4",
   "metadata": {},
   "source": [
    "### Fechas y tiempo en Pandas\n",
    "\n",
    "Pandas esta construido sobre estas herramientas y crea un objeto propio llamado `Timestamp`, el cual combina las librerias antes vistas con el manejo eficiente vectorizado. Pandas entonces es capaz de construir in indice tipo `DatetimeIndex` el cual puede ser usado tanto en series como en dataframe"
   ]
  },
  {
   "cell_type": "code",
   "execution_count": null,
   "id": "04254c4c-db2b-42c5-a080-51070d255f2b",
   "metadata": {},
   "outputs": [
    {
     "data": {
      "text/plain": [
       "Timestamp('2015-07-25 00:00:00')"
      ]
     },
     "execution_count": 26,
     "metadata": {},
     "output_type": "execute_result"
    }
   ],
   "source": [
    "import pandas as pd\n",
    "date = pd.to_datetime(\"25th of July, 2015\")\n",
    "date"
   ]
  },
  {
   "cell_type": "code",
   "execution_count": null,
   "id": "db249bc7-01cb-4195-9c11-97ef182b40ef",
   "metadata": {},
   "outputs": [
    {
     "data": {
      "text/plain": [
       "'Saturday'"
      ]
     },
     "execution_count": 27,
     "metadata": {},
     "output_type": "execute_result"
    }
   ],
   "source": [
    "date.strftime('%A')"
   ]
  },
  {
   "cell_type": "code",
   "execution_count": null,
   "id": "359259ca-5819-42f3-a44b-341a7d88f32a",
   "metadata": {},
   "outputs": [
    {
     "data": {
      "text/plain": [
       "DatetimeIndex(['2015-07-25', '2015-07-26', '2015-07-27', '2015-07-28',\n",
       "               '2015-07-29', '2015-07-30', '2015-07-31', '2015-08-01',\n",
       "               '2015-08-02', '2015-08-03', '2015-08-04', '2015-08-05'],\n",
       "              dtype='datetime64[ns]', freq=None)"
      ]
     },
     "execution_count": 28,
     "metadata": {},
     "output_type": "execute_result"
    }
   ],
   "source": [
    "date + pd.to_timedelta(np.arange(12), 'D') "
   ]
  },
  {
   "cell_type": "markdown",
   "id": "ed4637f4-18d5-44ec-96b5-1f0c2607adb1",
   "metadata": {},
   "source": [
    "Entonces, como podemos realizar indexación de un objeto tipo serie o dataframe teniendo en cuenta el tiempo?\n",
    "\n",
    "El primer paso es crear el objeto tipo `DatetimeIndex` y crear dicha serie o dataframe con el index"
   ]
  },
  {
   "cell_type": "code",
   "execution_count": null,
   "id": "3a698f99-3934-42cb-9bc7-f1f563bdf4f9",
   "metadata": {},
   "outputs": [
    {
     "data": {
      "text/plain": [
       "2014-07-04    0\n",
       "2014-08-04    1\n",
       "2015-07-04    2\n",
       "2015-08-04    3\n",
       "dtype: int64"
      ]
     },
     "execution_count": 29,
     "metadata": {},
     "output_type": "execute_result"
    }
   ],
   "source": [
    "index = pd.DatetimeIndex(['2014-07-04', '2014-08-04',\n",
    "                          '2015-07-04', '2015-08-04'])\n",
    "data = pd.Series([0, 1, 2, 3], index=index)\n",
    "data"
   ]
  },
  {
   "cell_type": "code",
   "execution_count": null,
   "id": "f34beeda-a105-4551-846b-820e67b0b007",
   "metadata": {},
   "outputs": [
    {
     "data": {
      "text/plain": [
       "2014-07-04    0\n",
       "2014-08-04    1\n",
       "2015-07-04    2\n",
       "dtype: int64"
      ]
     },
     "execution_count": 30,
     "metadata": {},
     "output_type": "execute_result"
    }
   ],
   "source": [
    "data['2014-07-04':'2015-07-04']"
   ]
  },
  {
   "cell_type": "code",
   "execution_count": null,
   "id": "853ae4a4-e130-4b49-818f-c0a8e8e0f8ee",
   "metadata": {},
   "outputs": [
    {
     "data": {
      "text/plain": [
       "2015-07-04    2\n",
       "2015-08-04    3\n",
       "dtype: int64"
      ]
     },
     "execution_count": 31,
     "metadata": {},
     "output_type": "execute_result"
    }
   ],
   "source": [
    "data['2015']"
   ]
  },
  {
   "cell_type": "markdown",
   "id": "a63c62e0-1153-45aa-9d1a-5fe3f1171049",
   "metadata": {},
   "source": [
    "## Estructura de series de tiempo con Pandas\n",
    "\n",
    "A continuación se hablará de las estructuras de datos fundamentales de Pandas para trabajar con series de tiempo\n",
    "\n",
    "- Para *time stamps*, Pandas introduce el tipo `Timestamp`. Es un remplazo de la libreria nativa de Python `datetime`, pero mas eficiente. La estructura para el indice está dada por `DatetimeIndex`\n",
    "- Para *time Periods*, Pandas introduce el tipo `Period`. Este codifica un intervalo fijo y cuya estructura para el indice está dado por `PeriodIndex`.\n",
    "- Para *time deltas* o *durations*, Pandas introduce el tipo `Timedelta`. Este es una forma más eficiente de la libreria nativa `datetime.timedelta` y su estructura de indice está dado por `TimedeltaIndex`\n"
   ]
  },
  {
   "cell_type": "code",
   "execution_count": null,
   "id": "394dfd7f-c82c-4cd7-9d65-249e02a1739c",
   "metadata": {},
   "outputs": [
    {
     "data": {
      "text/plain": [
       "DatetimeIndex(['2015-07-03', '2015-07-04', '2015-07-06', '2015-07-07',\n",
       "               '2015-07-08'],\n",
       "              dtype='datetime64[ns]', freq=None)"
      ]
     },
     "execution_count": 32,
     "metadata": {},
     "output_type": "execute_result"
    }
   ],
   "source": [
    "dates = pd.to_datetime([datetime(2015, 7, 3), '4th of July, 2015',\n",
    "                       '2015-Jul-6', '07-07-2015', '20150708'])\n",
    "dates"
   ]
  },
  {
   "cell_type": "code",
   "execution_count": null,
   "id": "564cbde2-b4da-4891-b4be-43c69a6d3fdb",
   "metadata": {},
   "outputs": [
    {
     "data": {
      "text/plain": [
       "PeriodIndex(['2015-07-03', '2015-07-04', '2015-07-06', '2015-07-07',\n",
       "             '2015-07-08'],\n",
       "            dtype='period[D]')"
      ]
     },
     "execution_count": 33,
     "metadata": {},
     "output_type": "execute_result"
    }
   ],
   "source": [
    "dates.to_period('D')"
   ]
  },
  {
   "cell_type": "code",
   "execution_count": null,
   "id": "598738f1-01d1-42c0-bc61-51d8b39ab9ab",
   "metadata": {},
   "outputs": [
    {
     "data": {
      "text/plain": [
       "TimedeltaIndex(['0 days', '1 days', '3 days', '4 days', '5 days'], dtype='timedelta64[ns]', freq=None)"
      ]
     },
     "execution_count": 34,
     "metadata": {},
     "output_type": "execute_result"
    }
   ],
   "source": [
    "dates - dates[0]"
   ]
  },
  {
   "cell_type": "markdown",
   "id": "9ffb3ff9-b2d8-47c1-b77f-defee3b5854e",
   "metadata": {},
   "source": [
    "Para la creación de estas fechas, Pandas nos ofrece un conjunto de funciones los cuales pueden ser usados de la siguiente forma: `pd.date_range()` para timestamps, `pd.period_range()` para periodos, y `pd.timedelta_range()` para deltas"
   ]
  },
  {
   "cell_type": "code",
   "execution_count": null,
   "id": "5a27f963-0def-4fc7-938c-7d0ad7ea1350",
   "metadata": {},
   "outputs": [
    {
     "data": {
      "text/plain": [
       "DatetimeIndex(['2015-07-03', '2015-07-04', '2015-07-05', '2015-07-06',\n",
       "               '2015-07-07', '2015-07-08', '2015-07-09', '2015-07-10'],\n",
       "              dtype='datetime64[ns]', freq='D')"
      ]
     },
     "execution_count": 35,
     "metadata": {},
     "output_type": "execute_result"
    }
   ],
   "source": [
    "pd.date_range('2015-07-03', '2015-07-10')"
   ]
  },
  {
   "cell_type": "code",
   "execution_count": null,
   "id": "b2cb9298-89f2-49d2-989f-a64ec5ba89d9",
   "metadata": {},
   "outputs": [
    {
     "data": {
      "text/plain": [
       "DatetimeIndex(['2015-07-03', '2015-07-04', '2015-07-05', '2015-07-06',\n",
       "               '2015-07-07', '2015-07-08', '2015-07-09', '2015-07-10'],\n",
       "              dtype='datetime64[ns]', freq='D')"
      ]
     },
     "execution_count": 36,
     "metadata": {},
     "output_type": "execute_result"
    }
   ],
   "source": [
    "pd.date_range('2015-07-03', periods=8)"
   ]
  },
  {
   "cell_type": "code",
   "execution_count": null,
   "id": "1bbfca11-3d9b-44ae-87eb-30d52f01c52e",
   "metadata": {},
   "outputs": [
    {
     "data": {
      "text/plain": [
       "DatetimeIndex(['2015-07-03 00:00:00', '2015-07-03 01:00:00',\n",
       "               '2015-07-03 02:00:00', '2015-07-03 03:00:00',\n",
       "               '2015-07-03 04:00:00', '2015-07-03 05:00:00',\n",
       "               '2015-07-03 06:00:00', '2015-07-03 07:00:00'],\n",
       "              dtype='datetime64[ns]', freq='H')"
      ]
     },
     "execution_count": 37,
     "metadata": {},
     "output_type": "execute_result"
    }
   ],
   "source": [
    "pd.date_range('2015-07-03', periods=8, freq='H')"
   ]
  },
  {
   "cell_type": "code",
   "execution_count": null,
   "id": "5625997f-e8dd-420d-9124-3ab31635b5d8",
   "metadata": {},
   "outputs": [
    {
     "data": {
      "text/plain": [
       "PeriodIndex(['2015-07', '2015-08', '2015-09', '2015-10', '2015-11', '2015-12',\n",
       "             '2016-01', '2016-02'],\n",
       "            dtype='period[M]')"
      ]
     },
     "execution_count": 38,
     "metadata": {},
     "output_type": "execute_result"
    }
   ],
   "source": [
    "pd.period_range('2015-07', periods=8, freq='M')"
   ]
  },
  {
   "cell_type": "code",
   "execution_count": null,
   "id": "67bd6c7b-50c5-49cf-9591-b2949067caf8",
   "metadata": {},
   "outputs": [
    {
     "data": {
      "text/plain": [
       "TimedeltaIndex(['0 days 00:00:00', '0 days 01:00:00', '0 days 02:00:00',\n",
       "                '0 days 03:00:00', '0 days 04:00:00', '0 days 05:00:00',\n",
       "                '0 days 06:00:00', '0 days 07:00:00', '0 days 08:00:00',\n",
       "                '0 days 09:00:00'],\n",
       "               dtype='timedelta64[ns]', freq='H')"
      ]
     },
     "execution_count": 39,
     "metadata": {},
     "output_type": "execute_result"
    }
   ],
   "source": [
    "pd.timedelta_range(0, periods=10, freq='H')"
   ]
  },
  {
   "cell_type": "markdown",
   "id": "7c611ccd-9722-4b32-a89d-30f0d2416b7a",
   "metadata": {},
   "source": [
    "Es importante entender la notación para los códigos de los calendarios\n",
    "\n",
    "| Code   | Description         | Code   | Description          |\n",
    "|--------|---------------------|--------|----------------------|\n",
    "| ``D``  | Calendar day        | ``B``  | Business day         |\n",
    "| ``W``  | Weekly              |        |                      |\n",
    "| ``M``  | Month end           | ``BM`` | Business month end   |\n",
    "| ``Q``  | Quarter end         | ``BQ`` | Business quarter end |\n",
    "| ``A``  | Year end            | ``BA`` | Business year end    |\n",
    "| ``H``  | Hours               | ``BH`` | Business hours       |\n",
    "| ``T``  | Minutes             |        |                      |\n",
    "| ``S``  | Seconds             |        |                      |\n",
    "| ``L``  | Milliseonds         |        |                      |\n",
    "| ``U``  | Microseconds        |        |                      |\n",
    "| ``N``  | nanoseconds         |        |                      |\n",
    "\n",
    "\n",
    "| Code    | Description            || Code    | Description            |\n",
    "|---------|------------------------||---------|------------------------|\n",
    "| ``MS``  | Month start            ||``BMS``  | Business month start   |\n",
    "| ``QS``  | Quarter start          ||``BQS``  | Business quarter start |\n",
    "| ``AS``  | Year start             ||``BAS``  | Business year start    |"
   ]
  },
  {
   "cell_type": "code",
   "execution_count": null,
   "id": "8b811a77-9745-41cc-92fd-9e91b7fdbfc3",
   "metadata": {},
   "outputs": [
    {
     "data": {
      "text/plain": [
       "TimedeltaIndex(['0 days 00:00:00', '0 days 02:30:00', '0 days 05:00:00',\n",
       "                '0 days 07:30:00', '0 days 10:00:00', '0 days 12:30:00',\n",
       "                '0 days 15:00:00', '0 days 17:30:00', '0 days 20:00:00'],\n",
       "               dtype='timedelta64[ns]', freq='150T')"
      ]
     },
     "execution_count": 40,
     "metadata": {},
     "output_type": "execute_result"
    }
   ],
   "source": [
    "pd.timedelta_range(0, periods=9, freq=\"2H30T\")"
   ]
  },
  {
   "cell_type": "markdown",
   "id": "6e945074-4209-4b3b-8e45-b308affbf1af",
   "metadata": {},
   "source": [
    "## Remuestreo, desplazamiento y creación de ventanas\n",
    "\n",
    "La capacidad de usar fechas y horas como índices para organizar y acceder de manera intuitiva a los datos es una pieza importante de las herramientas de series temporales de Pandas. Los beneficios de los datos indexados en general (alineación automática durante las operaciones, división y acceso intuitivo de datos, etc.) aún se aplican, y Pandas proporciona varias operaciones adicionales específicas de series temporales.\n",
    "\n",
    "Para ver esto, se usará algunos datos de precios de acciones como ejemplo. Debido a que Pandas se desarrolló principalmente en un contexto financiero, incluye algunas herramientas muy específicas para datos financieros. Por ejemplo, el paquete `pandas-datareader` que lo acompaña (instalable a través de `conda install pandas-datareader`), sabe cómo importar datos financieros de varias fuentes disponibles, incluidas Yahoo Finance, Quandl, Tiingo y otras. Aquí cargaremos el historial de precios de cierre de Google:"
   ]
  },
  {
   "cell_type": "code",
   "execution_count": null,
   "id": "0e03dcbd-e8fb-47ae-b063-9c07e5d29a3a",
   "metadata": {},
   "outputs": [
    {
     "data": {
      "text/html": [
       "<div>\n",
       "<style scoped>\n",
       "    .dataframe tbody tr th:only-of-type {\n",
       "        vertical-align: middle;\n",
       "    }\n",
       "\n",
       "    .dataframe tbody tr th {\n",
       "        vertical-align: top;\n",
       "    }\n",
       "\n",
       "    .dataframe thead th {\n",
       "        text-align: right;\n",
       "    }\n",
       "</style>\n",
       "<table border=\"1\" class=\"dataframe\">\n",
       "  <thead>\n",
       "    <tr style=\"text-align: right;\">\n",
       "      <th></th>\n",
       "      <th>High</th>\n",
       "      <th>Low</th>\n",
       "      <th>Open</th>\n",
       "      <th>Close</th>\n",
       "      <th>Volume</th>\n",
       "      <th>Adj Close</th>\n",
       "    </tr>\n",
       "    <tr>\n",
       "      <th>Date</th>\n",
       "      <th></th>\n",
       "      <th></th>\n",
       "      <th></th>\n",
       "      <th></th>\n",
       "      <th></th>\n",
       "      <th></th>\n",
       "    </tr>\n",
       "  </thead>\n",
       "  <tbody>\n",
       "    <tr>\n",
       "      <th>2004-08-19</th>\n",
       "      <td>51.835709</td>\n",
       "      <td>47.800831</td>\n",
       "      <td>49.813290</td>\n",
       "      <td>49.982655</td>\n",
       "      <td>44871361.0</td>\n",
       "      <td>49.982655</td>\n",
       "    </tr>\n",
       "    <tr>\n",
       "      <th>2004-08-20</th>\n",
       "      <td>54.336334</td>\n",
       "      <td>50.062355</td>\n",
       "      <td>50.316402</td>\n",
       "      <td>53.952770</td>\n",
       "      <td>22942874.0</td>\n",
       "      <td>53.952770</td>\n",
       "    </tr>\n",
       "    <tr>\n",
       "      <th>2004-08-23</th>\n",
       "      <td>56.528118</td>\n",
       "      <td>54.321388</td>\n",
       "      <td>55.168217</td>\n",
       "      <td>54.495735</td>\n",
       "      <td>18342897.0</td>\n",
       "      <td>54.495735</td>\n",
       "    </tr>\n",
       "    <tr>\n",
       "      <th>2004-08-24</th>\n",
       "      <td>55.591629</td>\n",
       "      <td>51.591621</td>\n",
       "      <td>55.412300</td>\n",
       "      <td>52.239197</td>\n",
       "      <td>15319808.0</td>\n",
       "      <td>52.239197</td>\n",
       "    </tr>\n",
       "    <tr>\n",
       "      <th>2004-08-25</th>\n",
       "      <td>53.798351</td>\n",
       "      <td>51.746044</td>\n",
       "      <td>52.284027</td>\n",
       "      <td>52.802086</td>\n",
       "      <td>9232276.0</td>\n",
       "      <td>52.802086</td>\n",
       "    </tr>\n",
       "  </tbody>\n",
       "</table>\n",
       "</div>"
      ],
      "text/plain": [
       "                 High        Low       Open      Close      Volume  Adj Close\n",
       "Date                                                                         \n",
       "2004-08-19  51.835709  47.800831  49.813290  49.982655  44871361.0  49.982655\n",
       "2004-08-20  54.336334  50.062355  50.316402  53.952770  22942874.0  53.952770\n",
       "2004-08-23  56.528118  54.321388  55.168217  54.495735  18342897.0  54.495735\n",
       "2004-08-24  55.591629  51.591621  55.412300  52.239197  15319808.0  52.239197\n",
       "2004-08-25  53.798351  51.746044  52.284027  52.802086   9232276.0  52.802086"
      ]
     },
     "execution_count": 41,
     "metadata": {},
     "output_type": "execute_result"
    }
   ],
   "source": [
    "from pandas_datareader import data\n",
    "\n",
    "goog = data.DataReader('GOOG', start='2004', end='2016',\n",
    "                       data_source='yahoo')\n",
    "goog.head()"
   ]
  },
  {
   "cell_type": "code",
   "execution_count": null,
   "id": "11395c52-d2d6-43e9-bf8a-6cdfbba891e5",
   "metadata": {},
   "outputs": [],
   "source": [
    "goog = goog['Close']"
   ]
  },
  {
   "cell_type": "code",
   "execution_count": null,
   "id": "e6893b3a-0278-489d-83ff-106392adef6b",
   "metadata": {},
   "outputs": [
    {
     "data": {
      "text/plain": [
       "2863"
      ]
     },
     "execution_count": 43,
     "metadata": {},
     "output_type": "execute_result"
    }
   ],
   "source": [
    "goog.size"
   ]
  },
  {
   "cell_type": "code",
   "execution_count": null,
   "id": "c246c4c1-f12e-41b3-9a12-351ecce2b641",
   "metadata": {},
   "outputs": [
    {
     "data": {
      "image/png": "[encoded data removed]",
      "text/plain": [
       "<Figure size 432x288 with 1 Axes>"
      ]
     },
     "metadata": {
      "needs_background": "light"
     },
     "output_type": "display_data"
    }
   ],
   "source": [
    "import matplotlib.pyplot as plt\n",
    "goog.plot();"
   ]
  },
  {
   "cell_type": "markdown",
   "id": "cd960834-3d8c-495e-a063-71c3ea532972",
   "metadata": {},
   "source": [
    "Una necesidad común de datos de series temporales es volver a muestrear a una frecuencia más alta o más baja. Esto se puede hacer usando el método `resample()`, o el método mucho más simple `asfreq()`. La principal diferencia entre los dos es que `resample()` es fundamentalmente una agregación de datos, mientras que `asfreq()` es fundamentalmente una selección de datos.\n",
    "\n",
    "Echando un vistazo al precio de cierre de Google:\n",
    "\n"
   ]
  },
  {
   "cell_type": "code",
   "execution_count": null,
   "id": "8ea75d35-9108-4c73-abbd-0c72599e177d",
   "metadata": {},
   "outputs": [
    {
     "data": {
      "image/png": "[encoded data removed]",
      "text/plain": [
       "<Figure size 432x288 with 1 Axes>"
      ]
     },
     "metadata": {
      "needs_background": "light"
     },
     "output_type": "display_data"
    }
   ],
   "source": [
    "goog.plot(alpha=0.5, style='-')\n",
    "goog.resample('BA').mean().plot(style=':')\n",
    "goog.asfreq('BA').plot(style='--');\n",
    "plt.legend(['input', 'resample', 'asfreq'],\n",
    "           loc='upper left');"
   ]
  },
  {
   "cell_type": "code",
   "execution_count": null,
   "id": "73fa52a9-40b2-473d-8ac0-ba891e8337d2",
   "metadata": {},
   "outputs": [
    {
     "name": "stdout",
     "output_type": "stream",
     "text": [
      "Date\n",
      "2004-12-31     75.617206\n",
      "2005-12-30    138.360933\n",
      "2006-12-29    204.824916\n",
      "2007-12-31    268.369305\n",
      "2008-12-31    231.558071\n",
      "2009-12-31    219.023214\n",
      "2010-12-31    266.811472\n",
      "2011-12-30    283.424738\n",
      "2012-12-31    320.208021\n",
      "2013-12-31    440.470378\n",
      "2014-12-31    559.803290\n",
      "2015-12-31    602.005681\n",
      "2016-12-30           NaN\n",
      "Freq: BA-DEC, Name: Close, dtype: float64\n",
      "Date\n",
      "2004-12-31     96.035034\n",
      "2005-12-30    206.655411\n",
      "2006-12-29    229.380234\n",
      "2007-12-31    344.448914\n",
      "2008-12-31    153.250580\n",
      "2009-12-31    308.832428\n",
      "2010-12-31    295.875977\n",
      "2011-12-30    321.744019\n",
      "2012-12-31    352.369232\n",
      "2013-12-31    558.262512\n",
      "2014-12-31    524.958740\n",
      "2015-12-31    758.880005\n",
      "Freq: BA-DEC, Name: Close, dtype: float64\n",
      "96.0350341796875\n"
     ]
    }
   ],
   "source": [
    "a = goog.resample('BA').mean()\n",
    "print(a)\n",
    "b = goog.asfreq('BA')\n",
    "print(b)\n",
    "print(goog.loc['2004-12-31'])"
   ]
  },
  {
   "cell_type": "markdown",
   "id": "cc7d2564-ddc6-4a1b-9495-b9d7bf1e5a56",
   "metadata": {},
   "source": [
    "Otra operación común específica de series de tiempo es el desplazamiento de datos en el tiempo. Pandas tiene dos métodos estrechamente relacionados para calcular esto: `shift()` y `tshift()`. En resumen, la diferencia entre ellos es que `shift()` cambia los datos, mientras que `tshift()` cambia el índice. En ambos casos, el cambio se especifica en múltiplos de la frecuencia.\n",
    "\n",
    "Aquí haremos `shift()` y `tshift()` por 900 días"
   ]
  },
  {
   "cell_type": "code",
   "execution_count": null,
   "id": "cbc900aa-1a33-4faf-b3ca-87f6edfdff31",
   "metadata": {},
   "outputs": [
    {
     "name": "stderr",
     "output_type": "stream",
     "text": [
      "/home/sruap/anaconda3/envs/MLFinance/lib/python3.7/site-packages/ipykernel_launcher.py:8: FutureWarning: tshift is deprecated and will be removed in a future version. Please use shift instead.\n",
      "  \n"
     ]
    },
    {
     "data": {
      "text/plain": [
       "Date\n",
       "2004-08-19    49.982655\n",
       "2004-08-20    53.952770\n",
       "2004-08-21    53.952770\n",
       "2004-08-22    53.952770\n",
       "2004-08-23    54.495735\n",
       "Freq: D, Name: Close, dtype: float64"
      ]
     },
     "execution_count": 47,
     "metadata": {},
     "output_type": "execute_result"
    },
    {
     "data": {
      "image/png": "[encoded data removed]",
      "text/plain": [
       "<Figure size 432x288 with 3 Axes>"
      ]
     },
     "metadata": {
      "needs_background": "light"
     },
     "output_type": "display_data"
    }
   ],
   "source": [
    "fig, ax = plt.subplots(3)\n",
    "\n",
    "# apply a frequency to the data\n",
    "goog = goog.asfreq('D', method='pad')\n",
    "\n",
    "goog.plot(ax=ax[0])\n",
    "goog.shift(900).plot(ax=ax[1])\n",
    "goog.tshift(900).plot(ax=ax[2])\n",
    "\n",
    "# legends and annotations\n",
    "local_max = pd.to_datetime('2007-11-05')\n",
    "offset = pd.Timedelta(900, 'D')\n",
    "\n",
    "ax[0].legend(['input'], loc=2)\n",
    "ax[0].get_xticklabels()[2].set(weight='heavy', color='red')\n",
    "ax[0].axvline(local_max, alpha=0.3, color='red')\n",
    "\n",
    "ax[1].legend(['shift(900)'], loc=2)\n",
    "ax[1].get_xticklabels()[2].set(weight='heavy', color='red')\n",
    "ax[1].axvline(local_max + offset, alpha=0.3, color='red')\n",
    "\n",
    "ax[2].legend(['tshift(900)'], loc=2)\n",
    "ax[2].get_xticklabels()[1].set(weight='heavy', color='red')\n",
    "ax[2].axvline(local_max + offset, alpha=0.3, color='red');\n",
    "\n",
    "# set the spacing between subplots\n",
    "plt.subplots_adjust(left=0.1,\n",
    "                    bottom=0.1, \n",
    "                    right=0.9, \n",
    "                    top=0.9, \n",
    "                    wspace=0.1, \n",
    "                    hspace=0.6)\n",
    "\n",
    "goog.head()"
   ]
  },
  {
   "cell_type": "markdown",
   "id": "ca7a97bb-1424-4329-b350-0219a1ac291d",
   "metadata": {},
   "source": [
    "Tipicamente este tipo de operaciones se utiliza para realizar diferencia o diferenciación en el tiempo. Por ejemplo, se puede usar los valores desplazados para calcular el retorno de la inversión de la acción de Google en un año."
   ]
  },
  {
   "cell_type": "code",
   "execution_count": null,
   "id": "9d544819-963e-43b9-a2b8-15ea164d90e9",
   "metadata": {},
   "outputs": [
    {
     "data": {
      "image/png": "[encoded data removed]",
      "text/plain": [
       "<Figure size 432x288 with 1 Axes>"
      ]
     },
     "metadata": {
      "needs_background": "light"
     },
     "output_type": "display_data"
    }
   ],
   "source": [
    "ROI = 100 * (goog.shift(-365) / goog - 1)\n",
    "ROI.plot()\n",
    "plt.ylabel('% retorno de la inversión');"
   ]
  },
  {
   "cell_type": "markdown",
   "id": "dc71db15-2752-4d08-863c-a8d345baa10a",
   "metadata": {},
   "source": [
    "## Ventanas móviles\n",
    "\n",
    "Pandas posibilita realizar implementaciones de ventanas moviles a series temporales en sus datos. Esto se puede lograr a través del atributo `rolling()` de los objetos `Series` y `DataFrame`, que devuelve una vista similar a la que vimos con la operación groupby. Esta vista continua pone a disposición una serie de operaciones de agregación de forma predeterminada.\n",
    "\n",
    "Por ejemplo, aquí está la media móvil centrada en un año y la desviación estándar de los precios de las acciones de Google:"
   ]
  },
  {
   "cell_type": "code",
   "execution_count": null,
   "id": "1a61957c-0279-42a8-b6af-dc9c6be81ba8",
   "metadata": {},
   "outputs": [
    {
     "data": {
      "image/png": "[encoded data removed]",
      "text/plain": [
       "<Figure size 432x288 with 1 Axes>"
      ]
     },
     "metadata": {
      "needs_background": "light"
     },
     "output_type": "display_data"
    }
   ],
   "source": [
    "rolling = goog.rolling(365, center=True)\n",
    "\n",
    "data = pd.DataFrame({'input': goog,\n",
    "                     'one-year rolling_mean': rolling.mean(),\n",
    "                     'one-year rolling_std': rolling.std()})\n",
    "ax = data.plot(style=['-', '--', ':'])\n",
    "ax.lines[0].set_alpha(0.3)"
   ]
  },
  {
   "cell_type": "markdown",
   "id": "b972f716-3ed2-42dc-ae6b-e0aa7a504c54",
   "metadata": {},
   "source": [
    "Si desea conocer mas sobre este tema, consulte la página directa de Pandas [\"Time Series/Date\" section](http://pandas.pydata.org/pandas-docs/stable/timeseries.html)"
   ]
  },
  {
   "cell_type": "markdown",
   "id": "b1de8ee3-0863-413e-ae9d-6e47a6c349ae",
   "metadata": {},
   "source": [
    "## Descomponer series de tiempo"
   ]
  },
  {
   "cell_type": "markdown",
   "id": "53bb1fc0-38b0-4a0c-b504-55432b167648",
   "metadata": {},
   "source": [
    "## Usar y remover tendencias"
   ]
  },
  {
   "cell_type": "markdown",
   "id": "5aff68f8-87a2-4b39-8ccf-d3065ae46b52",
   "metadata": {},
   "source": [
    "## Usar y remover estacionalidad"
   ]
  },
  {
   "cell_type": "markdown",
   "id": "4e8ab580-49c9-493f-a90d-f32b58cc0c8d",
   "metadata": {},
   "source": [
    "## Estacionaridad en series de tiempo"
   ]
  },
  {
   "cell_type": "code",
   "execution_count": null,
   "id": "25fba2a6-68c9-4a84-967f-17e9579e239b",
   "metadata": {},
   "outputs": [],
   "source": []
  },
  {
   "cell_type": "markdown",
   "id": "20789e32-5067-4552-bbdf-0d8cdc49afe5",
   "metadata": {},
   "source": [
    "## Laboratorio\n",
    "\n",
    "- ***Ejercicio 1.*** Consiga una base de datos correspondiente a los temas que usted trabaja a diario. Con lo visto en clase realice visualizaciones de la misma y responda preguntas propias en donde implique realizar operaciones de agrupación, agregaciones, entre otras. \n",
    "\n",
    "\n",
    "- ***Ejercicio 2.*** Proceda a descargarse el conjunto de datos temporales sobre el uso o conteo de bicicletas en el [Puente Fremont] de Seattle (http://www.openstreetmap.org/#map=17/47.64813/-122.34965). Estos datos provienen de un contador de bicicletas automatizado, instalado a fines de 2012, que tiene sensores inductivos en las aceras este y oeste del puente.\n",
    "\n",
    "    Los recuentos de bicicletas por hora se pueden descargar de [link](https://data.seattle.gov/Transportation/Fremont-Bridge-Hourly-Bicycle-Counts-by-Month-Octo/65db-xm6k).\n",
    "    \n",
    "    Cargue el archivo a un dataframe y obtenga información util tal como: la distribución del tráfico de bicicletas en el día, o como se compara este con respecto a los fines de semana. "
   ]
  }
 ],
 "metadata": {
  "kernelspec": {
   "display_name": "Python 3 (ipykernel)",
   "language": "python",
   "name": "python3"
  },
  "language_info": {
   "codemirror_mode": {
    "name": "ipython",
    "version": 3
   },
   "file_extension": ".py",
   "mimetype": "text/x-python",
   "name": "python",
   "nbconvert_exporter": "python",
   "pygments_lexer": "ipython3",
   "version": "3.7.0"
  }
 },
 "nbformat": 4,
 "nbformat_minor": 5
}
