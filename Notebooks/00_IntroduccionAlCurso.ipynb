{
 "cells": [
  {
   "cell_type": "markdown",
   "id": "f7262634-3711-4f78-ba0b-1e67ca75cf7c",
   "metadata": {},
   "source": [
    "<h1 align=\"center\"><b>Modelación Financiera I</b></h1>\n",
    "\n",
    "<h1 align=\"center\"><b>Una pequeña introducción al manejo de datos y el aprendizaje de máquina</b></h1>"
   ]
  },
  {
   "cell_type": "markdown",
   "id": "b05c67f9-f0f3-461c-a9cf-d030c3be6f9e",
   "metadata": {},
   "source": [
    "*** \n",
    "\n",
    "***Docente:*** Santiago Rúa Pérez, PhD.\n",
    "\n",
    "***e-mail:*** srua@udemedellin.edu.co\n",
    "\n",
    "***Herramienta:*** [Jupyter Notebook](http://jupyter.org/)\n",
    "\n",
    "***Kernel:*** Python 3.7\n",
    "\n",
    "***MEDELLÍN - COLOMBIA***\n",
    "\n",
    "***2022***\n",
    "\n",
    "***"
   ]
  },
  {
   "cell_type": "markdown",
   "id": "6c12c5a1-cdc5-4d66-b2f7-3bd4015ad6bf",
   "metadata": {},
   "source": [
    "## **Tabla de contenido del curso**\n",
    "1. [Aspectos generales del curso](#Aspectos-generales-del-curso)\n",
    "    * [Programación de clases](#Programación-de-clases)\n",
    "    * [Evaluación](#Evaluación)\n",
    "    * [Bibliografía](#Bilbiografía)\n"
   ]
  },
  {
   "cell_type": "markdown",
   "id": "e78a60a2-3f43-44cf-847c-927f6cd894a1",
   "metadata": {
    "tags": []
   },
   "source": [
    "## Aspectos generales del curso"
   ]
  },
  {
   "cell_type": "markdown",
   "id": "774fd512-aa88-47d2-9749-f51a0ef4b326",
   "metadata": {},
   "source": [
    "### Programación de clases"
   ]
  },
  {
   "cell_type": "markdown",
   "id": "c53b467a-2b3c-417e-b9b1-2fc434cffd5b",
   "metadata": {},
   "source": [
    "|**Sesión** |**Fecha**|**Capítulo**|**Contenido** |**Actividad Evaluativa**|\n",
    "|--------:|:-------:|:-------|--------------|------------------------|\n",
    "|1 |06/10/2021|Introducción|Presentación del curso, introducción a la inteligencia artificial, introducción al manejo de python (entorno de programación, variables, tipos de variables, operadores, ejecuciones condicionales, iteraciones)| |\n",
    "|2 |13/10/2021|Python| Listas, diccionarios, tuplas, programación orientada a objetos||\n",
    "|3 |20/10/2021|Computación numérica|numpy, arreglos, computación con arreglos, agregaciones, indexación, broadcasting,  ||\n",
    "|4 |27/10/2021|Manipulación de datos con Pandas y visualización|Introducción a los DataFrame, indexación, operaciones, manejo de datos faltantes, indexación jerarquica, agrupaciones, agregaciones, tablas pivotadas, Graficas de líneas, de dispersión, visualización de errores, histogramas, subplots||\n",
    "|6 |10/11/2021|Series de tiempo|time stamps vs periodos, indexación, conversión de frecuencias, autoregresión, promedio movil, modelo ARIMA||\n",
    "|7 |17/11/2021|Aprendizaje de máquina I|Panorama general de aprendizaje de máquinas en finanzas, tipos de aprendizaje de máquina, overfitting vs underfitting, validacion cruzada, métricas para evaluación de modelos, seleccion de modelos.||\n",
    "|8 |24/11/2021|Aprendizaje de máquina II|Regresion lineal, Regresion regularizada, k-vecinos mas cercanos, máquinas de soporte vectorial (regresion), métodos combinados de aprendizaje (boosting y bagging)||\n",
    "|9 |01/12/2021|Aplicaciones regresión en finanzas | Predicción del precio de acciones, predicción de la tolerancia al riesgo, predicción de la curva de rendimiento||"
   ]
  },
  {
   "cell_type": "markdown",
   "id": "19e42b41-3700-4568-9468-bb0c2a2b424c",
   "metadata": {},
   "source": [
    "### Evaluación"
   ]
  },
  {
   "cell_type": "markdown",
   "id": "352589fe",
   "metadata": {},
   "source": [
    "Este curso será dictado como apoyo y soporte al trabajo de grado, por lo anterior no se realiza una evaluación de las actividades, pero la asistencia es obligatoria. \n",
    "\n",
    "El curso es dado de forma presencial en 9 módulos de 4 horas cada para un total de 36 horas directas de clase."
   ]
  },
  {
   "cell_type": "markdown",
   "id": "26b55dbf-cd9b-4b9f-a258-12e2cc82761b",
   "metadata": {},
   "source": [
    "### Bibliografía\n",
    "\n",
    " A continuación algunas referencias utilizadas para el curso:\n",
    " - Tatsat, H; Puri, S.; Lookabaugh, B. \"*Machine Learning & Data Science Blueprints for Finance*\". Editorial O'Reily, pp 432.\n",
    " - Andrew, NG. \"*Machine learning yearning, techinal strategy for AI engineers, in the era of deep learning*\". DeepLearning.ai, pp 118.\n",
    " - Lazzeri, F. \"*Machine learning for time series forecasting with python*\". Wiley, pp 216.\n",
    " - Severance, C.R. \"*Python for everybody*\", pp 249\n",
    " - Hilpisch, Y. \"*Python for finance, mastering data-driven finance*\", Editorial O'Reily, pp 714"
   ]
  }
 ],
 "metadata": {
  "kernelspec": {
   "display_name": "Python 3 (ipykernel)",
   "language": "python",
   "name": "python3"
  },
  "language_info": {
   "codemirror_mode": {
    "name": "ipython",
    "version": 3
   },
   "file_extension": ".py",
   "mimetype": "text/x-python",
   "name": "python",
   "nbconvert_exporter": "python",
   "pygments_lexer": "ipython3",
   "version": "3.7.0"
  }
 },
 "nbformat": 4,
 "nbformat_minor": 5
}
