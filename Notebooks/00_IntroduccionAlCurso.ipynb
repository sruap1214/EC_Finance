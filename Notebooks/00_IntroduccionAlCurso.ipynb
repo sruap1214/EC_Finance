{
 "cells": [
  {
   "cell_type": "markdown",
   "id": "f7262634-3711-4f78-ba0b-1e67ca75cf7c",
   "metadata": {},
   "source": [
    "<h1 align=\"center\"><b>Modelación Financiera I</b></h1>\n",
    "\n",
    "<h1 align=\"center\"><b>Una pequeña introducción al manejo de datos y el aprendizaje de máquina</b></h1>"
   ]
  },
  {
   "cell_type": "markdown",
   "id": "b05c67f9-f0f3-461c-a9cf-d030c3be6f9e",
   "metadata": {},
   "source": [
    "*** \n",
    "\n",
    "***Docente:*** Santiago Rúa Pérez, PhD.\n",
    "\n",
    "***e-mail:*** srua@udemedellin.edu.co\n",
    "\n",
    "***Herramienta:*** [Jupyter Notebook](http://jupyter.org/)\n",
    "\n",
    "***Kernel:*** Python 3.8\n",
    "\n",
    "***MEDELLÍN - COLOMBIA***\n",
    "\n",
    "***2022***\n",
    "\n",
    "***"
   ]
  },
  {
   "cell_type": "markdown",
   "id": "6c12c5a1-cdc5-4d66-b2f7-3bd4015ad6bf",
   "metadata": {},
   "source": [
    "## **Tabla de contenido del curso**\n",
    "1. [Aspectos generales del curso](#Aspectos-generales-del-curso)\n",
    "    * [Programación de clases](#Programación-de-clases)\n",
    "    * [Evaluación](#Evaluación)\n",
    "    * [Bibliografía](#Bilbiografía)\n"
   ]
  },
  {
   "cell_type": "markdown",
   "id": "e78a60a2-3f43-44cf-847c-927f6cd894a1",
   "metadata": {
    "tags": []
   },
   "source": [
    "## Aspectos generales del curso"
   ]
  },
  {
   "cell_type": "markdown",
   "id": "774fd512-aa88-47d2-9749-f51a0ef4b326",
   "metadata": {},
   "source": [
    "### Programación de clases"
   ]
  },
  {
   "cell_type": "markdown",
   "id": "c53b467a-2b3c-417e-b9b1-2fc434cffd5b",
   "metadata": {},
   "source": [
    "|**Sesión** |**Fecha**|**Capítulo**|**Contenido** |**Actividad Evaluativa**|\n",
    "|--------:|:-------:|:-------|--------------|------------------------|\n",
    "|1 |06/10/2021|Introducción|Presentación del curso, introducción a la inteligencia artificial, introducción al manejo de python (entorno de programación, variables, tipos de variables, operadores, ejecuciones condicionales, iteraciones)| |\n",
    "|2 |13/10/2021|Python| Listas, diccionarios, tuplas, programación orientada a objetos||\n",
    "|3 |20/10/2021|Computación numérica|numpy, arreglos, computación con arreglos, agregaciones, indexación, broadcasting,  ||\n",
    "|4 |27/10/2021|Manipulación de datos con Pandas|Introducción a los DataFrame, indexación, operaciones, manejo de datos faltantes, indexación jerarquica, agrupaciones, agregaciones, tablas pivotadas||\n",
    "|6 |10/11/2021|Visualización con Matplotlib|Graficas de líneas, de dispersión, visualización de errores, histogramas, subplots||\n",
    "|7 |17/11/2021|Aprendizaje de máquina I|Diferencias entre||\n",
    "|8 |24/11/2021|Aprendizaje de máquina II|Introducción a las estructuras bidimensionales, elasticidad bidimensional||\n",
    "|9 |01/12/2021|Casos Financieros|Elemento triangular de tres nodos: Funciones de desplazamiento, Matriz de rigidez del elemento, Vector de fuerzas nodales equivalentes. Matriz completa de rigidez de la estructura y respuesta de la estructura||"
   ]
  },
  {
   "cell_type": "code",
   "execution_count": null,
   "id": "18cee722-c3a2-4db2-ade3-334aaf4fadca",
   "metadata": {},
   "outputs": [],
   "source": []
  },
  {
   "cell_type": "code",
   "execution_count": null,
   "id": "ddc8afc0-e0a6-4963-8897-fdf3f708b6ab",
   "metadata": {},
   "outputs": [],
   "source": []
  },
  {
   "cell_type": "code",
   "execution_count": null,
   "id": "7126b6f3-53e9-49fe-98e8-cc06ee79a9ca",
   "metadata": {},
   "outputs": [],
   "source": []
  },
  {
   "cell_type": "markdown",
   "id": "19e42b41-3700-4568-9468-bb0c2a2b424c",
   "metadata": {},
   "source": [
    "### Evaluación"
   ]
  },
  {
   "cell_type": "markdown",
   "id": "26b55dbf-cd9b-4b9f-a258-12e2cc82761b",
   "metadata": {},
   "source": [
    "### Bibliografía"
   ]
  }
 ],
 "metadata": {
  "kernelspec": {
   "display_name": "Python 3",
   "language": "python",
   "name": "python3"
  },
  "language_info": {
   "codemirror_mode": {
    "name": "ipython",
    "version": 3
   },
   "file_extension": ".py",
   "mimetype": "text/x-python",
   "name": "python",
   "nbconvert_exporter": "python",
   "pygments_lexer": "ipython3",
   "version": "3.6.13"
  }
 },
 "nbformat": 4,
 "nbformat_minor": 5
}
