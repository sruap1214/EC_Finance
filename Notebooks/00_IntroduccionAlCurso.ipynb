{
 "cells": [
  {
   "cell_type": "markdown",
   "id": "f7262634-3711-4f78-ba0b-1e67ca75cf7c",
   "metadata": {},
   "source": [
    "<h1 align=\"center\"><b>Modelación Financiera I</b></h1>\n",
    "\n",
    "<h1 align=\"center\"><b>Una pequeña introducción al manejo de datos y el aprendizaje de máquina</b></h1>"
   ]
  },
  {
   "attachments": {},
   "cell_type": "markdown",
   "id": "b05c67f9-f0f3-461c-a9cf-d030c3be6f9e",
   "metadata": {},
   "source": [
    "*** \n",
    "\n",
    "***Docente:*** Santiago Rúa Pérez, PhD.\n",
    "\n",
    "***e-mail:*** srua@udemedellin.edu.co\n",
    "\n",
    "***Herramienta:*** [Jupyter Notebook](http://jupyter.org/)\n",
    "\n",
    "***Kernel:*** Python 3.10\n",
    "\n",
    "***MEDELLÍN - COLOMBIA***\n",
    "\n",
    "***2023***\n",
    "\n",
    "***"
   ]
  },
  {
   "cell_type": "markdown",
   "id": "6c12c5a1-cdc5-4d66-b2f7-3bd4015ad6bf",
   "metadata": {},
   "source": [
    "## **Tabla de contenido del curso**\n",
    "1. [Aspectos generales del curso](#Aspectos-generales-del-curso)\n",
    "    * [Programación de clases](#Programación-de-clases)\n",
    "    * [Evaluación](#Evaluación)\n",
    "    * [Bibliografía](#Bilbiografía)\n"
   ]
  },
  {
   "cell_type": "markdown",
   "id": "e78a60a2-3f43-44cf-847c-927f6cd894a1",
   "metadata": {
    "tags": []
   },
   "source": [
    "## Aspectos generales del curso"
   ]
  },
  {
   "cell_type": "markdown",
   "id": "774fd512-aa88-47d2-9749-f51a0ef4b326",
   "metadata": {},
   "source": [
    "### Programación de clases"
   ]
  },
  {
   "attachments": {},
   "cell_type": "markdown",
   "id": "c53b467a-2b3c-417e-b9b1-2fc434cffd5b",
   "metadata": {},
   "source": [
    "|**Sesión** |**Fecha**|**Capítulo**|**Contenido** |**Actividad Evaluativa**|\n",
    "|--------:|:-------:|:-------|--------------|------------------------|\n",
    "|1 |28/08/2023|Introducción|Presentación del curso, introducción a la inteligencia artificial, introducción al manejo de python (entorno de programación, variables, tipos de variables, operadores, ejecuciones condicionales, iteraciones)| |\n",
    "|2 |4/09/2023|Python| Listas, diccionarios, tuplas, programación orientada a objetos||\n",
    "|3 |11/09/2023|Computación numérica|numpy, arreglos, computación con arreglos, agregaciones, indexación, broadcasting, programacion orientada a objetos  ||\n",
    "|4 |18/09/2023|Manipulación de datos con pandas|Introducción a los DataFrame, indexación, operaciones, manejo de datos faltantes, indexación jerarquica, agrupaciones, agregaciones, tablas pivotadas, Graficas de líneas, de dispersión, visualización de errores, histogramas, subplots||\n",
    "|5 |25/09/2023|Visualización|Graficas de líneas, de dispersión, visualización de errores, histogramas, subplots, costumización, figuras 3D, visualizacion con seaborn||\n",
    "|6 |02/10/2023|Series de tiempo|time stamps vs periodos, indexación, conversión de frecuencias, autoregresión, promedio movil, modelo ARIMA||\n",
    "|7 |*|Aprendizaje de máquina I|Panorama general de aprendizaje de máquinas en finanzas, tipos de aprendizaje de máquina, overfitting vs underfitting, validacion cruzada, métricas para evaluación de modelos, seleccion de modelos.||\n",
    "|8 |*|Aprendizaje de máquina II|Regresion lineal, Regresion regularizada, k-vecinos mas cercanos, máquinas de soporte vectorial (regresion), métodos combinados de aprendizaje (boosting y bagging)||\n",
    "|9 |*|Aplicaciones regresión en finanzas | Predicción del precio de acciones, predicción de la tolerancia al riesgo, predicción de la curva de rendimiento||"
   ]
  },
  {
   "cell_type": "markdown",
   "id": "19e42b41-3700-4568-9468-bb0c2a2b424c",
   "metadata": {},
   "source": [
    "### Evaluación"
   ]
  },
  {
   "cell_type": "markdown",
   "id": "352589fe",
   "metadata": {},
   "source": [
    "Este curso será dictado como curso Electivo para la maestría en financiera. Para aquellas personas que estan viendo el curso la evaluación consta del desarrollo de un proyecto donde su foco principal sea el tratamiento y modelación de datos usando python. A continuación se explica las diferentes fases de entrega. \n",
    "\n",
    "- Fase 1: Entrega 11-Sep. Se deberá presentar al resto del grupo el problema a tratar, explicando cual es la temática a tratar, cual es el problema a resolver, la fuente de los datos y otros temas adicionales a tratar. \n",
    "- Fase 2: Entrega 18-Sep. Se deberá presentar un primer acercamiento al tratamiento de los datos. Entre lo que se espera: carga de los datos en python, eliminación de datos repetidos, tratamiento de valores nulos, procesamiento adicionales, obtención de estadistica basicas, graficación, entre otros.\n",
    "- Fase 3: Entrega 2-Oct. Se deberá presentar el resultado final del proyecto.\n",
    "\n",
    "Finalmente, este curso también participará personas asociados al trabajo de grado, por lo anterior para estas personas, el curso no es de caracter evaluativo. El curso es dado de forma virtual en 6 módulos de 4 horas cada para un total de 24 horas directas de clase."
   ]
  },
  {
   "cell_type": "markdown",
   "id": "26b55dbf-cd9b-4b9f-a258-12e2cc82761b",
   "metadata": {},
   "source": [
    "### Bibliografía\n",
    "\n",
    " A continuación algunas referencias utilizadas para el curso:\n",
    " - Tatsat, H; Puri, S.; Lookabaugh, B. \"*Machine Learning & Data Science Blueprints for Finance*\". Editorial O'Reily, pp 432.\n",
    " - Andrew, NG. \"*Machine learning yearning, techinal strategy for AI engineers, in the era of deep learning*\". DeepLearning.ai, pp 118.\n",
    " - Lazzeri, F. \"*Machine learning for time series forecasting with python*\". Wiley, pp 216.\n",
    " - Severance, C.R. \"*Python for everybody*\", pp 249\n",
    " - Hilpisch, Y. \"*Python for finance, mastering data-driven finance*\", Editorial O'Reily, pp 714"
   ]
  }
 ],
 "metadata": {
  "kernelspec": {
   "display_name": "mlfinance",
   "language": "python",
   "name": "python3"
  },
  "language_info": {
   "codemirror_mode": {
    "name": "ipython",
    "version": 3
   },
   "file_extension": ".py",
   "mimetype": "text/x-python",
   "name": "python",
   "nbconvert_exporter": "python",
   "pygments_lexer": "ipython3",
   "version": "3.10.9"
  },
  "vscode": {
   "interpreter": {
    "hash": "89cafe07fa9106b7e0014ff380c907a9e86547fc22d76eb24752761b967d32b8"
   }
  }
 },
 "nbformat": 4,
 "nbformat_minor": 5
}
