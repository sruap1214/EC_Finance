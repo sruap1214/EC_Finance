{
 "cells": [
  {
   "cell_type": "markdown",
   "id": "b7afeb4e-a725-4733-ba56-0629374a123b",
   "metadata": {},
   "source": [
    "<h1 align=\"center\"><b>Modelación Financiera I</b></h1>\n",
    "<h1 align=\"center\"><b> Módulo 4, parte 1 </b></h1>\n",
    "<h1 align=\"center\"><b> Manipulación de datos y visualización  </b></h1>"
   ]
  },
  {
   "cell_type": "markdown",
   "id": "92f3cb9a-0cfa-4612-a196-948c2002448a",
   "metadata": {},
   "source": [
    "*** \n",
    "\n",
    "***Docente:*** Santiago Rúa Pérez, PhD.\n",
    "\n",
    "***e-mail:*** srua@udemedellin.edu.co\n",
    "\n",
    "***Herramienta:*** [Jupyter Notebook](http://jupyter.org/)\n",
    "\n",
    "***Kernel:*** Python 3.7\n",
    "\n",
    "***MEDELLÍN - COLOMBIA***\n",
    "\n",
    "***2022***\n",
    "\n",
    "***"
   ]
  },
  {
   "cell_type": "markdown",
   "id": "841377aa-60e8-4831-9921-fa961104eeb1",
   "metadata": {},
   "source": [
    "<h1>Table of Contents<span class=\"tocSkip\"></span></h1>\n",
    "<div class=\"toc\"><ul class=\"toc-item\">\n",
    "    <li><span><a href=\"#Introducci%C3%B3n-a-pandas\" data-toc-modified-id=\"Introducci%C3%B3n-a-pandas-1\"><span class=\"toc-item-num\">1&nbsp;&nbsp;</span>Introducción a pandas</a></span></li> \n",
    "    <li><span><a href=\"#Indexaci%C3%B3n-y-selecci%C3%B3n\" data-toc-modified-id=\"Indexaci%C3%B3n-y-selecci%C3%B3n-2\"><span class=\"toc-item-num\">2&nbsp;&nbsp;</span>Indexación y selección</a></span></li>   \n",
    "    <li><span><a href=\"#Operaciones-y-manejo-de-datos-faltantes\" data-toc-modified-id=\"Operaciones-y-manejo-de-datos-faltantes-3\"><span class=\"toc-item-num\">3&nbsp;&nbsp;</span>Operaciones y manejo de datos faltantes</a></span></li> \n",
    "    <li><span><a href=\"#Combinaci%C3%B3n-de-conjunto-de-datos\" data-toc-modified-id=\"Combinaci%C3%B3n-de-conjunto-de-datos-4\"><span class=\"toc-item-num\">4&nbsp;&nbsp;</span>Combinación de conjunto de datos</a></span></li> \n",
    "    <li><span><a href=\"#Agregaciones-y-agrupaciones\" data-toc-modified-id=\"Agregaciones-y-agrupaciones-5\"><span class=\"toc-item-num\">5&nbsp;&nbsp;</span>Agregaciones y agrupaciones</a></span></li> \n",
    "    <li><span><a href=\"#Apuntes-finales\" data-toc-modified-id=\"Apuntes-finales-6\"><span class=\"toc-item-num\">6&nbsp;&nbsp;</span>Apuntes finales</a></span></li> \n",
    "    </ul></div>"
   ]
  },
  {
   "cell_type": "markdown",
   "id": "f8359594-7ca0-4bb3-803d-a72a28ed0ef4",
   "metadata": {},
   "source": [
    "## Introducción a pandas\n",
    "\n",
    "Pandas es una libreria de python construida con base en `numpy` el cual maneja una implementación eficiente de datos utilizando una estructura conocida como `DataFrame`. Este objeto es un arreglo multidimensional con etiquetas para las filas y columnas, y a menudo con datos heterogéneos o datos faltantes. en forma sencilla, un `DataFrame` puede ser visto como un arreglo de `numpy` con nombre a las filas y columnas"
   ]
  },
  {
   "cell_type": "markdown",
   "id": "4fb38d3e-b428-4766-a394-5c3477a16176",
   "metadata": {},
   "source": [
    "### Pandas Series\n",
    "\n",
    "Un objeto tipo Pandas `Series`, es un arreglo unidimensional con datos indexados, puede ser creado desde una lista asi:"
   ]
  },
  {
   "cell_type": "code",
   "execution_count": 3,
   "id": "e4cd2577-3af9-40dc-a13b-0edfbd28a751",
   "metadata": {},
   "outputs": [
    {
     "data": {
      "text/plain": [
       "0    0.25\n",
       "1    0.50\n",
       "2    0.75\n",
       "3    1.00\n",
       "dtype: float64"
      ]
     },
     "execution_count": 3,
     "metadata": {},
     "output_type": "execute_result"
    }
   ],
   "source": [
    "import numpy as np\n",
    "import pandas as pd\n",
    "\n",
    "data = pd.Series([0.25,0.5,0.75,1.0])\n",
    "data"
   ]
  },
  {
   "cell_type": "markdown",
   "id": "ec089ee4-6b88-42c8-a1ed-1bb4fb8b7161",
   "metadata": {},
   "source": [
    "La salida del objeto tiene tanto los valores como indices para los mismos, los cuales pueden accederse utilizando los atributos `values` e `index`. Los `values` son un simple arreglo de `numpy`, mientras que los indices son un objeto tipo `pd.Index`"
   ]
  },
  {
   "cell_type": "code",
   "execution_count": 4,
   "id": "a4b3f56b-f37a-4541-8643-7db2af1523b0",
   "metadata": {},
   "outputs": [
    {
     "name": "stdout",
     "output_type": "stream",
     "text": [
      "[0.25 0.5  0.75 1.  ]\n",
      "<class 'numpy.ndarray'>\n"
     ]
    }
   ],
   "source": [
    "print(data.values)\n",
    "print(type(data.values))"
   ]
  },
  {
   "cell_type": "code",
   "execution_count": 7,
   "id": "1ad98803-ce02-4fb9-91e7-f391a3d8ff83",
   "metadata": {},
   "outputs": [
    {
     "name": "stdout",
     "output_type": "stream",
     "text": [
      "RangeIndex(start=0, stop=4, step=1)\n"
     ]
    }
   ],
   "source": [
    "print(data.index)"
   ]
  },
  {
   "cell_type": "markdown",
   "id": "1e681b59-683f-48ab-956f-5af98ca6631e",
   "metadata": {},
   "source": [
    "Como ocurre con los arreglo de `numpy`, las series de pandas pueden accederse utilizando notación `[]`, asi"
   ]
  },
  {
   "cell_type": "code",
   "execution_count": 9,
   "id": "b9120424-d4d8-4ba3-90c2-47f837a6d98d",
   "metadata": {},
   "outputs": [
    {
     "name": "stdout",
     "output_type": "stream",
     "text": [
      "0.75\n",
      "0    0.25\n",
      "1    0.50\n",
      "2    0.75\n",
      "dtype: float64\n"
     ]
    }
   ],
   "source": [
    "print(data[2])\n",
    "print(data[:3])"
   ]
  },
  {
   "cell_type": "markdown",
   "id": "ce4b7070-b6e4-49a0-a3c2-d72d72e4de69",
   "metadata": {},
   "source": [
    "Parece entonces que las series de pandas, son simplemente un arreglo de `numpy`, sin embargo, estos presentan funcionalidades extendidas. Por ejemplo, podemos indicar el indice a cada una de las filas de la serie"
   ]
  },
  {
   "cell_type": "code",
   "execution_count": 11,
   "id": "ce41c823-6d13-4a52-9336-a9135fc2ec6f",
   "metadata": {},
   "outputs": [
    {
     "data": {
      "text/plain": [
       "a    0.25\n",
       "b    0.50\n",
       "c    0.75\n",
       "d    1.00\n",
       "dtype: float64"
      ]
     },
     "execution_count": 11,
     "metadata": {},
     "output_type": "execute_result"
    }
   ],
   "source": [
    "data = pd.Series([0.25,0.5,0.75,1.0],index=['a','b','c','d'])\n",
    "data"
   ]
  },
  {
   "cell_type": "code",
   "execution_count": 13,
   "id": "bce1ab50-1eb4-4849-bc83-927c3dddcec9",
   "metadata": {},
   "outputs": [
    {
     "data": {
      "text/plain": [
       "0.75"
      ]
     },
     "execution_count": 13,
     "metadata": {},
     "output_type": "execute_result"
    }
   ],
   "source": [
    "data['c']"
   ]
  },
  {
   "cell_type": "markdown",
   "id": "ca9b53a3-ae41-44ce-9c66-4a3bf7611bf5",
   "metadata": {},
   "source": [
    "Inclusive se puede utilizar indices no contiguos"
   ]
  },
  {
   "cell_type": "code",
   "execution_count": 14,
   "id": "c11d5ce8-3afb-4a66-af0d-84a4cd7e9da0",
   "metadata": {},
   "outputs": [
    {
     "data": {
      "text/plain": [
       "2    0.25\n",
       "5    0.50\n",
       "3    0.75\n",
       "7    1.00\n",
       "dtype: float64"
      ]
     },
     "execution_count": 14,
     "metadata": {},
     "output_type": "execute_result"
    }
   ],
   "source": [
    "data = pd.Series([0.25, 0.5, 0.75, 1.0],\n",
    "                 index=[2, 5, 3, 7])\n",
    "data"
   ]
  },
  {
   "cell_type": "markdown",
   "id": "4e14558c-2ed6-4aa7-9bfa-d59fa3abf693",
   "metadata": {},
   "source": [
    "Adicionalmente, la serie de pandas puede verse como un diccionario especializado. Notese que en el ejemplo anterior se accede como si fuera un diccionario. Lo anterior posibilita construir una serie de pandas con base en un diccionario como se muestra a continuación"
   ]
  },
  {
   "cell_type": "code",
   "execution_count": 16,
   "id": "b7217107-c37d-4c22-ba53-dd598a12d872",
   "metadata": {},
   "outputs": [
    {
     "data": {
      "text/plain": [
       "California    38332521\n",
       "Texas         26448193\n",
       "New York      19651127\n",
       "Florida       19552860\n",
       "Illinois      12882135\n",
       "dtype: int64"
      ]
     },
     "execution_count": 16,
     "metadata": {},
     "output_type": "execute_result"
    }
   ],
   "source": [
    "population_dict = {'California': 38332521,\n",
    "                   'Texas': 26448193,\n",
    "                   'New York': 19651127,\n",
    "                   'Florida': 19552860,\n",
    "                   'Illinois': 12882135}\n",
    "population = pd.Series(population_dict)\n",
    "population"
   ]
  },
  {
   "cell_type": "markdown",
   "id": "ac1f6d92-9764-400f-995f-65f6adaf2746",
   "metadata": {},
   "source": [
    "Sin embargo, a diferencia de un diccionario común, el acceso a los datos puede ser del estilo slicing, como:"
   ]
  },
  {
   "cell_type": "code",
   "execution_count": 19,
   "id": "de8dbe33-1b40-487a-b92e-e550dd2719f1",
   "metadata": {},
   "outputs": [
    {
     "data": {
      "text/plain": [
       "California    38332521\n",
       "Texas         26448193\n",
       "New York      19651127\n",
       "Florida       19552860\n",
       "Illinois      12882135\n",
       "dtype: int64"
      ]
     },
     "execution_count": 19,
     "metadata": {},
     "output_type": "execute_result"
    }
   ],
   "source": [
    "population['California':'Illinois']"
   ]
  },
  {
   "cell_type": "markdown",
   "id": "55ab751c-5237-46e9-a2e5-41a3577ad920",
   "metadata": {},
   "source": [
    "### Pandas DataFrame\n",
    "\n",
    "Una vez discutido la series de pandas, se puede entender el objeto tipo `DataFrame`. En este caso, la analogía de esta estructura es como un arreglo de dos dimensiones con indices y columnas flexibles. Por ejemplo, nosotros podemos construir una `DataFrame` con base en dos `Series`:"
   ]
  },
  {
   "cell_type": "code",
   "execution_count": 20,
   "id": "cc87bceb-7ed7-47b7-ae4d-1c10b72f725b",
   "metadata": {},
   "outputs": [
    {
     "data": {
      "text/plain": [
       "California    423967\n",
       "Texas         695662\n",
       "New York      141297\n",
       "Florida       170312\n",
       "Illinois      149995\n",
       "dtype: int64"
      ]
     },
     "execution_count": 20,
     "metadata": {},
     "output_type": "execute_result"
    }
   ],
   "source": [
    "area_dict = {'California': 423967, 'Texas': 695662, 'New York': 141297,\n",
    "             'Florida': 170312, 'Illinois': 149995}\n",
    "area = pd.Series(area_dict)\n",
    "area"
   ]
  },
  {
   "cell_type": "code",
   "execution_count": 22,
   "id": "7ab8079b-9de3-4164-aade-b99239c30525",
   "metadata": {},
   "outputs": [
    {
     "data": {
      "text/html": [
       "<div>\n",
       "<style scoped>\n",
       "    .dataframe tbody tr th:only-of-type {\n",
       "        vertical-align: middle;\n",
       "    }\n",
       "\n",
       "    .dataframe tbody tr th {\n",
       "        vertical-align: top;\n",
       "    }\n",
       "\n",
       "    .dataframe thead th {\n",
       "        text-align: right;\n",
       "    }\n",
       "</style>\n",
       "<table border=\"1\" class=\"dataframe\">\n",
       "  <thead>\n",
       "    <tr style=\"text-align: right;\">\n",
       "      <th></th>\n",
       "      <th>population</th>\n",
       "      <th>area</th>\n",
       "    </tr>\n",
       "  </thead>\n",
       "  <tbody>\n",
       "    <tr>\n",
       "      <th>California</th>\n",
       "      <td>38332521</td>\n",
       "      <td>423967</td>\n",
       "    </tr>\n",
       "    <tr>\n",
       "      <th>Texas</th>\n",
       "      <td>26448193</td>\n",
       "      <td>695662</td>\n",
       "    </tr>\n",
       "    <tr>\n",
       "      <th>New York</th>\n",
       "      <td>19651127</td>\n",
       "      <td>141297</td>\n",
       "    </tr>\n",
       "    <tr>\n",
       "      <th>Florida</th>\n",
       "      <td>19552860</td>\n",
       "      <td>170312</td>\n",
       "    </tr>\n",
       "    <tr>\n",
       "      <th>Illinois</th>\n",
       "      <td>12882135</td>\n",
       "      <td>149995</td>\n",
       "    </tr>\n",
       "  </tbody>\n",
       "</table>\n",
       "</div>"
      ],
      "text/plain": [
       "            population    area\n",
       "California    38332521  423967\n",
       "Texas         26448193  695662\n",
       "New York      19651127  141297\n",
       "Florida       19552860  170312\n",
       "Illinois      12882135  149995"
      ]
     },
     "execution_count": 22,
     "metadata": {},
     "output_type": "execute_result"
    }
   ],
   "source": [
    "states = pd.DataFrame({'population': population,\n",
    "                       'area': area})\n",
    "states"
   ]
  },
  {
   "cell_type": "markdown",
   "id": "dc9f0352-fc98-4f52-a1e9-910bc946e340",
   "metadata": {},
   "source": [
    "Primero notese que ya aparece una tabla el Dataframe, con etiqueta en las columnas y filas. Adicionalmente, la creación del `DataFrame` se da a través de un diccionario. A diferencia de la serie, este objeto nuevo tiene columnas tambien"
   ]
  },
  {
   "cell_type": "code",
   "execution_count": 23,
   "id": "a04e24bb-6aef-4d74-b4f1-94984b4b1bf6",
   "metadata": {},
   "outputs": [
    {
     "data": {
      "text/plain": [
       "Index(['California', 'Texas', 'New York', 'Florida', 'Illinois'], dtype='object')"
      ]
     },
     "execution_count": 23,
     "metadata": {},
     "output_type": "execute_result"
    }
   ],
   "source": [
    "states.index"
   ]
  },
  {
   "cell_type": "code",
   "execution_count": 24,
   "id": "099b7179-63d2-4724-acac-f4427ac50b0a",
   "metadata": {},
   "outputs": [
    {
     "data": {
      "text/plain": [
       "Index(['population', 'area'], dtype='object')"
      ]
     },
     "execution_count": 24,
     "metadata": {},
     "output_type": "execute_result"
    }
   ],
   "source": [
    "states.columns"
   ]
  },
  {
   "cell_type": "markdown",
   "id": "b7b49094-c13d-49f1-acfc-828a4a5a4210",
   "metadata": {},
   "source": [
    "Para acceder a la información del `DataFrame` se puede realizar utilizando las etiquetas de las columnas e indices. Primero se debe hacer la indexación de la columna y luego la fila. "
   ]
  },
  {
   "cell_type": "code",
   "execution_count": 27,
   "id": "26356767-ef94-419c-90d0-e553a07a939a",
   "metadata": {},
   "outputs": [
    {
     "data": {
      "text/plain": [
       "423967"
      ]
     },
     "execution_count": 27,
     "metadata": {},
     "output_type": "execute_result"
    }
   ],
   "source": [
    "states['area']['California']"
   ]
  },
  {
   "cell_type": "markdown",
   "id": "7d5fb54b-98f1-402d-a884-d7f49f16d52e",
   "metadata": {},
   "source": [
    "Para la creacción de `DataFrame` se puede utilizar las siguientes herramientas:\n",
    "\n",
    "- De un objeto tipo Serie\n",
    "- De una lista de diccionario\n",
    "- De un diccionario de objetos tipo serie\n",
    "- De una arreglo multidimensional"
   ]
  },
  {
   "cell_type": "code",
   "execution_count": 29,
   "id": "f66d688d-6a96-41ec-a41e-f76013205f28",
   "metadata": {},
   "outputs": [
    {
     "name": "stdout",
     "output_type": "stream",
     "text": [
      "California    38332521\n",
      "Texas         26448193\n",
      "New York      19651127\n",
      "Florida       19552860\n",
      "Illinois      12882135\n",
      "dtype: int64\n"
     ]
    },
    {
     "data": {
      "text/html": [
       "<div>\n",
       "<style scoped>\n",
       "    .dataframe tbody tr th:only-of-type {\n",
       "        vertical-align: middle;\n",
       "    }\n",
       "\n",
       "    .dataframe tbody tr th {\n",
       "        vertical-align: top;\n",
       "    }\n",
       "\n",
       "    .dataframe thead th {\n",
       "        text-align: right;\n",
       "    }\n",
       "</style>\n",
       "<table border=\"1\" class=\"dataframe\">\n",
       "  <thead>\n",
       "    <tr style=\"text-align: right;\">\n",
       "      <th></th>\n",
       "      <th>population</th>\n",
       "    </tr>\n",
       "  </thead>\n",
       "  <tbody>\n",
       "    <tr>\n",
       "      <th>California</th>\n",
       "      <td>38332521</td>\n",
       "    </tr>\n",
       "    <tr>\n",
       "      <th>Texas</th>\n",
       "      <td>26448193</td>\n",
       "    </tr>\n",
       "    <tr>\n",
       "      <th>New York</th>\n",
       "      <td>19651127</td>\n",
       "    </tr>\n",
       "    <tr>\n",
       "      <th>Florida</th>\n",
       "      <td>19552860</td>\n",
       "    </tr>\n",
       "    <tr>\n",
       "      <th>Illinois</th>\n",
       "      <td>12882135</td>\n",
       "    </tr>\n",
       "  </tbody>\n",
       "</table>\n",
       "</div>"
      ],
      "text/plain": [
       "            population\n",
       "California    38332521\n",
       "Texas         26448193\n",
       "New York      19651127\n",
       "Florida       19552860\n",
       "Illinois      12882135"
      ]
     },
     "execution_count": 29,
     "metadata": {},
     "output_type": "execute_result"
    }
   ],
   "source": [
    "print(population)\n",
    "pd.DataFrame(population, columns=['population'])"
   ]
  },
  {
   "cell_type": "code",
   "execution_count": 31,
   "id": "53315ec8-0395-4a49-a126-ca90228b4892",
   "metadata": {},
   "outputs": [
    {
     "data": {
      "text/html": [
       "<div>\n",
       "<style scoped>\n",
       "    .dataframe tbody tr th:only-of-type {\n",
       "        vertical-align: middle;\n",
       "    }\n",
       "\n",
       "    .dataframe tbody tr th {\n",
       "        vertical-align: top;\n",
       "    }\n",
       "\n",
       "    .dataframe thead th {\n",
       "        text-align: right;\n",
       "    }\n",
       "</style>\n",
       "<table border=\"1\" class=\"dataframe\">\n",
       "  <thead>\n",
       "    <tr style=\"text-align: right;\">\n",
       "      <th></th>\n",
       "      <th>a</th>\n",
       "      <th>b</th>\n",
       "    </tr>\n",
       "  </thead>\n",
       "  <tbody>\n",
       "    <tr>\n",
       "      <th>0</th>\n",
       "      <td>0</td>\n",
       "      <td>0</td>\n",
       "    </tr>\n",
       "    <tr>\n",
       "      <th>1</th>\n",
       "      <td>1</td>\n",
       "      <td>2</td>\n",
       "    </tr>\n",
       "    <tr>\n",
       "      <th>2</th>\n",
       "      <td>2</td>\n",
       "      <td>4</td>\n",
       "    </tr>\n",
       "  </tbody>\n",
       "</table>\n",
       "</div>"
      ],
      "text/plain": [
       "   a  b\n",
       "0  0  0\n",
       "1  1  2\n",
       "2  2  4"
      ]
     },
     "execution_count": 31,
     "metadata": {},
     "output_type": "execute_result"
    }
   ],
   "source": [
    "data = [{'a': i, 'b': 2 * i}\n",
    "        for i in range(3)]\n",
    "pd.DataFrame(data)"
   ]
  },
  {
   "cell_type": "code",
   "execution_count": 32,
   "id": "24309925-9ae5-4933-8ebd-8a65a56bed43",
   "metadata": {},
   "outputs": [
    {
     "data": {
      "text/html": [
       "<div>\n",
       "<style scoped>\n",
       "    .dataframe tbody tr th:only-of-type {\n",
       "        vertical-align: middle;\n",
       "    }\n",
       "\n",
       "    .dataframe tbody tr th {\n",
       "        vertical-align: top;\n",
       "    }\n",
       "\n",
       "    .dataframe thead th {\n",
       "        text-align: right;\n",
       "    }\n",
       "</style>\n",
       "<table border=\"1\" class=\"dataframe\">\n",
       "  <thead>\n",
       "    <tr style=\"text-align: right;\">\n",
       "      <th></th>\n",
       "      <th>a</th>\n",
       "      <th>b</th>\n",
       "      <th>c</th>\n",
       "    </tr>\n",
       "  </thead>\n",
       "  <tbody>\n",
       "    <tr>\n",
       "      <th>0</th>\n",
       "      <td>1.0</td>\n",
       "      <td>2</td>\n",
       "      <td>NaN</td>\n",
       "    </tr>\n",
       "    <tr>\n",
       "      <th>1</th>\n",
       "      <td>NaN</td>\n",
       "      <td>3</td>\n",
       "      <td>4.0</td>\n",
       "    </tr>\n",
       "  </tbody>\n",
       "</table>\n",
       "</div>"
      ],
      "text/plain": [
       "     a  b    c\n",
       "0  1.0  2  NaN\n",
       "1  NaN  3  4.0"
      ]
     },
     "execution_count": 32,
     "metadata": {},
     "output_type": "execute_result"
    }
   ],
   "source": [
    "pd.DataFrame([{'a': 1, 'b': 2}, {'b': 3, 'c': 4}])"
   ]
  },
  {
   "cell_type": "code",
   "execution_count": 35,
   "id": "60d9be2a-7e58-429b-bd96-084ccbae47c8",
   "metadata": {},
   "outputs": [
    {
     "data": {
      "text/html": [
       "<div>\n",
       "<style scoped>\n",
       "    .dataframe tbody tr th:only-of-type {\n",
       "        vertical-align: middle;\n",
       "    }\n",
       "\n",
       "    .dataframe tbody tr th {\n",
       "        vertical-align: top;\n",
       "    }\n",
       "\n",
       "    .dataframe thead th {\n",
       "        text-align: right;\n",
       "    }\n",
       "</style>\n",
       "<table border=\"1\" class=\"dataframe\">\n",
       "  <thead>\n",
       "    <tr style=\"text-align: right;\">\n",
       "      <th></th>\n",
       "      <th>foo</th>\n",
       "      <th>bar</th>\n",
       "    </tr>\n",
       "  </thead>\n",
       "  <tbody>\n",
       "    <tr>\n",
       "      <th>a</th>\n",
       "      <td>0.774895</td>\n",
       "      <td>0.257992</td>\n",
       "    </tr>\n",
       "    <tr>\n",
       "      <th>b</th>\n",
       "      <td>0.155071</td>\n",
       "      <td>0.970640</td>\n",
       "    </tr>\n",
       "    <tr>\n",
       "      <th>c</th>\n",
       "      <td>0.196813</td>\n",
       "      <td>0.725840</td>\n",
       "    </tr>\n",
       "  </tbody>\n",
       "</table>\n",
       "</div>"
      ],
      "text/plain": [
       "        foo       bar\n",
       "a  0.774895  0.257992\n",
       "b  0.155071  0.970640\n",
       "c  0.196813  0.725840"
      ]
     },
     "execution_count": 35,
     "metadata": {},
     "output_type": "execute_result"
    }
   ],
   "source": [
    "pd.DataFrame(np.random.rand(3, 2),\n",
    "             columns=['foo', 'bar'],\n",
    "             index=['a', 'b', 'c'])"
   ]
  },
  {
   "cell_type": "markdown",
   "id": "abfe1855-2928-43b4-b0f8-cb5b7474d2ed",
   "metadata": {},
   "source": [
    "### Objeto tipo Pandas Index\n",
    "\n",
    "Hemos observado que tanto los objetos tipo `Series` y `DataFrame` contienen explicitamente un objeto tipo `index`. Este objeto puede ser visto como un arreglo inmutable o como un cojunto ordenado. Por ejemplo "
   ]
  },
  {
   "cell_type": "code",
   "execution_count": 36,
   "id": "90c12f40-247b-485e-b366-fe82f93d79d9",
   "metadata": {},
   "outputs": [
    {
     "data": {
      "text/plain": [
       "Int64Index([2, 3, 5, 7, 11], dtype='int64')"
      ]
     },
     "execution_count": 36,
     "metadata": {},
     "output_type": "execute_result"
    }
   ],
   "source": [
    "ind = pd.Index([2, 3, 5, 7, 11])\n",
    "ind"
   ]
  },
  {
   "cell_type": "code",
   "execution_count": 37,
   "id": "05137f92-f2b8-49ed-bae7-cee6f7a57192",
   "metadata": {},
   "outputs": [
    {
     "name": "stdout",
     "output_type": "stream",
     "text": [
      "3\n",
      "Int64Index([2, 5, 11], dtype='int64')\n",
      "5 (5,) 1 int64\n"
     ]
    }
   ],
   "source": [
    "print(ind[1])\n",
    "print(ind[::2])\n",
    "print(ind.size, ind.shape, ind.ndim, ind.dtype)"
   ]
  },
  {
   "cell_type": "markdown",
   "id": "36194043-01c4-424b-90d9-36f68d0d70cf",
   "metadata": {},
   "source": [
    "A diferencia de un arreglo, estos indices son inmutables, por lo que el código a continuación genera un error\n",
    "``` python\n",
    "ind[1] = 0\n",
    "\n",
    "``` "
   ]
  },
  {
   "cell_type": "markdown",
   "id": "aca39912-0f73-4575-9c54-c48c82403067",
   "metadata": {},
   "source": [
    "Como conjuntos ordenados, se pueden realizar operaciones de intersección, unión, o diferencia simétrica"
   ]
  },
  {
   "cell_type": "code",
   "execution_count": 38,
   "id": "aac247ed-8dd6-415c-9b3d-ddcdb73bb596",
   "metadata": {},
   "outputs": [
    {
     "name": "stdout",
     "output_type": "stream",
     "text": [
      "Int64Index([3, 5, 7], dtype='int64')\n",
      "Int64Index([1, 2, 3, 5, 7, 9, 11], dtype='int64')\n",
      "Int64Index([1, 2, 9, 11], dtype='int64')\n"
     ]
    }
   ],
   "source": [
    "indA = pd.Index([1, 3, 5, 7, 9])\n",
    "indB = pd.Index([2, 3, 5, 7, 11])\n",
    "print(indA & indB)\n",
    "print(indA | indB)\n",
    "print(indA ^ indB)"
   ]
  },
  {
   "cell_type": "markdown",
   "id": "75c264bd-c749-4788-9b45-bbeae0430ed2",
   "metadata": {},
   "source": [
    "## Indexación y selección\n",
    "\n",
    "La selección e indexación posibilita tomar partes de las series o dataframe para realizar algun tipo de procesamiento con estos."
   ]
  },
  {
   "cell_type": "markdown",
   "id": "77f62bbb-de64-4360-940c-98c850726b1a",
   "metadata": {},
   "source": [
    "### Selección en Series\n",
    "\n",
    "Vimos que las Series pueden ser tratadas como un diccionario teniendo en cuenta que la llave esta dada por el nombre del índice. Adicionalmente, se vio que a diferencia de un diccionario, tambien tiene las características de un arreglo de numpy, por lo que se pueden realizar slicing en los mismos"
   ]
  },
  {
   "cell_type": "code",
   "execution_count": 39,
   "id": "3fa180b0-0878-4d8f-9277-179e6e59aad5",
   "metadata": {},
   "outputs": [
    {
     "name": "stdout",
     "output_type": "stream",
     "text": [
      "a    0.25\n",
      "b    0.50\n",
      "c    0.75\n",
      "d    1.00\n",
      "dtype: float64\n"
     ]
    }
   ],
   "source": [
    "import pandas as pd\n",
    "data = pd.Series([0.25, 0.5, 0.75, 1.0],\n",
    "                 index=['a', 'b', 'c', 'd'])\n",
    "print(data)"
   ]
  },
  {
   "cell_type": "code",
   "execution_count": 40,
   "id": "f8374fc6-48a3-4798-af68-79c7c16c512c",
   "metadata": {},
   "outputs": [
    {
     "data": {
      "text/plain": [
       "0.5"
      ]
     },
     "execution_count": 40,
     "metadata": {},
     "output_type": "execute_result"
    }
   ],
   "source": [
    "data['b']"
   ]
  },
  {
   "cell_type": "code",
   "execution_count": 41,
   "id": "00f37610-26f9-42b1-90c1-a9ea59284790",
   "metadata": {},
   "outputs": [
    {
     "data": {
      "text/plain": [
       "True"
      ]
     },
     "execution_count": 41,
     "metadata": {},
     "output_type": "execute_result"
    }
   ],
   "source": [
    "'a' in data"
   ]
  },
  {
   "cell_type": "code",
   "execution_count": 42,
   "id": "612a86e4-5cf1-4473-9405-acd52888cc44",
   "metadata": {},
   "outputs": [
    {
     "data": {
      "text/plain": [
       "Index(['a', 'b', 'c', 'd'], dtype='object')"
      ]
     },
     "execution_count": 42,
     "metadata": {},
     "output_type": "execute_result"
    }
   ],
   "source": [
    "data.keys()"
   ]
  },
  {
   "cell_type": "code",
   "execution_count": 43,
   "id": "ebbbff18-6c17-4bb8-b2ec-c9d19f509f2c",
   "metadata": {},
   "outputs": [
    {
     "data": {
      "text/plain": [
       "[('a', 0.25), ('b', 0.5), ('c', 0.75), ('d', 1.0)]"
      ]
     },
     "execution_count": 43,
     "metadata": {},
     "output_type": "execute_result"
    }
   ],
   "source": [
    "list(data.items())"
   ]
  },
  {
   "cell_type": "code",
   "execution_count": 44,
   "id": "4e1c7250-5ed3-4fb2-8841-cbc561d5374a",
   "metadata": {},
   "outputs": [
    {
     "data": {
      "text/plain": [
       "a    0.25\n",
       "b    0.50\n",
       "c    0.75\n",
       "d    1.00\n",
       "e    1.25\n",
       "dtype: float64"
      ]
     },
     "execution_count": 44,
     "metadata": {},
     "output_type": "execute_result"
    }
   ],
   "source": [
    "data['e'] = 1.25\n",
    "data"
   ]
  },
  {
   "cell_type": "code",
   "execution_count": 45,
   "id": "69718354-5ed0-4966-be7a-db034d7ff125",
   "metadata": {},
   "outputs": [
    {
     "data": {
      "text/plain": [
       "a    0.25\n",
       "b    0.50\n",
       "c    0.75\n",
       "dtype: float64"
      ]
     },
     "execution_count": 45,
     "metadata": {},
     "output_type": "execute_result"
    }
   ],
   "source": [
    "# slicing by explicit index\n",
    "data['a':'c']"
   ]
  },
  {
   "cell_type": "code",
   "execution_count": 46,
   "id": "60231c71-9f99-45c6-b9df-985dff52a70e",
   "metadata": {},
   "outputs": [
    {
     "data": {
      "text/plain": [
       "a    0.25\n",
       "b    0.50\n",
       "dtype: float64"
      ]
     },
     "execution_count": 46,
     "metadata": {},
     "output_type": "execute_result"
    }
   ],
   "source": [
    "# slicing by implicit integer index\n",
    "data[0:2]"
   ]
  },
  {
   "cell_type": "code",
   "execution_count": 47,
   "id": "14e4148d-f492-47b3-8bde-d00983b219fd",
   "metadata": {},
   "outputs": [
    {
     "data": {
      "text/plain": [
       "b    0.50\n",
       "c    0.75\n",
       "dtype: float64"
      ]
     },
     "execution_count": 47,
     "metadata": {},
     "output_type": "execute_result"
    }
   ],
   "source": [
    "# masking\n",
    "data[(data > 0.3) & (data < 0.8)]"
   ]
  },
  {
   "cell_type": "code",
   "execution_count": 48,
   "id": "a7b3ef3c-8cdb-4450-8994-e2863b24d38b",
   "metadata": {},
   "outputs": [
    {
     "data": {
      "text/plain": [
       "a    0.25\n",
       "e    1.25\n",
       "dtype: float64"
      ]
     },
     "execution_count": 48,
     "metadata": {},
     "output_type": "execute_result"
    }
   ],
   "source": [
    "# fancy indexing\n",
    "data[['a', 'e']]"
   ]
  },
  {
   "cell_type": "markdown",
   "id": "d62e6d73-c154-4af2-8342-53b14ade41ca",
   "metadata": {},
   "source": [
    "Otra forma de acceder a la información dentro de una serie de pandas, es utilizando los atributos `loc`, `iloc`, y `ix`. Lo anterior se realiza con el objetivo de no generar confusiones cuandos los indices de las series son números. Por ejemplo"
   ]
  },
  {
   "cell_type": "code",
   "execution_count": 49,
   "id": "48b5c718-30be-46bc-ba06-8765ba87f03d",
   "metadata": {},
   "outputs": [
    {
     "data": {
      "text/plain": [
       "1    a\n",
       "3    b\n",
       "5    c\n",
       "dtype: object"
      ]
     },
     "execution_count": 49,
     "metadata": {},
     "output_type": "execute_result"
    }
   ],
   "source": [
    "data = pd.Series(['a', 'b', 'c'], index=[1, 3, 5])\n",
    "data"
   ]
  },
  {
   "cell_type": "code",
   "execution_count": 50,
   "id": "695de5d1-feaf-4788-a659-5db38155fcbe",
   "metadata": {},
   "outputs": [
    {
     "data": {
      "text/plain": [
       "'a'"
      ]
     },
     "execution_count": 50,
     "metadata": {},
     "output_type": "execute_result"
    }
   ],
   "source": [
    "# explicit index when indexing\n",
    "data[1]"
   ]
  },
  {
   "cell_type": "code",
   "execution_count": 52,
   "id": "392c083e-07eb-40be-9847-03ee8c508bbf",
   "metadata": {},
   "outputs": [
    {
     "data": {
      "text/plain": [
       "3    b\n",
       "5    c\n",
       "dtype: object"
      ]
     },
     "execution_count": 52,
     "metadata": {},
     "output_type": "execute_result"
    }
   ],
   "source": [
    "# implicit index when slicing\n",
    "data[1:3]"
   ]
  },
  {
   "cell_type": "markdown",
   "id": "8cc4df6b-d6f6-499e-9ab8-5880f1b6d88f",
   "metadata": {},
   "source": [
    "Para evitar estas confusiones, pandas brinda atributos a las series y dataframe para exponer parte del objeto. No se considera métodos, pero si atributos propios del objeto. Cuando utilizamos `loc` hacemos referencia al indice explicito de la serie"
   ]
  },
  {
   "cell_type": "code",
   "execution_count": 54,
   "id": "c506f526-b4c4-4a0a-89f0-18242bd433f4",
   "metadata": {},
   "outputs": [
    {
     "data": {
      "text/plain": [
       "'a'"
      ]
     },
     "execution_count": 54,
     "metadata": {},
     "output_type": "execute_result"
    }
   ],
   "source": [
    "data.loc[1]"
   ]
  },
  {
   "cell_type": "code",
   "execution_count": 56,
   "id": "9ec6c5b2-530d-4d9a-bd61-27798dfd1ef2",
   "metadata": {},
   "outputs": [
    {
     "data": {
      "text/plain": [
       "1    a\n",
       "3    b\n",
       "dtype: object"
      ]
     },
     "execution_count": 56,
     "metadata": {},
     "output_type": "execute_result"
    }
   ],
   "source": [
    "data.loc[1:3]"
   ]
  },
  {
   "cell_type": "markdown",
   "id": "067f525a-d497-4756-97c8-67f02560806a",
   "metadata": {},
   "source": [
    "Por otro lado `iloc` hace refencia a la indexación implicita, como si se trabajara con un arreglo de numpy"
   ]
  },
  {
   "cell_type": "code",
   "execution_count": 57,
   "id": "a9ffc10a-1c23-4b85-9885-96171c88008c",
   "metadata": {},
   "outputs": [
    {
     "data": {
      "text/plain": [
       "'b'"
      ]
     },
     "execution_count": 57,
     "metadata": {},
     "output_type": "execute_result"
    }
   ],
   "source": [
    "data.iloc[1]"
   ]
  },
  {
   "cell_type": "code",
   "execution_count": 58,
   "id": "b62f3212-1924-4968-b8ac-58aebf4c40eb",
   "metadata": {},
   "outputs": [
    {
     "data": {
      "text/plain": [
       "3    b\n",
       "5    c\n",
       "dtype: object"
      ]
     },
     "execution_count": 58,
     "metadata": {},
     "output_type": "execute_result"
    }
   ],
   "source": [
    "data.iloc[1:3]"
   ]
  },
  {
   "cell_type": "markdown",
   "id": "38a1d5af-3bb9-4946-a246-3792e6baf33b",
   "metadata": {},
   "source": []
  },
  {
   "cell_type": "markdown",
   "id": "d5fc94dc-01dd-41a4-97a4-3f19bfa531be",
   "metadata": {},
   "source": [
    "## Operaciones y manejo de datos faltantes"
   ]
  },
  {
   "cell_type": "markdown",
   "id": "3419557e-3dbf-4625-b7fc-1e6a8618e52e",
   "metadata": {},
   "source": [
    "## Combinación de conjunto de datos"
   ]
  },
  {
   "cell_type": "markdown",
   "id": "25c9d58b-5ae4-4da9-b60e-43c3d7e4abfe",
   "metadata": {},
   "source": [
    "## Agregaciones y agrupaciones"
   ]
  },
  {
   "cell_type": "markdown",
   "id": "992a1bad-a124-4750-aead-9bc334fa0151",
   "metadata": {},
   "source": [
    "## Apuntes finales"
   ]
  },
  {
   "cell_type": "code",
   "execution_count": null,
   "id": "97fead17-f60e-45ce-ac09-a9a4bc65edf4",
   "metadata": {},
   "outputs": [],
   "source": []
  },
  {
   "cell_type": "code",
   "execution_count": null,
   "id": "7878c0c2-fd5e-4449-a7ab-8a19740d565d",
   "metadata": {},
   "outputs": [],
   "source": []
  }
 ],
 "metadata": {
  "kernelspec": {
   "display_name": "Python 3 (ipykernel)",
   "language": "python",
   "name": "python3"
  },
  "language_info": {
   "codemirror_mode": {
    "name": "ipython",
    "version": 3
   },
   "file_extension": ".py",
   "mimetype": "text/x-python",
   "name": "python",
   "nbconvert_exporter": "python",
   "pygments_lexer": "ipython3",
   "version": "3.7.0"
  }
 },
 "nbformat": 4,
 "nbformat_minor": 5
}
