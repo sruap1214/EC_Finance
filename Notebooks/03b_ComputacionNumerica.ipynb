{
 "cells": [
  {
   "cell_type": "markdown",
   "id": "b7afeb4e-a725-4733-ba56-0629374a123b",
   "metadata": {},
   "source": [
    "<h1 align=\"center\"><b>Modelación Financiera I</b></h1>\n",
    "<h1 align=\"center\"><b> Módulo 3, parte 2 </b></h1>\n",
    "<h1 align=\"center\"><b> Computación numérica </b></h1>"
   ]
  },
  {
   "cell_type": "markdown",
   "id": "92f3cb9a-0cfa-4612-a196-948c2002448a",
   "metadata": {},
   "source": [
    "*** \n",
    "\n",
    "***Docente:*** Santiago Rúa Pérez, PhD.\n",
    "\n",
    "***e-mail:*** srua@udemedellin.edu.co\n",
    "\n",
    "***Herramienta:*** [Jupyter Notebook](http://jupyter.org/)\n",
    "\n",
    "***Kernel:*** Python 3.7\n",
    "\n",
    "***MEDELLÍN - COLOMBIA***\n",
    "\n",
    "***2022***\n",
    "\n",
    "***"
   ]
  },
  {
   "cell_type": "markdown",
   "id": "841377aa-60e8-4831-9921-fa961104eeb1",
   "metadata": {},
   "source": [
    "<h1>Table of Contents<span class=\"tocSkip\"></span></h1>\n",
    "<div class=\"toc\"><ul class=\"toc-item\">\n",
    "    <li><span><a href=\"#Numpy:-conceptos-finales\" data-toc-modified-id=\"Numpy:-conceptos-finales-1\"><span class=\"toc-item-num\">1&nbsp;&nbsp;</span>Numpy: conceptos finales</a></span></li>\n",
    "<div class=\"toc\"><ul class=\"toc-item\">    \n",
    "    <li><span><a href=\"#Broadcasting\" data-toc-modified-id=\"Broadcasting-1.1\"><span class=\"toc-item-num\">1.1&nbsp;&nbsp;</span>Broadcasting</a></span></li>\n",
    "    <li><span><a href=\"#Comparaciones,-m%C3%A1scaras-y-l%C3%B3gica-booleana\" data-toc-modified-id=\"Comparaciones,-m%C3%A1scaras-y-l%C3%B3gica-booleana-1.2\"><span class=\"toc-item-num\">1.2&nbsp;&nbsp;</span>Comparaciones, máscaras y lógica booleana</a></span></li>\n",
    "    </ul></div>\n",
    "    <li><span><a href=\"#Funciones-propias\" data-toc-modified-id=\"Funciones-propias-2\"><span class=\"toc-item-num\">2&nbsp;&nbsp;</span>Funciones propias</a></span></li>\n",
    "    <li><span><a href=\"#Programaci%C3%B3n-orientada-a-objetos\" data-toc-modified-id=\"Programaci%C3%B3n-orientada-a-objetos-3\"><span class=\"toc-item-num\">3&nbsp;&nbsp;</span>Programación orientada a objetos</a></span></li>\n",
    "    <div class=\"toc\"><ul class=\"toc-item\">  \n",
    "     <li><span><a href=\"#Ciclo-de-vida-de-un-objeto\" data-toc-modified-id=\"Ciclo-de-vida-de-un-objeto-3.1\"><span class=\"toc-item-num\">3.1&nbsp;&nbsp;</span>Ciclo de vida de un objeto</a></span></li>   \n",
    "     <li><span><a href=\"#Herencia-de-clases\" data-toc-modified-id=\"Herencia-de-clases-3.2\"><span class=\"toc-item-num\">3.2&nbsp;&nbsp;</span>Herencia de clases</a></span></li>   \n",
    "    </ul></div>    \n",
    "    </ul></div>"
   ]
  },
  {
   "cell_type": "markdown",
   "id": "4a8a160e-7990-42d6-a3de-012a87f4daff",
   "metadata": {},
   "source": [
    "## Numpy: conceptos finales\n",
    "\n",
    "En esta última parte se verá dos conceptos útiles cuando se tratan con arreglo de la libreria de `numpy`: boradcasting, el cual nos sirve para vectorizar operaciones, y las comparaciones."
   ]
  },
  {
   "cell_type": "markdown",
   "id": "44d7e944-4207-4076-b5cb-b71850f0ada3",
   "metadata": {},
   "source": [
    "### Broadcasting\n",
    "\n",
    "- En la primera parte de este módulo vimos como utilizando la vectorización de operaciones, se podía aumentar la velocidad de ejecución de las operaciones realizadas con los arreglos de `numpy`. Otra forma de hacer lo anterior, es utilizando `broadcasting`. Básicamente es un conjutno de reglas para aplicar a funciones universales binarias que pueden ser usadas en arreglos de diferentes dimensiones.\n",
    "\n",
    "Por ejemplo, si se quiere suma un número a una matriz, matemáticamente las dos matrices tienen que ser de la misma dimensión"
   ]
  },
  {
   "cell_type": "code",
   "execution_count": 1,
   "id": "f1358e1a-7e8e-4c72-b8d0-775733210359",
   "metadata": {},
   "outputs": [
    {
     "data": {
      "text/plain": [
       "array([5, 6, 7])"
      ]
     },
     "execution_count": 1,
     "metadata": {},
     "output_type": "execute_result"
    }
   ],
   "source": [
    "import numpy as np\n",
    "a = np.array([0, 1, 2])\n",
    "b = np.array([5, 5, 5])\n",
    "a + b"
   ]
  },
  {
   "cell_type": "markdown",
   "id": "948851f3-f6c8-4caf-9936-77aa5291c12c",
   "metadata": {},
   "source": [
    "Sin embargo, Python permite realizar boradcasting a estas operaciones binariasde diferentes tamaños, es decir, lo anterior se puede resolver simplemente haciendo lo siguiente"
   ]
  },
  {
   "cell_type": "code",
   "execution_count": 2,
   "id": "6153ea5d-edca-4eeb-909a-b705513cd8b3",
   "metadata": {},
   "outputs": [
    {
     "data": {
      "text/plain": [
       "array([5, 6, 7])"
      ]
     },
     "execution_count": 2,
     "metadata": {},
     "output_type": "execute_result"
    }
   ],
   "source": [
    "a+5"
   ]
  },
  {
   "cell_type": "markdown",
   "id": "82b8e0e3-1e63-4541-8159-cc0922526d1a",
   "metadata": {},
   "source": [
    "Lo anterior inclusive se puede extender a arreglos multidimensionales"
   ]
  },
  {
   "cell_type": "code",
   "execution_count": 3,
   "id": "dbcdfcb6-447b-4da1-95e3-60a800e7c67d",
   "metadata": {},
   "outputs": [
    {
     "data": {
      "text/plain": [
       "array([[1., 1., 1.],\n",
       "       [1., 1., 1.],\n",
       "       [1., 1., 1.]])"
      ]
     },
     "execution_count": 3,
     "metadata": {},
     "output_type": "execute_result"
    }
   ],
   "source": [
    "M = np.ones((3, 3))\n",
    "M"
   ]
  },
  {
   "cell_type": "code",
   "execution_count": 4,
   "id": "18c74db1-933c-4c72-a583-19a862edb0f6",
   "metadata": {},
   "outputs": [
    {
     "data": {
      "text/plain": [
       "array([[1., 2., 3.],\n",
       "       [1., 2., 3.],\n",
       "       [1., 2., 3.]])"
      ]
     },
     "execution_count": 4,
     "metadata": {},
     "output_type": "execute_result"
    }
   ],
   "source": [
    "M + a"
   ]
  },
  {
   "cell_type": "markdown",
   "id": "3b95f1a0-b56e-4f0d-bb38-f2cb463b07e5",
   "metadata": {},
   "source": [
    "En el caso anterior el arreglo `a` se estira y se ajusta a la dimensión de `M`, para que el resultado tenga sentido. Miremos un caso mas complejo"
   ]
  },
  {
   "cell_type": "markdown",
   "id": "ecd15e1e-dbf5-48e8-85cb-6e32fdce5a71",
   "metadata": {},
   "source": [
    "a = np.arange(3)\n",
    "b = np.arange(3)[:, np.newaxis]\n",
    "\n",
    "print(a)\n",
    "print(b)"
   ]
  },
  {
   "cell_type": "code",
   "execution_count": 5,
   "id": "0498617c-b0d3-4bfc-8944-0eb7a3dc370e",
   "metadata": {},
   "outputs": [
    {
     "data": {
      "text/plain": [
       "array([5, 6, 7])"
      ]
     },
     "execution_count": 5,
     "metadata": {},
     "output_type": "execute_result"
    }
   ],
   "source": [
    "a+b"
   ]
  },
  {
   "cell_type": "markdown",
   "id": "bd65ce2f-aca8-49f3-97b9-0763756ce1fa",
   "metadata": {},
   "source": [
    "Las operaciones anteriores se pueden ver visualmente de la siguiente forma\n",
    "\n",
    "![Broadcasting Visual](img/Broadcasting.png)"
   ]
  },
  {
   "cell_type": "markdown",
   "id": "6bf07b69-a5c2-495b-aeac-8c7a5d35a1d3",
   "metadata": {},
   "source": [
    "#### Reglas del broadcasting\n",
    "\n",
    "Para realizar el boradcasting, es importante tener claro las reglas de como se aplican:\n",
    "\n",
    "- Regla 1: si dos arreglos difieren en el número de dimensiones, el tamaño del arreglo con menos dimension es `padded` con uno en la parte izquierda\n",
    "\n",
    "- Regla 2: si el tamaño de los dos arreglos no coincide en ninguna dimensión, el arreglo con dimension igual a 1 en esa dimensión se estira para igual el otro arreglo\n",
    "\n",
    "- Regla 3: si ninguna dimensión coinciden en tamaños, y tampoco es igual a 1, entonces se genera un error"
   ]
  },
  {
   "cell_type": "markdown",
   "id": "1f3a246c-eac6-40b8-b6e1-5a9f0e786a87",
   "metadata": {},
   "source": [
    "**Ejemplo 1**"
   ]
  },
  {
   "cell_type": "code",
   "execution_count": 6,
   "id": "49848cf0-079b-4b99-a4a6-f51e02d3319d",
   "metadata": {},
   "outputs": [
    {
     "name": "stdout",
     "output_type": "stream",
     "text": [
      "[[1. 1. 1.]\n",
      " [1. 1. 1.]]\n",
      "[0 1 2]\n"
     ]
    }
   ],
   "source": [
    "M = np.ones((2, 3))\n",
    "a = np.arange(3)\n",
    "print(M)\n",
    "print(a)"
   ]
  },
  {
   "cell_type": "markdown",
   "id": "f5e2c342-8878-41ff-aa65-973fd89dda0d",
   "metadata": {},
   "source": [
    "Miremos la operacion de estos dos arreglos\n",
    "\n",
    "- ``M.shape = (2, 3)``\n",
    "- ``a.shape = (3,)``\n",
    "\n",
    "Analizando la regla 1, el arreglo ``a`` tiene menos dimensiones, entonces hacemos padding al lado izquierdo con unos \n",
    "\n",
    "- ``M.shape -> (2, 3)``\n",
    "- ``a.shape -> (1, 3)``\n",
    "\n",
    "Segun la regla 2, la primera dimensión no cuadra, entonces estiramos esta dimensión para que se genere la operación\n",
    "\n",
    "- ``M.shape -> (2, 3)``\n",
    "- ``a.shape -> (2, 3)``\n",
    "\n",
    "Los tamaños cuadran, entonces se realiza la operación"
   ]
  },
  {
   "cell_type": "code",
   "execution_count": 7,
   "id": "a1ace9e4-f2dd-4761-893e-f2c36b8d0774",
   "metadata": {},
   "outputs": [
    {
     "data": {
      "text/plain": [
       "array([[1., 2., 3.],\n",
       "       [1., 2., 3.]])"
      ]
     },
     "execution_count": 7,
     "metadata": {},
     "output_type": "execute_result"
    }
   ],
   "source": [
    "M+a"
   ]
  },
  {
   "cell_type": "markdown",
   "id": "e98484fd-4f7a-4f8a-bd6b-44bcd0961757",
   "metadata": {},
   "source": [
    "**Ejemplo 2**"
   ]
  },
  {
   "cell_type": "code",
   "execution_count": 8,
   "id": "2ca098a4-45a8-4985-8e4b-14f7f55df6a6",
   "metadata": {},
   "outputs": [
    {
     "name": "stdout",
     "output_type": "stream",
     "text": [
      "[[0]\n",
      " [1]\n",
      " [2]]\n",
      "[0 1 2]\n"
     ]
    }
   ],
   "source": [
    "a = np.arange(3).reshape((3, 1))\n",
    "b = np.arange(3)\n",
    "print(a)\n",
    "print(b)"
   ]
  },
  {
   "cell_type": "code",
   "execution_count": 9,
   "id": "ac34de18-4849-4a47-bba9-f79da5052104",
   "metadata": {},
   "outputs": [
    {
     "name": "stdout",
     "output_type": "stream",
     "text": [
      "(3, 1)\n",
      "(3,)\n"
     ]
    }
   ],
   "source": [
    "print(a.shape)\n",
    "print(b.shape)"
   ]
  },
  {
   "cell_type": "code",
   "execution_count": 10,
   "id": "47ff6ee0-7d08-4f76-9fa6-6722cae07d6c",
   "metadata": {},
   "outputs": [
    {
     "data": {
      "text/plain": [
       "array([[0, 1, 2],\n",
       "       [1, 2, 3],\n",
       "       [2, 3, 4]])"
      ]
     },
     "execution_count": 10,
     "metadata": {},
     "output_type": "execute_result"
    }
   ],
   "source": [
    "a + b"
   ]
  },
  {
   "cell_type": "markdown",
   "id": "a6d989b6-241c-4009-8011-d6680d6bdf98",
   "metadata": {},
   "source": [
    "**Ejemplo 3**"
   ]
  },
  {
   "cell_type": "code",
   "execution_count": 11,
   "id": "7a8219db-2193-4df0-a9de-291c0e611194",
   "metadata": {},
   "outputs": [],
   "source": [
    "M = np.ones((3, 2))\n",
    "a = np.arange(3)"
   ]
  },
  {
   "cell_type": "markdown",
   "id": "0e5986c6-52dc-43a9-b62f-25c4946df590",
   "metadata": {},
   "source": [
    "Los arreglos tienen estas dimensiones\n",
    "- ``M.shape = (3, 2)``\n",
    "- ``a.shape = (3,)``\n",
    "\n",
    "La regla 1 pone unos al lado izquierdo de las dimensiones\n",
    "\n",
    "- ``M.shape -> (3, 2)``\n",
    "- ``a.shape -> (1, 3)``\n",
    "\n",
    "La regla 2 toma la primera dimensión y la estira, pero no coincide la matriz final, por lo que no se puede realizar\n",
    "\n",
    "- ``M.shape -> (3, 2)``\n",
    "- ``a.shape -> (3, 3)``"
   ]
  },
  {
   "cell_type": "markdown",
   "id": "b497d816-a95b-434c-8e78-cf103e4771a6",
   "metadata": {},
   "source": [
    "### Comparaciones, máscaras y lógica booleana\n",
    "\n",
    "Es importante entender el concepto de máscaras, ya que nos posibilitar modificar partes específicas de un arreglo dada una condición que se deba cumplir. Por ejemplo, se desea contar todos los valores mayores a cierto valor, o remover los outliers que estan por encima de algun umbral. "
   ]
  },
  {
   "cell_type": "markdown",
   "id": "3c4a66a3-8bd8-49ce-b0bc-0930360b1669",
   "metadata": {},
   "source": [
    "#### Contando dias lluviosos\n",
    "\n",
    "Supongase que se tiene la precipitación de cada día del año dado una ciudad. Se cargará la estadística de la ciudad de Seattle de 2014."
   ]
  },
  {
   "cell_type": "code",
   "execution_count": 12,
   "id": "441f6a56-45f9-4474-8da7-1aec6309bf76",
   "metadata": {},
   "outputs": [
    {
     "data": {
      "text/plain": [
       "(365,)"
      ]
     },
     "execution_count": 12,
     "metadata": {},
     "output_type": "execute_result"
    }
   ],
   "source": [
    "import numpy as np\n",
    "import pandas as pd\n",
    "\n",
    "# use pandas to extract rainfall inches as a NumPy array\n",
    "rainfall = pd.read_csv('data/Seattle2014.csv')['PRCP'].values\n",
    "inches = rainfall / 254.0  # 1/10mm -> inches\n",
    "inches.shape"
   ]
  },
  {
   "cell_type": "code",
   "execution_count": 13,
   "id": "4a505a47-23ec-458c-8095-2d46dd61f27b",
   "metadata": {},
   "outputs": [
    {
     "data": {
      "image/png": "[encoded data removed]",
      "text/plain": [
       "<Figure size 640x480 with 1 Axes>"
      ]
     },
     "metadata": {},
     "output_type": "display_data"
    }
   ],
   "source": [
    "import matplotlib.pyplot as plt\n",
    "plt.hist(inches, 40);"
   ]
  },
  {
   "cell_type": "markdown",
   "id": "5826d095-f789-4092-af04-2520c47f6164",
   "metadata": {},
   "source": [
    "Se puede analizar rápidamente que la mayoria de los dias en Seattle no llueve. Sin embargo, si quisieramos saber cuantos dias hubo de lluvia, o cual es el promedio de precipitaciones, no es posible saberlo. Una forma de resolverlo es recorriendo todo el vector y realizar la operación. "
   ]
  },
  {
   "cell_type": "markdown",
   "id": "77cfef4d-a3a6-4754-a66a-14edc0d03b84",
   "metadata": {},
   "source": [
    "#### Operadores de comparación\n",
    "\n",
    "Hasta el momento se ha enfocado todos los módulos en hacer operaciones matemáticas con los arreglos. Sin embargo, es importante realizar operaciones lógicas con los mismos. Los operadores de comparación, son funciones universales que realizan las operaciones elemento por elemento. El resultado siempre será del tipo Booleano"
   ]
  },
  {
   "cell_type": "code",
   "execution_count": 14,
   "id": "2649bcea-71a2-4578-b1f6-85758c2e73f7",
   "metadata": {},
   "outputs": [
    {
     "data": {
      "text/plain": [
       "array([ True,  True, False, False, False])"
      ]
     },
     "execution_count": 14,
     "metadata": {},
     "output_type": "execute_result"
    }
   ],
   "source": [
    "x = np.array([1, 2, 3, 4, 5])\n",
    "x < 3"
   ]
  },
  {
   "cell_type": "code",
   "execution_count": 15,
   "id": "0ca5e422-ddf7-499b-af73-ceba9f074768",
   "metadata": {},
   "outputs": [
    {
     "data": {
      "text/plain": [
       "array([False, False, False,  True,  True])"
      ]
     },
     "execution_count": 15,
     "metadata": {},
     "output_type": "execute_result"
    }
   ],
   "source": [
    "x > 3"
   ]
  },
  {
   "cell_type": "code",
   "execution_count": 16,
   "id": "727ff89c-aa7f-4dde-8bdf-8b7b15774f13",
   "metadata": {},
   "outputs": [
    {
     "data": {
      "text/plain": [
       "array([ True,  True,  True, False, False])"
      ]
     },
     "execution_count": 16,
     "metadata": {},
     "output_type": "execute_result"
    }
   ],
   "source": [
    "x <= 3"
   ]
  },
  {
   "cell_type": "code",
   "execution_count": 17,
   "id": "faf64034-9fa0-456b-b959-d566ad8a5432",
   "metadata": {},
   "outputs": [
    {
     "data": {
      "text/plain": [
       "array([False, False,  True,  True,  True])"
      ]
     },
     "execution_count": 17,
     "metadata": {},
     "output_type": "execute_result"
    }
   ],
   "source": [
    "x >= 3"
   ]
  },
  {
   "cell_type": "code",
   "execution_count": 18,
   "id": "3707f1c9-a58e-4526-9bfe-aa2a36a41dd0",
   "metadata": {},
   "outputs": [
    {
     "data": {
      "text/plain": [
       "array([ True,  True, False,  True,  True])"
      ]
     },
     "execution_count": 18,
     "metadata": {},
     "output_type": "execute_result"
    }
   ],
   "source": [
    "x != 3"
   ]
  },
  {
   "cell_type": "code",
   "execution_count": 19,
   "id": "0e6e65b2-09e0-493a-ac7c-9d7a480478c9",
   "metadata": {},
   "outputs": [
    {
     "data": {
      "text/plain": [
       "array([False, False,  True, False, False])"
      ]
     },
     "execution_count": 19,
     "metadata": {},
     "output_type": "execute_result"
    }
   ],
   "source": [
    "x == 3"
   ]
  },
  {
   "cell_type": "code",
   "execution_count": 20,
   "id": "7d753437-16f8-4a4b-9b2e-715e20c4b4b6",
   "metadata": {},
   "outputs": [
    {
     "data": {
      "text/plain": [
       "array([False,  True, False, False, False])"
      ]
     },
     "execution_count": 20,
     "metadata": {},
     "output_type": "execute_result"
    }
   ],
   "source": [
    "(2 * x) == (x ** 2)"
   ]
  },
  {
   "cell_type": "markdown",
   "id": "a2a10304-83ab-4de5-9753-a27e9fa15de5",
   "metadata": {},
   "source": [
    "#### Contando arreglos binarios"
   ]
  },
  {
   "cell_type": "code",
   "execution_count": 21,
   "id": "83858413-07c2-47f2-a5db-5e357ed0a256",
   "metadata": {},
   "outputs": [
    {
     "data": {
      "text/plain": [
       "array([[5, 0, 3, 3],\n",
       "       [7, 9, 3, 5],\n",
       "       [2, 4, 7, 6]])"
      ]
     },
     "execution_count": 21,
     "metadata": {},
     "output_type": "execute_result"
    }
   ],
   "source": [
    "rng = np.random.RandomState(0)\n",
    "x = rng.randint(10, size=(3, 4))\n",
    "x"
   ]
  },
  {
   "cell_type": "code",
   "execution_count": 22,
   "id": "1ffa1d15-c02d-41c1-8168-ecd050bd5844",
   "metadata": {},
   "outputs": [
    {
     "data": {
      "text/plain": [
       "8"
      ]
     },
     "execution_count": 22,
     "metadata": {},
     "output_type": "execute_result"
    }
   ],
   "source": [
    "np.count_nonzero(x < 6)"
   ]
  },
  {
   "cell_type": "code",
   "execution_count": 23,
   "id": "fc541de0-90fc-408c-90ac-68515c292694",
   "metadata": {},
   "outputs": [
    {
     "data": {
      "text/plain": [
       "8"
      ]
     },
     "execution_count": 23,
     "metadata": {},
     "output_type": "execute_result"
    }
   ],
   "source": [
    "np.sum(x < 6)"
   ]
  },
  {
   "cell_type": "code",
   "execution_count": 24,
   "id": "4cca38da-0637-4070-8ca7-38bdcf906cc3",
   "metadata": {},
   "outputs": [
    {
     "name": "stdout",
     "output_type": "stream",
     "text": [
      "(3, 4)\n"
     ]
    },
    {
     "data": {
      "text/plain": [
       "array([4, 2, 2])"
      ]
     },
     "execution_count": 24,
     "metadata": {},
     "output_type": "execute_result"
    }
   ],
   "source": [
    "print(x.shape)\n",
    "np.sum(x < 6, axis=1)"
   ]
  },
  {
   "cell_type": "code",
   "execution_count": 25,
   "id": "925954b9-4f3c-4d5b-a83d-782d5c5e1115",
   "metadata": {},
   "outputs": [
    {
     "data": {
      "text/plain": [
       "True"
      ]
     },
     "execution_count": 25,
     "metadata": {},
     "output_type": "execute_result"
    }
   ],
   "source": [
    "np.any(x > 8)"
   ]
  },
  {
   "cell_type": "code",
   "execution_count": 26,
   "id": "c6bb9b10-172c-4ff4-a58e-c8f91b3cfc9a",
   "metadata": {},
   "outputs": [
    {
     "data": {
      "text/plain": [
       "True"
      ]
     },
     "execution_count": 26,
     "metadata": {},
     "output_type": "execute_result"
    }
   ],
   "source": [
    "np.all(x < 10)"
   ]
  },
  {
   "cell_type": "markdown",
   "id": "836caeb4-f35c-44e7-b286-f1a8fbddcfbb",
   "metadata": {},
   "source": [
    "#### Operadores booleanos"
   ]
  },
  {
   "cell_type": "code",
   "execution_count": 27,
   "id": "a92d95c9-9bc9-4538-afc5-af95a677f07f",
   "metadata": {},
   "outputs": [
    {
     "data": {
      "text/plain": [
       "29"
      ]
     },
     "execution_count": 27,
     "metadata": {},
     "output_type": "execute_result"
    }
   ],
   "source": [
    "np.sum((inches > 0.5) & (inches < 1))"
   ]
  },
  {
   "cell_type": "markdown",
   "id": "bfd533e3-c20f-48cf-8384-b2abde8dfd69",
   "metadata": {},
   "source": [
    "| Operator\t    | Equivalent ufunc    || Operator\t    | Equivalent ufunc    |\n",
    "|---------------|---------------------||---------------|---------------------|\n",
    "|``&``          |``np.bitwise_and``   ||&#124;         |``np.bitwise_or``    |\n",
    "|``^``          |``np.bitwise_xor``   ||``~``          |``np.bitwise_not``   |"
   ]
  },
  {
   "cell_type": "code",
   "execution_count": 28,
   "id": "53c8c712-a6f0-46ea-bf76-21b1d66cf7df",
   "metadata": {},
   "outputs": [
    {
     "name": "stdout",
     "output_type": "stream",
     "text": [
      "Número de días sin lluvias:        215\n",
      "Número de días con lluvias:        150\n",
      "Dias con mas de 0.5 in:            37\n",
      "Días de lluvia con < 0.2 in:       75\n"
     ]
    }
   ],
   "source": [
    "print(\"Número de días sin lluvias:       \", np.sum(inches == 0))\n",
    "print(\"Número de días con lluvias:       \", np.sum(inches != 0))\n",
    "print(\"Dias con mas de 0.5 in:           \", np.sum(inches > 0.5))\n",
    "print(\"Días de lluvia con < 0.2 in:      \", np.sum((inches > 0) &\n",
    "                                                (inches < 0.2)))"
   ]
  },
  {
   "cell_type": "markdown",
   "id": "95a566a5-19e8-41ab-82f5-9f3c4ea59254",
   "metadata": {},
   "source": [
    "## Funciones propias\n",
    "\n",
    "Python tiene funciones propias las cuales se han usado para realizar operaciones matemáticas específicas. Sin embargo, al igual que los demas lenguajes de programación, Python nos posibilita empaquetar código en lo que se conoce como funciones. Las funciones en Python esta dadas por la palabra clave `def`."
   ]
  },
  {
   "cell_type": "code",
   "execution_count": 29,
   "id": "85736f29-ed33-4064-ba8a-462a170165bf",
   "metadata": {},
   "outputs": [],
   "source": [
    "def print_lyrics():\n",
    "    print(\"I'm a lumberjack, and I'm okay.\")\n",
    "    print('I sleep all night and I work all day.')"
   ]
  },
  {
   "cell_type": "markdown",
   "id": "f1b4ceae-4f85-49f5-8b4f-4a89e12ce08d",
   "metadata": {},
   "source": [
    "Cuando se crea la función esta no se ejecuta hasta que sea llamada"
   ]
  },
  {
   "cell_type": "code",
   "execution_count": 30,
   "id": "711d022f-07f1-44a3-bce8-3b2c37a3fc89",
   "metadata": {},
   "outputs": [
    {
     "name": "stdout",
     "output_type": "stream",
     "text": [
      "I'm a lumberjack, and I'm okay.\n",
      "I sleep all night and I work all day.\n"
     ]
    }
   ],
   "source": [
    "print_lyrics()"
   ]
  },
  {
   "cell_type": "markdown",
   "id": "a0512fef-f442-424e-9c1e-e5e30670645e",
   "metadata": {},
   "source": [
    "es importante entender que las funciones en python, son objetos de la clase funcion, es decir"
   ]
  },
  {
   "cell_type": "code",
   "execution_count": 31,
   "id": "7b30dfb9-405a-43c2-a902-88250813c2d7",
   "metadata": {},
   "outputs": [
    {
     "name": "stdout",
     "output_type": "stream",
     "text": [
      "<class 'function'>\n"
     ]
    }
   ],
   "source": [
    "print(type(print_lyrics))"
   ]
  },
  {
   "cell_type": "markdown",
   "id": "bfcc2835-f1d3-4b74-a281-cf0b51604dbf",
   "metadata": {},
   "source": [
    "Al igual que otros lenguajes de programación, las funciones en python pueden recibir varios parámetros y devover varios valores"
   ]
  },
  {
   "cell_type": "code",
   "execution_count": 32,
   "id": "83f06206-a6c7-4b71-8232-9aff0345c484",
   "metadata": {},
   "outputs": [],
   "source": [
    "def cuadrado_cubo(x):\n",
    "    return x**2, x**3"
   ]
  },
  {
   "cell_type": "code",
   "execution_count": 33,
   "id": "a53ae4be-e669-45e0-b3f0-5b4a56e2ffc1",
   "metadata": {},
   "outputs": [
    {
     "name": "stdout",
     "output_type": "stream",
     "text": [
      "4\n",
      "8\n"
     ]
    }
   ],
   "source": [
    "a, b = cuadrado_cubo(2)\n",
    "print(a)\n",
    "print(b)"
   ]
  },
  {
   "cell_type": "markdown",
   "id": "f1d4cf8d-b061-4cf5-b6f4-10037b0df226",
   "metadata": {},
   "source": [
    "Adicionalmente Python posibilita tener parámetros por defecto cuando no son llamados"
   ]
  },
  {
   "cell_type": "code",
   "execution_count": 34,
   "id": "75f26a9b-6cc9-4258-a030-c99d035d722c",
   "metadata": {},
   "outputs": [],
   "source": [
    "import numpy as np\n",
    "\n",
    "def exponente(x,n=1):\n",
    "    return np.power(x,n)"
   ]
  },
  {
   "cell_type": "code",
   "execution_count": 35,
   "id": "36cc09ee-95bc-4bed-9bbb-22d20f4af79c",
   "metadata": {},
   "outputs": [
    {
     "data": {
      "text/plain": [
       "25"
      ]
     },
     "execution_count": 35,
     "metadata": {},
     "output_type": "execute_result"
    }
   ],
   "source": [
    "exponente(5,2)"
   ]
  },
  {
   "cell_type": "code",
   "execution_count": 36,
   "id": "ec0e1933-f318-4f72-aaf9-404a53cfbb53",
   "metadata": {},
   "outputs": [
    {
     "data": {
      "text/plain": [
       "5"
      ]
     },
     "execution_count": 36,
     "metadata": {},
     "output_type": "execute_result"
    }
   ],
   "source": [
    "exponente(5)"
   ]
  },
  {
   "cell_type": "markdown",
   "id": "d92fe4b6-4778-40a9-bca2-cf44e20cb0aa",
   "metadata": {},
   "source": [
    "## Programación orientada a objetos\n",
    "\n",
    "Hasta el momento hemos usado muchos objetos en el desarrollo de los diferentes módulos. El objetivo es que se entienda como es el funcionamiento y la función de crear un programa por clases y objetos."
   ]
  },
  {
   "cell_type": "code",
   "execution_count": 37,
   "id": "00125309-148a-459a-a1bb-a3cc47971a95",
   "metadata": {},
   "outputs": [
    {
     "name": "stdout",
     "output_type": "stream",
     "text": [
      "python\n",
      "python\n",
      "python\n"
     ]
    }
   ],
   "source": [
    "stuff = list()\n",
    "stuff.append('python')\n",
    "stuff.append('santiago')\n",
    "stuff.sort()\n",
    "print (stuff[0])\n",
    "print (stuff.__getitem__(0))\n",
    "print (list.__getitem__(stuff,0))"
   ]
  },
  {
   "cell_type": "markdown",
   "id": "5e05c04a-7c95-4da0-ae14-09657ac5c346",
   "metadata": {},
   "source": [
    "El código anterior, primero se *construye* un objeto de la clase **list**, la segunda y tercera línea se llama al método **append()**, la cuarta línea de código utiliza el método **sort()**, y luego se recupera el valor en la posición cero. Se puede conocer todas las capacidades de un objeto utilizado la función `dir()`"
   ]
  },
  {
   "cell_type": "code",
   "execution_count": 38,
   "id": "a98b23bc-560b-49f0-a8e7-3109fc8c6086",
   "metadata": {},
   "outputs": [
    {
     "data": {
      "text/plain": [
       "['__add__',\n",
       " '__class__',\n",
       " '__class_getitem__',\n",
       " '__contains__',\n",
       " '__delattr__',\n",
       " '__delitem__',\n",
       " '__dir__',\n",
       " '__doc__',\n",
       " '__eq__',\n",
       " '__format__',\n",
       " '__ge__',\n",
       " '__getattribute__',\n",
       " '__getitem__',\n",
       " '__gt__',\n",
       " '__hash__',\n",
       " '__iadd__',\n",
       " '__imul__',\n",
       " '__init__',\n",
       " '__init_subclass__',\n",
       " '__iter__',\n",
       " '__le__',\n",
       " '__len__',\n",
       " '__lt__',\n",
       " '__mul__',\n",
       " '__ne__',\n",
       " '__new__',\n",
       " '__reduce__',\n",
       " '__reduce_ex__',\n",
       " '__repr__',\n",
       " '__reversed__',\n",
       " '__rmul__',\n",
       " '__setattr__',\n",
       " '__setitem__',\n",
       " '__sizeof__',\n",
       " '__str__',\n",
       " '__subclasshook__',\n",
       " 'append',\n",
       " 'clear',\n",
       " 'copy',\n",
       " 'count',\n",
       " 'extend',\n",
       " 'index',\n",
       " 'insert',\n",
       " 'pop',\n",
       " 'remove',\n",
       " 'reverse',\n",
       " 'sort']"
      ]
     },
     "execution_count": 38,
     "metadata": {},
     "output_type": "execute_result"
    }
   ],
   "source": [
    "dir(stuff)"
   ]
  },
  {
   "cell_type": "markdown",
   "id": "1b289cad-5c3e-4f7d-b3c2-9079696b0d48",
   "metadata": {},
   "source": [
    "Uno de los objetivo de usar programación orientada a objetos, es la de encapsular funcionalidades relacionadas con ese objeto que solo se necesitan usar y no entender. Lo anterior posibilita concentrarse en resolver el problema e ignorar otros problemas. Un objeto puede contener una cantidad de funciones en su interior (llamados *métodos*) y datos que son usados por esas funciones (*atributos*). Para crear la estructura de un objeto y que característica va a tener entonces se utiliza la palabra clave `class`, por ejemplo:"
   ]
  },
  {
   "cell_type": "code",
   "execution_count": 39,
   "id": "8cd055ce-c9c4-4c71-8286-4a917c6d51a0",
   "metadata": {},
   "outputs": [
    {
     "name": "stdout",
     "output_type": "stream",
     "text": [
      "So far  1\n",
      "So far  2\n",
      "So far  3\n",
      "So far  1\n"
     ]
    }
   ],
   "source": [
    "class PartyAnimal:\n",
    "    x = 0;\n",
    "    \n",
    "    def party(self):\n",
    "        self.x = self.x + 1\n",
    "        print(\"So far \", self.x)\n",
    "        \n",
    "an1 = PartyAnimal()\n",
    "an2 = PartyAnimal()\n",
    "an1.party()\n",
    "an1.party()\n",
    "an1.party()\n",
    "PartyAnimal.party(an2)"
   ]
  },
  {
   "cell_type": "markdown",
   "id": "51333575-f8e4-450e-8e6f-744504721530",
   "metadata": {},
   "source": [
    "Cada método inicia como una función con la palabra `def`. Recuerde que la definición de la clase no crea un objeto, solo define la plantilla de como es el objeto. La primera linea de ejecución\n",
    "\n",
    "``` python\n",
    "an1 = PartyAnimal()\n",
    "```\n",
    "\n",
    "se realiza uns instancia de esa clase o se construye un primer obejto de dicha clase. Posteriormente se llama al método que contiene dicho objeto con el primer parámetro, que por convención es `self`, entonces se ejecuta\n",
    "\n",
    "``` python\n",
    "    self.x = self.x + 1\n",
    "    print(\"So far \", self.x)\n",
    "```"
   ]
  },
  {
   "cell_type": "markdown",
   "id": "ef07df6f-7eec-4ecb-a5cf-2ff130f25b51",
   "metadata": {},
   "source": [
    "### Ciclo de vida de un objeto\n",
    "\n",
    "En el ejemplo anterior se crea una clase y se realizó dos instancias de dicha clase. Cuando el programa términa todas las variables son descartadas. Es importante pensar siempre en la creación y destrucción de variables, sobre todo cuando los objetos se vuelven mas complejos. Lo anterior se puede realizar utilizando dos métodos por defecto"
   ]
  },
  {
   "cell_type": "code",
   "execution_count": 40,
   "id": "fbdfad6a-46f8-4b74-8065-6b18f07764d0",
   "metadata": {},
   "outputs": [
    {
     "name": "stdout",
     "output_type": "stream",
     "text": [
      "I am constructed\n",
      "So far 1\n",
      "So far 2\n",
      "I am destructed 2\n",
      "an contains 42\n"
     ]
    }
   ],
   "source": [
    "class PartyAnimal:\n",
    "    x = 0\n",
    "    \n",
    "    def __init__(self):\n",
    "        print('I am constructed')\n",
    "    \n",
    "    def party(self) :\n",
    "        self.x = self.x + 1\n",
    "        print('So far',self.x)\n",
    "    \n",
    "    def __del__(self):\n",
    "        print('I am destructed', self.x)\n",
    "\n",
    "an = PartyAnimal()\n",
    "an.party()\n",
    "an.party()\n",
    "an = 42\n",
    "print('an contains',an)"
   ]
  },
  {
   "cell_type": "markdown",
   "id": "c6286c98-1422-4bbc-b6ff-77b3d6cd6488",
   "metadata": {},
   "source": [
    "### Herencia de clases\n",
    "\n",
    "Otra característica poderosa de la programación orientada a objetos, es la habiliada de crear una nueva clase con características extendidas con base en otra clase. Cuando hacemos esto, la clase original se conoce como la clase padre y la nueva clase como la hija"
   ]
  },
  {
   "cell_type": "code",
   "execution_count": 41,
   "id": "d37ee96b-9d59-40af-8ccd-1015f9c64783",
   "metadata": {},
   "outputs": [
    {
     "name": "stdout",
     "output_type": "stream",
     "text": [
      "Sally constructed\n",
      "Sally party count 1\n",
      "Jim constructed\n",
      "Jim party count 1\n",
      "Jim party count 2\n",
      "Jim points 6\n",
      "['__class__', '__delattr__', '__dict__', '__dir__', '__doc__', '__eq__', '__format__', '__ge__', '__getattribute__', '__gt__', '__hash__', '__init__', '__init_subclass__', '__le__', '__lt__', '__module__', '__ne__', '__new__', '__reduce__', '__reduce_ex__', '__repr__', '__setattr__', '__sizeof__', '__str__', '__subclasshook__', '__weakref__', 'name', 'party', 'points', 'six', 'x']\n"
     ]
    }
   ],
   "source": [
    "from party import PartyAnimal\n",
    "\n",
    "class CricketFan(PartyAnimal):\n",
    "    points = 0\n",
    "    def six(self):\n",
    "        self.points = self.points + 6\n",
    "        self.party()\n",
    "        print(self.name,\"points\",self.points)\n",
    "        \n",
    "s = PartyAnimal(\"Sally\")\n",
    "s.party()\n",
    "j = CricketFan(\"Jim\")\n",
    "j.party()\n",
    "j.six()\n",
    "print(dir(j))"
   ]
  },
  {
   "cell_type": "markdown",
   "id": "71c1bfd6-193c-431c-a03b-ae51b9c9354d",
   "metadata": {},
   "source": [
    "## Laboratorio\n",
    "\n",
    "1. Construya una clase en Python llamada circulo, el cual se le debe pasar al constructor el radio, y debe tener dos metodos el cual obtegan el área y el perímetro del circulo. \n",
    "\n",
    "2. Escriba una clase llamada punto. El constructor de la clase debe dos tuplas indicando los puntos, y tres métodos\n",
    "    - un método `show` que imprima las coordenadas a analizar\n",
    "    - un método `change` para cambiar estas coordenadas\n",
    "    - un método `dist` para calcular la distancia entre dos puntos. Si el segundo punto no existe entonces, obtenga la distancia con respecto al origen por defecto\n",
    "\n",
    "3. Cree una clase producto con los siguientes atributos privados:\n",
    "    - código, nombre, precio\n",
    "  creele su constructor, y adicionalmente tres métodos: uno que le permita obtener el precio del producto, cambiar el precio del producto, y que dado una cantidad total de unidades, calcule el total\n",
    " "
   ]
  }
 ],
 "metadata": {
  "kernelspec": {
   "display_name": "mlfinance",
   "language": "python",
   "name": "python3"
  },
  "language_info": {
   "codemirror_mode": {
    "name": "ipython",
    "version": 3
   },
   "file_extension": ".py",
   "mimetype": "text/x-python",
   "name": "python",
   "nbconvert_exporter": "python",
   "pygments_lexer": "ipython3",
   "version": "3.10.9"
  },
  "vscode": {
   "interpreter": {
    "hash": "89cafe07fa9106b7e0014ff380c907a9e86547fc22d76eb24752761b967d32b8"
   }
  }
 },
 "nbformat": 4,
 "nbformat_minor": 5
}
