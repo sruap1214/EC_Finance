{
 "cells": [
  {
   "cell_type": "markdown",
   "id": "b7afeb4e-a725-4733-ba56-0629374a123b",
   "metadata": {},
   "source": [
    "<h1 align=\"center\"><b>Modelación Financiera I</b></h1>\n",
    "<h1 align=\"center\"><b> Módulo 1, parte 1 </b></h1>\n",
    "<h1 align=\"center\"><b> Introducción a los conceptos básicos de python </b></h1>"
   ]
  },
  {
   "cell_type": "markdown",
   "id": "92f3cb9a-0cfa-4612-a196-948c2002448a",
   "metadata": {},
   "source": [
    "*** \n",
    "\n",
    "***Docente:*** Santiago Rúa Pérez, PhD.\n",
    "\n",
    "***e-mail:*** srua@udemedellin.edu.co\n",
    "\n",
    "***Herramienta:*** [Jupyter Notebook](http://jupyter.org/)\n",
    "\n",
    "***Kernel:*** Python 3.7\n",
    "\n",
    "***MEDELLÍN - COLOMBIA***\n",
    "\n",
    "***2022***\n",
    "\n",
    "***"
   ]
  },
  {
   "cell_type": "markdown",
   "id": "841377aa-60e8-4831-9921-fa961104eeb1",
   "metadata": {},
   "source": [
    "<h1>Table of Contents<span class=\"tocSkip\"></span></h1>\n",
    "<div class=\"toc\"><ul class=\"toc-item\">\n",
    "    <li><span><a href=\"#Hola-Mundo-en-Python\" data-toc-modified-id=\"Hola-Mundo-en-Python-1\"><span class=\"toc-item-num\">1&nbsp;&nbsp;</span>Hola Mundo en Python</a></span></li>\n",
    "    <li><span><a href=\"#Valores-y-operadores\" data-toc-modified-id=\"Valores-y-operadores-2\"><span class=\"toc-item-num\">2&nbsp;&nbsp;</span>Valores y operadores</a></span></li>\n",
    "    <li><span><a href=\"#Expresiones-y-Sentencias\" data-toc-modified-id=\"Expresiones-y-Sentencias-3\"><span class=\"toc-item-num\">3&nbsp;&nbsp;</span>Expresiones y Sentencias</a></span></li>\n",
    "    <li><span><a href=\"#Operaciones-con-Cadenas-de-Caracteres\" data-toc-modified-id=\"Operaciones-con-Cadenas-de-Caracteres-4\"><span class=\"toc-item-num\">4&nbsp;&nbsp;</span>Operaciones con Cadenas de Caracteres</a></span></li>\n",
    "    <li><span><a href=\"#I/O-Estándar\" data-toc-modified-id=\"I/O-Estándar-5\"><span class=\"toc-item-num\">5&nbsp;&nbsp;</span>I/O Estándar</a></span></li>\n",
    "    <li><span><a href=\"#Laboratorio\" data-toc-modified-id=\"Laboratorio-6\"><span class=\"toc-item-num\">6&nbsp;&nbsp;</span>Laboratorio</a></span></li>\n",
    "    </ul></div>"
   ]
  },
  {
   "cell_type": "markdown",
   "id": "c1175843",
   "metadata": {},
   "source": [
    "## Hola Mundo en Python"
   ]
  },
  {
   "cell_type": "code",
   "execution_count": 1,
   "id": "92fdbd42",
   "metadata": {},
   "outputs": [
    {
     "name": "stdout",
     "output_type": "stream",
     "text": [
      "Hola Mundo\n",
      "Lo logramos aplicar en python\n"
     ]
    }
   ],
   "source": [
    "print(\"Hola Mundo\")\n",
    "print(\"Lo logramos aplicar en python\")"
   ]
  },
  {
   "cell_type": "code",
   "execution_count": 2,
   "id": "822d6677",
   "metadata": {},
   "outputs": [
    {
     "name": "stdout",
     "output_type": "stream",
     "text": [
      "35\n"
     ]
    }
   ],
   "source": [
    "print(7*5)"
   ]
  },
  {
   "cell_type": "code",
   "execution_count": 3,
   "id": "8df7921a",
   "metadata": {},
   "outputs": [
    {
     "name": "stdout",
     "output_type": "stream",
     "text": [
      "2.3333333333333335\n"
     ]
    }
   ],
   "source": [
    "print(7/3)"
   ]
  },
  {
   "cell_type": "markdown",
   "id": "328d903d-a773-491b-867b-fc014cae7270",
   "metadata": {},
   "source": [
    "## Valores y operadores"
   ]
  },
  {
   "cell_type": "markdown",
   "id": "8b6a09c1-cf2f-4c55-a13b-362e6086ee02",
   "metadata": {},
   "source": [
    "### Valores y Tipos"
   ]
  },
  {
   "cell_type": "code",
   "execution_count": 4,
   "id": "7b5d3321",
   "metadata": {},
   "outputs": [
    {
     "data": {
      "text/plain": [
       "bool"
      ]
     },
     "execution_count": 4,
     "metadata": {},
     "output_type": "execute_result"
    }
   ],
   "source": [
    "c = True\n",
    "type(c)"
   ]
  },
  {
   "cell_type": "code",
   "execution_count": 5,
   "id": "769afb38",
   "metadata": {},
   "outputs": [
    {
     "data": {
      "text/plain": [
       "str"
      ]
     },
     "execution_count": 5,
     "metadata": {},
     "output_type": "execute_result"
    }
   ],
   "source": [
    "type(\"Hola Mundo!\")"
   ]
  },
  {
   "cell_type": "code",
   "execution_count": 6,
   "id": "82e29374",
   "metadata": {},
   "outputs": [
    {
     "data": {
      "text/plain": [
       "int"
      ]
     },
     "execution_count": 6,
     "metadata": {},
     "output_type": "execute_result"
    }
   ],
   "source": [
    "type(17)"
   ]
  },
  {
   "cell_type": "code",
   "execution_count": 7,
   "id": "e9d92700",
   "metadata": {},
   "outputs": [
    {
     "data": {
      "text/plain": [
       "float"
      ]
     },
     "execution_count": 7,
     "metadata": {},
     "output_type": "execute_result"
    }
   ],
   "source": [
    "type(17.)"
   ]
  },
  {
   "cell_type": "code",
   "execution_count": 8,
   "id": "93f0ff1d",
   "metadata": {},
   "outputs": [
    {
     "data": {
      "text/plain": [
       "complex"
      ]
     },
     "execution_count": 8,
     "metadata": {},
     "output_type": "execute_result"
    }
   ],
   "source": [
    "type(3+2j)"
   ]
  },
  {
   "cell_type": "code",
   "execution_count": 9,
   "id": "02e4c643",
   "metadata": {},
   "outputs": [
    {
     "data": {
      "text/plain": [
       "str"
      ]
     },
     "execution_count": 9,
     "metadata": {},
     "output_type": "execute_result"
    }
   ],
   "source": [
    "type(\"17.0\")"
   ]
  },
  {
   "cell_type": "code",
   "execution_count": 10,
   "id": "4471ea1e-4bd9-48c8-b461-f6cee9bba603",
   "metadata": {},
   "outputs": [
    {
     "data": {
      "text/plain": [
       "str"
      ]
     },
     "execution_count": 10,
     "metadata": {},
     "output_type": "execute_result"
    }
   ],
   "source": [
    "type('string')"
   ]
  },
  {
   "cell_type": "code",
   "execution_count": 11,
   "id": "eb69f195-d371-4dff-9480-bfd3adda391e",
   "metadata": {},
   "outputs": [
    {
     "name": "stdout",
     "output_type": "stream",
     "text": [
      "<class 'tuple'>\n",
      "(1, 0, 0, 0, 0)\n"
     ]
    }
   ],
   "source": [
    "z = 1,000,0000,000,00 #Producirá un error de ejecución y no de sintaxis\n",
    "print(type(z))\n",
    "print(z)"
   ]
  },
  {
   "cell_type": "code",
   "execution_count": 12,
   "id": "cd4b3384-53bf-46be-a438-dd96b9f9c78f",
   "metadata": {},
   "outputs": [
    {
     "ename": "SyntaxError",
     "evalue": "invalid syntax (2533450083.py, line 1)",
     "output_type": "error",
     "traceback": [
      "\u001b[1;36m  Cell \u001b[1;32mIn[12], line 1\u001b[1;36m\u001b[0m\n\u001b[1;33m    1.000.000.000 #Producirá un error de sintáxis\u001b[0m\n\u001b[1;37m         ^\u001b[0m\n\u001b[1;31mSyntaxError\u001b[0m\u001b[1;31m:\u001b[0m invalid syntax\n"
     ]
    }
   ],
   "source": [
    "1.000.000.000 #Producirá un error de sintáxis"
   ]
  },
  {
   "cell_type": "code",
   "execution_count": 13,
   "id": "236ba3e3-34c2-45a1-bed7-ffd2266cab81",
   "metadata": {},
   "outputs": [
    {
     "data": {
      "text/plain": [
       "1000000000000.8678"
      ]
     },
     "execution_count": 13,
     "metadata": {},
     "output_type": "execute_result"
    }
   ],
   "source": [
    "1000000000000.8678568"
   ]
  },
  {
   "cell_type": "markdown",
   "id": "c2d7569b-0546-4b35-ad51-f91dc4cf977a",
   "metadata": {},
   "source": [
    "### Variables"
   ]
  },
  {
   "cell_type": "markdown",
   "id": "1bf8e4a3-b939-4010-b769-1d7ad3714485",
   "metadata": {},
   "source": [
    "- Una variable es un nombre que hace referencia a un valor.\n",
    "- Una sentencia de asignación crea nuevas variables y valores dados."
   ]
  },
  {
   "cell_type": "code",
   "execution_count": 14,
   "id": "dc6d92d7-cee5-4d92-841d-e1734b8a2dd8",
   "metadata": {},
   "outputs": [],
   "source": [
    "mensaje = \"Este es un mensaje\"\n",
    "n = 17\n",
    "pi = 3.14159265"
   ]
  },
  {
   "cell_type": "markdown",
   "id": "0a25d11b-af78-4d8b-8811-1ac3bd5679df",
   "metadata": {},
   "source": [
    "- En la celda anterior se tienen tres asignaciones a creación de variables. La primera de tipo cadena, la segunda un entero y la ultima un flotante. Una vez creadas estas variables ya se puede proceder a operar con ellas en cualquier momento. Recuerde que Jupyter no es lineal, es decir, usted puede ejecutar las celdas en el orden que quiera. La ejecución de la celda implica la creación de variables asocidas a dichas celdas. Si usted quiere arrancar desde cero el programa proceda a reiniciar el kernel."
   ]
  },
  {
   "cell_type": "code",
   "execution_count": 15,
   "id": "a1c131f0-5ea2-4fa2-923c-5c428bb8636a",
   "metadata": {},
   "outputs": [
    {
     "data": {
      "text/plain": [
       "float"
      ]
     },
     "execution_count": 15,
     "metadata": {},
     "output_type": "execute_result"
    }
   ],
   "source": [
    "x = n * pi\n",
    "type(x)"
   ]
  },
  {
   "cell_type": "code",
   "execution_count": 16,
   "id": "e6d39a62-2e1d-4e94-a1bd-973057571024",
   "metadata": {},
   "outputs": [
    {
     "name": "stdout",
     "output_type": "stream",
     "text": [
      "Este es un mensajeEste es un mensajeEste es un mensajeEste es un mensajeEste es un mensajeEste es un mensajeEste es un mensajeEste es un mensajeEste es un mensajeEste es un mensajeEste es un mensajeEste es un mensajeEste es un mensajeEste es un mensajeEste es un mensajeEste es un mensajeEste es un mensaje\n"
     ]
    }
   ],
   "source": [
    "z = n*mensaje\n",
    "print(z)"
   ]
  },
  {
   "cell_type": "code",
   "execution_count": 17,
   "id": "26293c32-2673-493c-927a-f0c233eac905",
   "metadata": {},
   "outputs": [
    {
     "ename": "TypeError",
     "evalue": "can't multiply sequence by non-int of type 'float'",
     "output_type": "error",
     "traceback": [
      "\u001b[1;31m---------------------------------------------------------------------------\u001b[0m",
      "\u001b[1;31mTypeError\u001b[0m                                 Traceback (most recent call last)",
      "Cell \u001b[1;32mIn[17], line 1\u001b[0m\n\u001b[1;32m----> 1\u001b[0m p \u001b[39m=\u001b[39m pi \u001b[39m*\u001b[39;49m mensaje\n\u001b[0;32m      2\u001b[0m \u001b[39mprint\u001b[39m(p)\n",
      "\u001b[1;31mTypeError\u001b[0m: can't multiply sequence by non-int of type 'float'"
     ]
    }
   ],
   "source": [
    "p = pi * mensaje\n",
    "print(p)"
   ]
  },
  {
   "cell_type": "markdown",
   "id": "f0f57233-cb9e-4eb6-a75a-866ae9466d20",
   "metadata": {},
   "source": [
    "### Nombre de Variables y Palabras Claves (keywords)"
   ]
  },
  {
   "cell_type": "code",
   "execution_count": 18,
   "id": "275e4ab4-3642-4bcb-bfc1-7d688dbaba00",
   "metadata": {},
   "outputs": [
    {
     "name": "stdout",
     "output_type": "stream",
     "text": [
      "HolaHolaHolaHolaHola\n"
     ]
    }
   ],
   "source": [
    "#utf-8\n",
    "estaEsUnaVariable = \"Hola\"\n",
    "año = 5\n",
    "resultado_variable = año * estaEsUnaVariable\n",
    "print(resultado_variable)"
   ]
  },
  {
   "cell_type": "markdown",
   "id": "30ae6c90-b3f9-43fe-8a8d-91ce7cb95ee1",
   "metadata": {},
   "source": [
    "- Nombres de variables pueden tener un tamaño arbitrariamente de caracteres.\n",
    "- Pueden contener letras y números, pero <strong>SIEMPRE</strong> deben empezar por una letra.\n",
    "- Es **\"Kool\"** usar letras en mayúscula, pero es una buena práctica empezar los nombres de variables en minúscula.\n",
    "- El carácter \"guión bajo\" (*underscore*), `_` , puede aparecer en el nombre de una variable. Usado frecuentemente en variables cuyo nombre está compuesto por diferentes palabras. Trata de no usarlo al inicio, ya que para los objetos y clases de python se acostumbra para atributos privados\n",
    "- Si da a una variable un nombre ilegal, obtendrá un error de sintaxis."
   ]
  },
  {
   "cell_type": "code",
   "execution_count": 19,
   "id": "a2c0f76e-9d52-42b4-b7d1-e4c9b297aa73",
   "metadata": {},
   "outputs": [
    {
     "name": "stdout",
     "output_type": "stream",
     "text": [
      "1\n"
     ]
    }
   ],
   "source": [
    "este_puede_ser_el_nombre_valido_de_una_variable = 1\n",
    "print(este_puede_ser_el_nombre_valido_de_una_variable)"
   ]
  },
  {
   "cell_type": "code",
   "execution_count": 20,
   "id": "c1dcd0d6-86da-40af-97e4-e60ace4ef857",
   "metadata": {},
   "outputs": [
    {
     "name": "stdout",
     "output_type": "stream",
     "text": [
      "3\n"
     ]
    }
   ],
   "source": [
    "estaEsUnaVariable = 3\n",
    "print(estaEsUnaVariable)"
   ]
  },
  {
   "cell_type": "code",
   "execution_count": 21,
   "id": "b3be107d-96a1-4c83-8d30-6cc0c1bf1d11",
   "metadata": {},
   "outputs": [
    {
     "name": "stdout",
     "output_type": "stream",
     "text": [
      "3\n"
     ]
    }
   ],
   "source": [
    "mamá = 3\n",
    "print(mamá)"
   ]
  },
  {
   "cell_type": "markdown",
   "id": "f58e4558-8606-4f88-803a-763822827c2c",
   "metadata": {},
   "source": [
    "Algunos errores típicos"
   ]
  },
  {
   "cell_type": "code",
   "execution_count": 22,
   "id": "ae60e2fc-d6fa-4893-aaf8-42dd85756cad",
   "metadata": {},
   "outputs": [
    {
     "ename": "SyntaxError",
     "evalue": "invalid decimal literal (1415933420.py, line 1)",
     "output_type": "error",
     "traceback": [
      "\u001b[1;36m  Cell \u001b[1;32mIn[22], line 1\u001b[1;36m\u001b[0m\n\u001b[1;33m    76Pesos = 76\u001b[0m\n\u001b[1;37m     ^\u001b[0m\n\u001b[1;31mSyntaxError\u001b[0m\u001b[1;31m:\u001b[0m invalid decimal literal\n"
     ]
    }
   ],
   "source": [
    "76Pesos = 76\n",
    "print(76Pesos)"
   ]
  },
  {
   "cell_type": "code",
   "execution_count": 23,
   "id": "04bd3270-b7a4-4dc0-a2ff-95026447b54c",
   "metadata": {},
   "outputs": [
    {
     "ename": "SyntaxError",
     "evalue": "invalid syntax (117429229.py, line 1)",
     "output_type": "error",
     "traceback": [
      "\u001b[1;36m  Cell \u001b[1;32mIn[23], line 1\u001b[1;36m\u001b[0m\n\u001b[1;33m    P3s0s 76 = 76\u001b[0m\n\u001b[1;37m          ^\u001b[0m\n\u001b[1;31mSyntaxError\u001b[0m\u001b[1;31m:\u001b[0m invalid syntax\n"
     ]
    }
   ],
   "source": [
    "P3s0s 76 = 76\n",
    "print(P3s0s 76)"
   ]
  },
  {
   "cell_type": "code",
   "execution_count": 24,
   "id": "4b3a2be7-1417-47da-ab2d-62c63bedb011",
   "metadata": {},
   "outputs": [
    {
     "ename": "SyntaxError",
     "evalue": "invalid syntax (1887765851.py, line 1)",
     "output_type": "error",
     "traceback": [
      "\u001b[1;36m  Cell \u001b[1;32mIn[24], line 1\u001b[1;36m\u001b[0m\n\u001b[1;33m    mas@ = 5.3\u001b[0m\n\u001b[1;37m         ^\u001b[0m\n\u001b[1;31mSyntaxError\u001b[0m\u001b[1;31m:\u001b[0m invalid syntax\n"
     ]
    }
   ],
   "source": [
    "mas@ = 5.3 "
   ]
  },
  {
   "cell_type": "markdown",
   "id": "6a283195-1595-4fc8-bf4e-ce4ddc52a314",
   "metadata": {},
   "source": [
    "Adicionalmente recuerde que existen palabras claves (keywords en inglés) en cada lenguaje de programación, las cuales cumplen con una función particular dentro del lenguaje de programación. Por ejemplo python reserva 35 palabras claves\n",
    "\n",
    "![PalabrasClaves](img/KeywordsPython.png)"
   ]
  },
  {
   "cell_type": "code",
   "execution_count": 25,
   "id": "3169b324-a795-4657-8493-1a10952797e6",
   "metadata": {},
   "outputs": [],
   "source": [
    "print = \"Avanzado\""
   ]
  },
  {
   "cell_type": "code",
   "execution_count": 26,
   "id": "f6666e1d-943e-4fcb-a6f6-40e20cb7e9be",
   "metadata": {},
   "outputs": [
    {
     "ename": "TypeError",
     "evalue": "'str' object is not callable",
     "output_type": "error",
     "traceback": [
      "\u001b[1;31m---------------------------------------------------------------------------\u001b[0m",
      "\u001b[1;31mTypeError\u001b[0m                                 Traceback (most recent call last)",
      "Cell \u001b[1;32mIn[26], line 1\u001b[0m\n\u001b[1;32m----> 1\u001b[0m \u001b[39mprint\u001b[39;49m(\u001b[39m7\u001b[39;49m\u001b[39m+\u001b[39;49m\u001b[39m3\u001b[39;49m)\n",
      "\u001b[1;31mTypeError\u001b[0m: 'str' object is not callable"
     ]
    }
   ],
   "source": [
    "print(7+3)"
   ]
  },
  {
   "cell_type": "markdown",
   "id": "f97fdaf0-b9dd-4a78-823a-4334637a4585",
   "metadata": {},
   "source": [
    "Estas palabras claves pueden importarse y analizarse dentro del archivos keywords.py"
   ]
  },
  {
   "cell_type": "code",
   "execution_count": 27,
   "id": "9874420f-dd6c-4ca3-85be-1c81ff8b96de",
   "metadata": {},
   "outputs": [
    {
     "name": "stdout",
     "output_type": "stream",
     "text": [
      "['False', 'None', 'True', 'and', 'as', 'assert', 'async', 'await', 'break', 'class', 'continue', 'def', 'del', 'elif', 'else', 'except', 'finally', 'for', 'from', 'global', 'if', 'import', 'in', 'is', 'lambda', 'nonlocal', 'not', 'or', 'pass', 'raise', 'return', 'try', 'while', 'with', 'yield']\n",
      "35\n"
     ]
    }
   ],
   "source": [
    "# Palabras clave\n",
    "del print # Elimino la variable que habia creado\n",
    "import keyword\n",
    "listkw = keyword.kwlist\n",
    "print(listkw)\n",
    "print(len(listkw))"
   ]
  },
  {
   "cell_type": "code",
   "execution_count": 28,
   "id": "dcff6f8e-e057-48ca-bf32-a2523b30b191",
   "metadata": {},
   "outputs": [
    {
     "name": "stdout",
     "output_type": "stream",
     "text": [
      "['ArithmeticError', 'AssertionError', 'AttributeError', 'BaseException', 'BlockingIOError', 'BrokenPipeError', 'BufferError', 'BytesWarning', 'ChildProcessError', 'ConnectionAbortedError', 'ConnectionError', 'ConnectionRefusedError', 'ConnectionResetError', 'DeprecationWarning', 'EOFError', 'Ellipsis', 'EncodingWarning', 'EnvironmentError', 'Exception', 'False', 'FileExistsError', 'FileNotFoundError', 'FloatingPointError', 'FutureWarning', 'GeneratorExit', 'IOError', 'ImportError', 'ImportWarning', 'IndentationError', 'IndexError', 'InterruptedError', 'IsADirectoryError', 'KeyError', 'KeyboardInterrupt', 'LookupError', 'MemoryError', 'ModuleNotFoundError', 'NameError', 'None', 'NotADirectoryError', 'NotImplemented', 'NotImplementedError', 'OSError', 'OverflowError', 'PendingDeprecationWarning', 'PermissionError', 'ProcessLookupError', 'RecursionError', 'ReferenceError', 'ResourceWarning', 'RuntimeError', 'RuntimeWarning', 'StopAsyncIteration', 'StopIteration', 'SyntaxError', 'SyntaxWarning', 'SystemError', 'SystemExit', 'TabError', 'TimeoutError', 'True', 'TypeError', 'UnboundLocalError', 'UnicodeDecodeError', 'UnicodeEncodeError', 'UnicodeError', 'UnicodeTranslateError', 'UnicodeWarning', 'UserWarning', 'ValueError', 'Warning', 'WindowsError', 'ZeroDivisionError', '__IPYTHON__', '__build_class__', '__debug__', '__doc__', '__import__', '__loader__', '__name__', '__package__', '__spec__', 'abs', 'aiter', 'all', 'anext', 'any', 'ascii', 'bin', 'bool', 'breakpoint', 'bytearray', 'bytes', 'callable', 'chr', 'classmethod', 'compile', 'complex', 'copyright', 'credits', 'delattr', 'dict', 'dir', 'display', 'divmod', 'enumerate', 'eval', 'exec', 'execfile', 'filter', 'float', 'format', 'frozenset', 'get_ipython', 'getattr', 'globals', 'hasattr', 'hash', 'help', 'hex', 'id', 'input', 'int', 'isinstance', 'issubclass', 'iter', 'len', 'license', 'list', 'locals', 'map', 'max', 'memoryview', 'min', 'next', 'object', 'oct', 'open', 'ord', 'pow', 'print', 'property', 'range', 'repr', 'reversed', 'round', 'runfile', 'set', 'setattr', 'slice', 'sorted', 'staticmethod', 'str', 'sum', 'super', 'tuple', 'type', 'vars', 'zip']\n",
      "159\n"
     ]
    }
   ],
   "source": [
    "# Funciones integradas\n",
    "import builtins\n",
    "list_bins = dir(builtins)\n",
    "print(list_bins)\n",
    "print(len(list_bins))"
   ]
  },
  {
   "cell_type": "code",
   "execution_count": 29,
   "id": "70ab75c6-1742-4c8d-8bc3-f516372f8509",
   "metadata": {},
   "outputs": [
    {
     "name": "stdout",
     "output_type": "stream",
     "text": [
      "3\n"
     ]
    }
   ],
   "source": [
    "suma = sum((1,2))\n",
    "print(suma)"
   ]
  },
  {
   "cell_type": "markdown",
   "id": "f3c496ac-db1e-49a5-b9e0-92d5412e5a72",
   "metadata": {},
   "source": [
    "Ayuda (documentación). Estas funciones tiene documentacion asociada, la cual puede accederse a través de a función help"
   ]
  },
  {
   "cell_type": "code",
   "execution_count": 30,
   "id": "f1f28d2b-eeae-4ae5-a96d-3447fcf2aa3c",
   "metadata": {},
   "outputs": [
    {
     "name": "stdout",
     "output_type": "stream",
     "text": [
      "Help on built-in function sum in module builtins:\n",
      "\n",
      "sum(iterable, /, start=0)\n",
      "    Return the sum of a 'start' value (default: 0) plus an iterable of numbers\n",
      "    \n",
      "    When the iterable is empty, return the start value.\n",
      "    This function is intended specifically for use with numeric values and may\n",
      "    reject non-numeric types.\n",
      "\n"
     ]
    }
   ],
   "source": [
    "help(\"sum\")"
   ]
  },
  {
   "cell_type": "markdown",
   "id": "3a989cad-8702-46fd-83af-0d68ec14a834",
   "metadata": {},
   "source": [
    "### Asignación Múltiple"
   ]
  },
  {
   "cell_type": "code",
   "execution_count": 31,
   "id": "6d4d1eaa-0421-4ced-b956-d3ed1bcf082d",
   "metadata": {},
   "outputs": [],
   "source": [
    "a, b, c, d = \"class\", 15, True, 3.8"
   ]
  },
  {
   "cell_type": "code",
   "execution_count": 32,
   "id": "051b946c-c832-4983-888c-492a95511fc2",
   "metadata": {},
   "outputs": [
    {
     "name": "stdout",
     "output_type": "stream",
     "text": [
      "class\n",
      "15\n",
      "True\n",
      "3.8\n"
     ]
    }
   ],
   "source": [
    "print(a)\n",
    "print(b)\n",
    "print(c)\n",
    "print(d)"
   ]
  },
  {
   "cell_type": "markdown",
   "id": "c0fe4f53-1b50-42f6-99df-802edd3ac0af",
   "metadata": {},
   "source": [
    "### Operadores y Operandos\n",
    "\n",
    "Los operadores son símbolos especiales que representan cálculos: \n",
    "\n",
    "|Operador|Símbolo|\n",
    "|--------|-------|\n",
    "|Suma| +|\n",
    "|Resta| -|\n",
    "|Multiplicación| *|\n",
    "|División| /|\n",
    "|Potenciación| **|\n",
    "|División entera| //|\n",
    "|Módulo| %|"
   ]
  },
  {
   "cell_type": "code",
   "execution_count": 33,
   "id": "c6654d90-8a79-4ed7-ac9e-5b3ba8348503",
   "metadata": {},
   "outputs": [
    {
     "name": "stdout",
     "output_type": "stream",
     "text": [
      "5\n"
     ]
    }
   ],
   "source": [
    "r = 3 + 2\n",
    "print(r)"
   ]
  },
  {
   "cell_type": "code",
   "execution_count": 34,
   "id": "00d2f929-d4a9-40fc-88a5-1b54643d0cb4",
   "metadata": {},
   "outputs": [
    {
     "name": "stdout",
     "output_type": "stream",
     "text": [
      "-3\n"
     ]
    }
   ],
   "source": [
    "r = 1 - 4\n",
    "print(r)"
   ]
  },
  {
   "cell_type": "code",
   "execution_count": 35,
   "id": "88ca983b-a473-4384-bcba-f10d90066a85",
   "metadata": {},
   "outputs": [
    {
     "name": "stdout",
     "output_type": "stream",
     "text": [
      "243\n"
     ]
    }
   ],
   "source": [
    "r = 3 ** 5\n",
    "print(r)"
   ]
  },
  {
   "cell_type": "code",
   "execution_count": 36,
   "id": "6b04a4e4-74b6-4260-929d-d6e97b352732",
   "metadata": {},
   "outputs": [
    {
     "name": "stdout",
     "output_type": "stream",
     "text": [
      "8.25\n"
     ]
    }
   ],
   "source": [
    "r = 33 / 4\n",
    "print(r)"
   ]
  },
  {
   "cell_type": "code",
   "execution_count": 37,
   "id": "d7aef2c3-366c-49a0-93f1-531fa9e11c3c",
   "metadata": {},
   "outputs": [
    {
     "name": "stdout",
     "output_type": "stream",
     "text": [
      "8\n"
     ]
    }
   ],
   "source": [
    "r = 33 // 4\n",
    "print(r)"
   ]
  },
  {
   "cell_type": "code",
   "execution_count": 38,
   "id": "83794786-73b8-42f2-8388-baa1de5e6592",
   "metadata": {},
   "outputs": [
    {
     "name": "stdout",
     "output_type": "stream",
     "text": [
      "4\n"
     ]
    }
   ],
   "source": [
    "r = 4 % 10\n",
    "print(r)"
   ]
  },
  {
   "cell_type": "markdown",
   "id": "406de129-836c-49a0-b799-fb8a01d34af4",
   "metadata": {},
   "source": [
    "***Observaciones!***\n",
    "\n",
    "- En *Python* el operador `^` representa el operador bit a bit `XOR`.\n",
    "- En *Python 2.x*, el operador división puede no hacer lo que usted esperaría que hiciera:\n",
    "- En *Python 2.x* el operador `/` realiza la operación *[floor division](https://python-reference.readthedocs.io/en/latest/docs/operators/floor_division.html)*. Cuando los operandos son enteros, el resultado es la parte entera.\n",
    "- En *Python 3.x*, el resultado es un número de punto flotante."
   ]
  },
  {
   "cell_type": "markdown",
   "id": "f6a75f60-c98c-4b0a-bd48-54f9dccb9586",
   "metadata": {},
   "source": [
    "### Operadores de comparación y lógicos\n",
    "\n",
    "En programación, los operadores de comparación se utilizan para comparar valores y evaluar hasta un único valor booleano de Verdadero o Falso. Estos valores son especialmente importantes para las expresiones condicionales y los ciclos, como veremos más adelante. Una variable de tipo booleano sólo puede tener uno dedos valores `True` (*verdadero*) o `False` (*falso*). El tipo `bool` (el tipo de los booleanos) es una subclase del tipo `int`."
   ]
  },
  {
   "cell_type": "code",
   "execution_count": 39,
   "id": "3995bd81-3951-4e7a-a265-750a187f28d1",
   "metadata": {},
   "outputs": [
    {
     "name": "stdout",
     "output_type": "stream",
     "text": [
      "<class 'bool'>\n",
      "True\n"
     ]
    }
   ],
   "source": [
    "falso = True\n",
    "print(type(falso))\n",
    "print(falso)"
   ]
  },
  {
   "cell_type": "markdown",
   "id": "231f0d3a-c629-4fc7-b727-d3f8061204c9",
   "metadata": {},
   "source": [
    "- Los valores booleanos son además el resultado de expresiones que utilizan operadores relacionales (comparaciones entre valores)\n",
    "| Operador    | Descripción                   | Ejemplo                   |\n",
    "| -----------:|:-----------------------------:|--------------------------:|\n",
    "| ==          | Son iguales $a$ y $b$?        | r = 5 == 3   # r es False |\n",
    "| !=          | Son distintos $a$ o $b$?      | r = 5 != 3   # r es True  |\n",
    "| <           | $a$ es menor que $b$?         | r = 5 < 3    # r es False |\n",
    "| >           | $a$ es mayor que $b$?         | r = 5 > 3    # r es True  |\n",
    "| <=          | $a$ es menor o igual que $b$? | r = 5 <= 3   # r es False |\n",
    "| >=          | $a$ es mayor o igual que $b$? | r = 5 >= 3   # r es True  |"
   ]
  },
  {
   "cell_type": "code",
   "execution_count": 40,
   "id": "ccbc2bcf-2f0f-4069-a867-343ff7377b5e",
   "metadata": {},
   "outputs": [
    {
     "name": "stdout",
     "output_type": "stream",
     "text": [
      "False\n",
      "True\n",
      "False\n",
      "True\n",
      "True\n",
      "False\n"
     ]
    }
   ],
   "source": [
    "a = 5\n",
    "b = 3\n",
    "print(a == b)\n",
    "print(a != b)\n",
    "print(a < b)\n",
    "print(a > b)\n",
    "print(a >= b)\n",
    "print(a <= b)"
   ]
  },
  {
   "cell_type": "markdown",
   "id": "c2f72d92-2578-4c79-a978-e456ae47f2dd",
   "metadata": {},
   "source": [
    "Los **operadores lógicos** se utilizan normalmente para evaluar si dos o más expresiones son verdaderas o no. Por ejemplo, se pueden usar para determinar si la calificación es aprobatoria y si el estudiante está registrado en el curso, y si ambos casos son verdaderos, se le asignará una calificación al estudiante en el sistema. Otro ejemplo sería determinar si un usuario es un cliente activo válido de una tienda en línea en función de si tiene crédito en la tienda o si ha realizado una compra en los últimos 6 meses.\n",
    "\n",
    "| Operador    | Descripción           | Ejemplo                         |\n",
    "| -----------:|:---------------------:|--------------------------------:|\n",
    "| and         | Se cumple $a$ y $b$?  | r = True and False # r es False |\n",
    "| or          | Se cumple $a$ o $b$?  | r = True and False # r es true  |\n",
    "| not         | No $a$                | r = not True       # r es False |"
   ]
  },
  {
   "cell_type": "code",
   "execution_count": 41,
   "id": "088666f2-ee38-49fb-9ea8-b2e4c41253e4",
   "metadata": {},
   "outputs": [
    {
     "name": "stdout",
     "output_type": "stream",
     "text": [
      "lamentablemente no puede entrar\n"
     ]
    }
   ],
   "source": [
    "edad = 15\n",
    "estatura = 92\n",
    "hincha = \"Medellin\"\n",
    "if hincha == \"Nacional\" and edad <= 18 or estatura >=90:\n",
    "    print(\"lamentablemente no puede entrar\")\n",
    "else:\n",
    "    print(\"puede entrar\")"
   ]
  },
  {
   "cell_type": "markdown",
   "id": "ea295972-906f-4b39-9d21-5b78df62f832",
   "metadata": {},
   "source": [
    "## Expresiones y Sentencias\n",
    "- Una expresión es una combinación de valores, variables y operadores.\n",
    "- Un valor es considerado una expresión.\n",
    "- Una sentencia es una unidad de código que el interprete del *Python* puede ejecutar.\n",
    "- La diferencia entre los dos radica en que una expresión tiene un valor, una sentencia no.\n",
    "- `print` y asignación (`x = 5`) son sentencias."
   ]
  },
  {
   "cell_type": "code",
   "execution_count": 42,
   "id": "fe6674cd-1e02-44b6-8f04-c48992af85b7",
   "metadata": {},
   "outputs": [
    {
     "data": {
      "text/plain": [
       "22"
      ]
     },
     "execution_count": 42,
     "metadata": {},
     "output_type": "execute_result"
    }
   ],
   "source": [
    "x = 5 # esta es una sentencia\n",
    "17 # esta es una expresión\n",
    "x # esta es una expresión\n",
    "x+17 # esta es una expresión"
   ]
  },
  {
   "cell_type": "markdown",
   "id": "6a93b743-3a98-4685-8037-6e9fd03546e7",
   "metadata": {},
   "source": [
    "### Orden de las operaciones\n",
    "- Cuando existen más de un operador, se sigue la regla del orden de precencia: *Parentesis*, *Exponentes*, *Multiplicaciones / Divisones*, y por último, *Sumas / Restas*.\n",
    "\n",
    "$x = 2 (z+v)$"
   ]
  },
  {
   "cell_type": "code",
   "execution_count": 43,
   "id": "42d25492-0cc8-41cd-9179-92d6351ffb15",
   "metadata": {},
   "outputs": [
    {
     "data": {
      "text/plain": [
       "4"
      ]
     },
     "execution_count": 43,
     "metadata": {},
     "output_type": "execute_result"
    }
   ],
   "source": [
    "2 * (3 - 1)"
   ]
  },
  {
   "cell_type": "code",
   "execution_count": 44,
   "id": "d91e09e8-ccda-461e-972c-06d416cf6eb4",
   "metadata": {},
   "outputs": [
    {
     "data": {
      "text/plain": [
       "5"
      ]
     },
     "execution_count": 44,
     "metadata": {},
     "output_type": "execute_result"
    }
   ],
   "source": [
    "2 * 3 - 1"
   ]
  },
  {
   "cell_type": "markdown",
   "id": "3238dbfd-2b4c-4e3e-a307-5bc8248e5b38",
   "metadata": {},
   "source": [
    "### Comentarios\n",
    "- A medida que los programas se van haciendo mayores y más complejos, se van volviendo difíciles de leer.\n",
    "- Los lenguajes formales son densos y esto dificulta la lectura y su seguimiento para entender qué hace o por qué. \n",
    "- Es buena idea adicionar notas al programa para explicar en lenguaje natural que es lo que el programa está haciendo.\n",
    "- Estas anotaciones se llaman *comentarios* y empiezan con el símbolo `#`."
   ]
  },
  {
   "cell_type": "code",
   "execution_count": 45,
   "id": "1de9aac3-bc28-49e3-9b39-50b3e773c4ae",
   "metadata": {},
   "outputs": [
    {
     "name": "stdout",
     "output_type": "stream",
     "text": [
      "1666.6666666666667\n"
     ]
    }
   ],
   "source": [
    "# Calcula el porcentaje de horas que ha pasado\n",
    "minuto = 1000\n",
    "porcentaje = (minuto * 100) / 60\n",
    "print(porcentaje)"
   ]
  },
  {
   "cell_type": "code",
   "execution_count": 46,
   "id": "aa3c0818-627a-493a-8173-0926b9d3f382",
   "metadata": {},
   "outputs": [
    {
     "name": "stdout",
     "output_type": "stream",
     "text": [
      "1666.6666666666667\n"
     ]
    }
   ],
   "source": [
    "porcentaje = (minuto * 100) / 60 # aquí me falta algo...  \n",
    "print(porcentaje)"
   ]
  },
  {
   "cell_type": "markdown",
   "id": "f6b14540-0ade-46a2-9c6d-ff3a7d777127",
   "metadata": {},
   "source": [
    "- Los comentarios son muy útiles cuando documentan características no evidentes del código, pero hay qué evitar los comentarios \"obvios\".\n",
    "- Una buena nominación de las variables reduce la necesidad de comentarios, pero nombres largos pueden volver la expresión compleja y difícil de leer.\n",
    "- <strong>Úselos con moderación!</strong>"
   ]
  },
  {
   "cell_type": "code",
   "execution_count": 47,
   "id": "9404e746-3167-4ff9-be60-958b70f2962d",
   "metadata": {},
   "outputs": [],
   "source": [
    "\"\"\"\n",
    "Help on built-in function sum in module builtins:\n",
    "\n",
    "sum(iterable, start=0, /)\n",
    "    Return the sum of a 'start' value (default: 0) plus an iterable of numbers\n",
    "    \n",
    "    When the iterable is empty, return the start value.\n",
    "    This function is intended specifically for use with numeric values and may\n",
    "    reject non-numeric types.\n",
    "\n",
    "\"\"\"\n",
    "v = 5 # asigna el valor de 5 a la variable v.... obvio!!!\n",
    "v = 5 # Velocidad en metros/segundo... mejor..."
   ]
  },
  {
   "cell_type": "markdown",
   "id": "63817069-0509-4265-b339-4ac0cacd1c3e",
   "metadata": {},
   "source": [
    "## Operaciones con Cadenas de Caracteres\n",
    "- En general, no se pueden realizar operaciones aritméticas en cadenas de caracteres, aún si las cadenas parecen como si fueran números:"
   ]
  },
  {
   "cell_type": "code",
   "execution_count": 48,
   "id": "b62f037e-b077-47c5-9239-8e7c7562b5fc",
   "metadata": {},
   "outputs": [
    {
     "name": "stdout",
     "output_type": "stream",
     "text": [
      "holaholaholaholahola\n"
     ]
    },
    {
     "data": {
      "text/plain": [
       "str"
      ]
     },
     "execution_count": 48,
     "metadata": {},
     "output_type": "execute_result"
    }
   ],
   "source": [
    "cadena = 'hola'\n",
    "n = 5\n",
    "y = cadena * n\n",
    "print(y)\n",
    "type(y)"
   ]
  },
  {
   "cell_type": "code",
   "execution_count": 49,
   "id": "22b01005-eea5-49af-90e2-1fb41c92da0f",
   "metadata": {},
   "outputs": [
    {
     "name": "stdout",
     "output_type": "stream",
     "text": [
      "It doesn't matter!\n"
     ]
    }
   ],
   "source": [
    "s1 = 'It doesn\\'t matter!'\n",
    "print(s1)"
   ]
  },
  {
   "cell_type": "markdown",
   "id": "9991453a-16ca-44b3-be08-9aeb9ddc6722",
   "metadata": {},
   "source": [
    "el caracter `\\` se denomina `scape`, y permite emplear una comilla simple dentro de un texto en comillas simples y evitar la ambiguedad. Para evitar del todo esta situación, se pueden emplear las comillas dobles `\"\"` para escribir una cadena de caractéres"
   ]
  },
  {
   "cell_type": "code",
   "execution_count": 50,
   "id": "33f9d36f-eb2a-486e-a0fc-a4b915acdd34",
   "metadata": {},
   "outputs": [
    {
     "name": "stdout",
     "output_type": "stream",
     "text": [
      "It doesn't matter!\n"
     ]
    }
   ],
   "source": [
    "s2 = \"It doesn't matter!\"\n",
    "print(s2)"
   ]
  },
  {
   "cell_type": "markdown",
   "id": "5e6ce0a7-ed74-4ae2-a6f9-3407b614d0c9",
   "metadata": {},
   "source": [
    "Un texto que abarque más de una línea, se puede colocar entre comillas triples y sirve a su vez para crear la documentación de un código (`docstring`) "
   ]
  },
  {
   "cell_type": "code",
   "execution_count": 51,
   "id": "e12e0c09-3bbd-42f1-b779-a0ec520581dc",
   "metadata": {},
   "outputs": [
    {
     "name": "stdout",
     "output_type": "stream",
     "text": [
      "Este texto se puede\n",
      "escribir en varias\n",
      "líneas de código\n",
      "\n"
     ]
    }
   ],
   "source": [
    "txt = \"\"\"Este texto se puede\n",
    "escribir en varias\n",
    "líneas de código\n",
    "\"\"\"\n",
    "print(txt)"
   ]
  },
  {
   "cell_type": "markdown",
   "id": "3d7f23f8-72e0-47b8-b6ec-99ca9791ad31",
   "metadata": {},
   "source": [
    "### Concatenación\n",
    "Junta los caracteres vinculándolos de extremo a extremo mediante el operador `+`"
   ]
  },
  {
   "cell_type": "code",
   "execution_count": 52,
   "id": "a4cb37f5-0273-46ce-baf6-20cbcd739eb6",
   "metadata": {},
   "outputs": [
    {
     "name": "stdout",
     "output_type": "stream",
     "text": [
      "Hola\tMundo\tcómoestás?\n",
      "Hola Mundo Cómo estás?\n"
     ]
    }
   ],
   "source": [
    "a = \"Hola\"\n",
    "b = \"Mundo\"\n",
    "c = \"cómo\"\n",
    "d = \"estás?\"\n",
    "blank = \"\\t\"\n",
    "print(a + blank + b + blank + c  + d )\n",
    "print(\"Hola\" + \" \" + \"Mundo\" + \" Cómo\" + \" estás?\")"
   ]
  },
  {
   "cell_type": "markdown",
   "id": "2c125419-7c84-426f-903b-7f13f12c13e8",
   "metadata": {},
   "source": [
    "¿Cómo le pido información la usuario?"
   ]
  },
  {
   "cell_type": "code",
   "execution_count": 53,
   "id": "8f5fc732-7670-47f6-9431-95a8c63129ee",
   "metadata": {},
   "outputs": [
    {
     "name": "stdout",
     "output_type": "stream",
     "text": [
      "sruap12@com.co.co\n"
     ]
    }
   ],
   "source": [
    "usuario = input(\"Ingrese el usuario: \")\n",
    "numero = input(\"Ingrese un número consecutivo: \")\n",
    "arroba = \"@\"\n",
    "dot = \".\"\n",
    "dominio = input(\"Ingrese el dominio: \")\n",
    "servicio = input(\"Ingrese el servicio: \")\n",
    "pais = input(\"Ingrese el país: \")\n",
    "\n",
    "correo = usuario + numero + arroba + dominio + dot + servicio + dot + pais\n",
    "print(correo)"
   ]
  },
  {
   "cell_type": "markdown",
   "id": "fae80a5a-fe7b-4304-a1c2-02e2eb6df0ea",
   "metadata": {},
   "source": [
    "### Repetición\n",
    "Una cadena de caracteres puede repetirse con el operador asterisco `*`"
   ]
  },
  {
   "cell_type": "code",
   "execution_count": 54,
   "id": "3d4ccfc5-2b1e-4c9f-8819-1a3ad74e095f",
   "metadata": {},
   "outputs": [
    {
     "name": "stdout",
     "output_type": "stream",
     "text": [
      "4Hola\n"
     ]
    }
   ],
   "source": [
    "cadena4 = str(4) + \"Hola\"\n",
    "print(cadena4)"
   ]
  },
  {
   "cell_type": "code",
   "execution_count": 55,
   "id": "496b2990-beee-4bcd-9fbb-17e5ff9e5530",
   "metadata": {},
   "outputs": [
    {
     "name": "stdout",
     "output_type": "stream",
     "text": [
      "HolaHolaHolaHola\n"
     ]
    }
   ],
   "source": [
    "cadena4 = 4*\"Hola\"\n",
    "print(cadena4)"
   ]
  },
  {
   "cell_type": "markdown",
   "id": "387ff396-0e61-402d-8084-a4e7edbe2a55",
   "metadata": {},
   "source": [
    "### Indexación\n",
    "Una cadena de caracteres (sting) en `Python` consiste de una serie, o secuencia, de caracteres (letras, números y caracteres especiales). Las cadenas de caracteres pueden indexarse, similar al `C`, en donde el primer caracter tiene índice `0`:\n",
    "\n",
    "<p float=\"center\">\n",
    "  <img src=\"https://github.com/carlosalvarezh/FundamentosProgramacion/blob/main/images/Sem03Img01.png?raw=true\" width=\"750\" />\n",
    "</p>"
   ]
  },
  {
   "cell_type": "code",
   "execution_count": 56,
   "id": "5af08e90-eae7-4b67-8dbb-f3844ce327d0",
   "metadata": {},
   "outputs": [
    {
     "name": "stdout",
     "output_type": "stream",
     "text": [
      "estoesunapruebadeconcepto\n",
      "r\n",
      "o\n"
     ]
    }
   ],
   "source": [
    "a = \"estoesunapruebadeconcepto\"\n",
    "print(a)\n",
    "print(a[10])\n",
    "print(a[-1])"
   ]
  },
  {
   "cell_type": "markdown",
   "id": "7dbb67a3-422a-425c-b8ff-f80d3357213d",
   "metadata": {},
   "source": [
    "### Partición (slicing)\n",
    "Python posibilita extraer partes o porciones de una cadena de caracteres con la notación de `slicing`. Esta notación posibilita indicar desde donde hasta donde se quiere extraer la subcadena\n",
    "\n",
    "a[\"Start\":\"Stop\"]"
   ]
  },
  {
   "cell_type": "code",
   "execution_count": 57,
   "id": "991fe501-05aa-4b89-9b17-dc9b40121f21",
   "metadata": {},
   "outputs": [
    {
     "name": "stdout",
     "output_type": "stream",
     "text": [
      "estoe\n",
      "estoesunapruebadeconcept\n",
      "to\n",
      "est\n"
     ]
    }
   ],
   "source": [
    "print(a[0:5]) \n",
    "print(a[0:-1])  \n",
    "print(a[-2:]) \n",
    "print(a[:3])  "
   ]
  },
  {
   "cell_type": "code",
   "execution_count": 58,
   "id": "5ec0e50f-d708-4b5b-b014-7818e3af7f6c",
   "metadata": {},
   "outputs": [
    {
     "name": "stdout",
     "output_type": "stream",
     "text": [
      "No Python documentation found for 'endswith'.\n",
      "Use help() to get the interactive help utility.\n",
      "Use help(str) for help on the str class.\n",
      "\n"
     ]
    }
   ],
   "source": [
    "help(\"endswith\")"
   ]
  },
  {
   "cell_type": "markdown",
   "id": "2d163b7c-a09a-43ba-98f0-be93ef7c67c3",
   "metadata": {},
   "source": [
    "## I/O Estándar\n",
    "- En *Python3* la función estandar para el ingreso de datos por teclado es `input()`\n",
    "- En *Python2* es `raw_input()`\n",
    "- La salida por defecto es la función `print()`, que si bien es la más \"simplista\" no es la más elegante."
   ]
  },
  {
   "cell_type": "code",
   "execution_count": 59,
   "id": "ae0eb5f6-0720-4426-a5ed-2c268e3e8915",
   "metadata": {},
   "outputs": [
    {
     "name": "stdout",
     "output_type": "stream",
     "text": [
      "<class 'float'>\n",
      "<class 'float'>\n",
      "Hola 76.0\n"
     ]
    }
   ],
   "source": [
    "nombre = float(input(\"Cuál es tu peso?\"))\n",
    "print(type(nombre))\n",
    "peso1 = nombre*3.5\n",
    "print(type(peso1))\n",
    "print(\"Hola\", nombre)"
   ]
  },
  {
   "cell_type": "markdown",
   "id": "7b7790db-ec0e-4aaf-b2d9-7c37b39730e2",
   "metadata": {},
   "source": [
    "Que pasa si quiero imprimir algo dentro de una cadena?"
   ]
  },
  {
   "cell_type": "code",
   "execution_count": 60,
   "id": "5affc692-172a-4c6f-af19-ac94fe521064",
   "metadata": {},
   "outputs": [
    {
     "name": "stdout",
     "output_type": "stream",
     "text": [
      "una yuca cuyo precio por unidad es:3256.33, del Art:  845, que es una yuca\n"
     ]
    }
   ],
   "source": [
    "articulo = 845\n",
    "nombre = \"yuca\"\n",
    "precio = 3256.3289\n",
    "print(\"una {1:s} cuyo precio por unidad es:{2:.2f}, del Art:{0:5d}, que es una {1:s}\".format(articulo,nombre, precio))"
   ]
  },
  {
   "attachments": {},
   "cell_type": "markdown",
   "id": "dba1277e-8485-44dd-bf50-071ae5e25593",
   "metadata": {},
   "source": [
    "## Laboratorio\n",
    "\n",
    "- ***Ejercicio 1.*** Queremos ejecutar las siguientes sentencias de asignación:\n",
    "    - ancho = 17\n",
    "    - alto = 12.0\n",
    "    - delimitador = \".\"\n",
    "\n",
    "    Para cada una de las siguentes expresiones, escriba el valor de la expresión y el tipo (del valor de la expresión)\n",
    "\n",
    "    - ancho / 2\n",
    "    - ancho / 2.0\n",
    "    - alto / 3\n",
    "    - 1 + 2 * 5\n",
    "    - delimitador * 5\n",
    "\n",
    "\n",
    "- ***Ejercicio 2.*** El volumen de una esfera de radio $r$ es $\\frac{4}{3} \\pi r^3$. Cuál es el volúmen de una esfera de radio 5?\n",
    "\n",
    "\n",
    "- ***Ejercicio 3.*** Suponga que el precio de un libro es de 57.500 y la librería tiene un 40\\% de descuento. Los costos de envío son \\$5.500\\$ para la primera copia y \\$1.500 \\$ por cada copia adicional. Cuál es el costo total de 60 copias? \n",
    "\n",
    "\n",
    "- ***Ejercicio 4.*** La fórmula de [Herón](https://es.wikipedia.org/wiki/Fórmula_de_Herón \"Fórmula de Herón\") ofrece una forma de obtener el área de un triángulo dados los lados $a$, $b$ y $c$: \n",
    "\n",
    "$$Área = \\sqrt{s(s-a)(s-b)(s-c)}$$ \n",
    "\n",
    "donde \n",
    "\n",
    "$$s=\\frac{a+b+c}{2}$$ \n",
    "\n",
    "Haga un programa en Python que calcule el área del triángulo empleando la fórmula de Herón y usando única y exclusivamente los comandos vistos hasta el momento."
   ]
  }
 ],
 "metadata": {
  "kernelspec": {
   "display_name": "mlfinance",
   "language": "python",
   "name": "python3"
  },
  "language_info": {
   "codemirror_mode": {
    "name": "ipython",
    "version": 3
   },
   "file_extension": ".py",
   "mimetype": "text/x-python",
   "name": "python",
   "nbconvert_exporter": "python",
   "pygments_lexer": "ipython3",
   "version": "3.10.9"
  },
  "vscode": {
   "interpreter": {
    "hash": "89cafe07fa9106b7e0014ff380c907a9e86547fc22d76eb24752761b967d32b8"
   }
  }
 },
 "nbformat": 4,
 "nbformat_minor": 5
}
