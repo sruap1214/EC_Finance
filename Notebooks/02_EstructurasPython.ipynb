{
 "cells": [
  {
   "cell_type": "markdown",
   "id": "b7afeb4e-a725-4733-ba56-0629374a123b",
   "metadata": {},
   "source": [
    "<h1 align=\"center\"><b>Modelación Financiera I</b></h1>\n",
    "<h1 align=\"center\"><b> Módulo 2, parte 1 </b></h1>\n",
    "<h1 align=\"center\"><b> Estructuras de Python </b></h1>"
   ]
  },
  {
   "cell_type": "markdown",
   "id": "92f3cb9a-0cfa-4612-a196-948c2002448a",
   "metadata": {},
   "source": [
    "*** \n",
    "\n",
    "***Docente:*** Santiago Rúa Pérez, PhD.\n",
    "\n",
    "***e-mail:*** srua@udemedellin.edu.co\n",
    "\n",
    "***Herramienta:*** [Jupyter Notebook](http://jupyter.org/)\n",
    "\n",
    "***Kernel:*** Python 3.7\n",
    "\n",
    "***MEDELLÍN - COLOMBIA***\n",
    "\n",
    "***2022***\n",
    "\n",
    "***"
   ]
  },
  {
   "cell_type": "markdown",
   "id": "841377aa-60e8-4831-9921-fa961104eeb1",
   "metadata": {},
   "source": [
    "<h1>Table of Contents<span class=\"tocSkip\"></span></h1>\n",
    "<div class=\"toc\"><ul class=\"toc-item\">\n",
    "    <li><span><a href=\"#Introduccion\" data-toc-modified-id=\"Introduccion-1\"><span class=\"toc-item-num\">1&nbsp;&nbsp;</span>Introducción</a></span></li>\n",
    "    <li><span><a href=\"#Listas\" data-toc-modified-id=\"Listas-2\"><span class=\"toc-item-num\">2&nbsp;&nbsp;</span>Listas</a></span></li>\n",
    "    <li><span><a href=\"#Diccionarios\" data-toc-modified-id=\"Diccionarios-3\"><span class=\"toc-item-num\">3&nbsp;&nbsp;</span>Diccionarios</a></span></li>\n",
    "    </ul></div>"
   ]
  },
  {
   "cell_type": "markdown",
   "id": "44d7e944-4207-4076-b5cb-b71850f0ada3",
   "metadata": {},
   "source": [
    "## Introducción\n",
    "\n",
    "- Por el momento cada variable trabaja se ha visto como una valor simple o número simple, o una cadena de caracteres. Cuando se trabaja los ciclos se vieron como una lista podia ser usada para recorrerla. Sin embargo, no se explico el potencial de estas.\n",
    "\n",
    "- Este módulo estará enfocado en como se pueden agrupar diferentes datos para formar estructuras mas complejas con características particulares a cada uno.\n",
    "\n",
    "- Python posee diferentes tipos de colecciones de datos: *Listas*, *Diccionarios* y *Tuplas*.\n",
    "\n",
    "- Estos tres tipos, pueden almacenar colecciones de datos de diversos tipos y se diferencian por su sintaxis y por la forma en la cual los datos pueden ser manipulados."
   ]
  },
  {
   "cell_type": "markdown",
   "id": "ec582835-26e2-48a5-860a-4663321173f3",
   "metadata": {},
   "source": [
    "## Listas\n",
    "\n",
    "Las listas son secuencias de valores, y se relacionan con los arreglos (`arrays`) en lenguajes como `C`, `C++` o `Java`. Sin embargo, a diferencia de los arreglos clásicos en estos lenguajes de programación, una lista en python es mas flexible ya que puede contener cualquier tipo de datos y adicionalmente estar mezclados.  \n",
    "\n",
    "Las principales propiedades de una lista son:\n",
    "\n",
    "- Están ordenados\n",
    "\n",
    "- Contienen una colección arbitraria de objetos (números, cadenas, booleanos, otras listas...)\n",
    "\n",
    "- Los elementos de una lista pueden ser accesados por un índice\n",
    "\n",
    "- Variable en tamaño\n",
    "\n",
    "- Son mutables, es decir, los elementos en una lista pueden cambiar\n",
    "\n",
    "Para definir una lista basta ubicar los diferentes elementos que la compondrán, separados por coma y entre corchetes"
   ]
  },
  {
   "cell_type": "code",
   "execution_count": 1,
   "id": "3686ef90-a266-4415-837f-5c46b098620d",
   "metadata": {},
   "outputs": [
    {
     "name": "stdout",
     "output_type": "stream",
     "text": [
      "<class 'list'>\n",
      "['hola', 13, 2.8, 'mundo', True, '98456', 27]\n"
     ]
    }
   ],
   "source": [
    "primera_lista = ['hola', 13, 2.8, \"mundo\", True, \"98456\", 27]\n",
    "print(type(primera_lista))\n",
    "print(primera_lista)"
   ]
  },
  {
   "cell_type": "markdown",
   "id": "7cf0e144-6c25-4601-a9ad-ab971bf215a4",
   "metadata": {},
   "source": [
    "- La indexación o acceso a los elementos de una lista siempre comienza con el indice cero (`0`) y de forma ascedente. También se puede acceder de forma negativa comenzando con la posición final `-1`."
   ]
  },
  {
   "cell_type": "code",
   "execution_count": 2,
   "id": "2f30d14c-51d5-4a90-90e5-01fde3ddbd69",
   "metadata": {},
   "outputs": [
    {
     "name": "stdout",
     "output_type": "stream",
     "text": [
      "hola\n",
      "hola\n"
     ]
    }
   ],
   "source": [
    "# ¿Cómo acceder al primer elemento de la lista?\n",
    "n = len(primera_lista)\n",
    "print(primera_lista[0])\n",
    "print(primera_lista[-n])"
   ]
  },
  {
   "cell_type": "code",
   "execution_count": 3,
   "id": "07b0c46f-dda5-4dfd-9233-3acdaf1054b5",
   "metadata": {},
   "outputs": [
    {
     "name": "stdout",
     "output_type": "stream",
     "text": [
      "27\n",
      "27\n"
     ]
    }
   ],
   "source": [
    "# ¿Cómo acceder al último elemento de la lista?\n",
    "n = len(primera_lista)\n",
    "print(primera_lista[n-1])\n",
    "print(primera_lista[-1])"
   ]
  },
  {
   "cell_type": "markdown",
   "id": "9d169af4-473f-4675-b2d9-e994c549a666",
   "metadata": {},
   "source": [
    "#### Mutabilidad en las listas\n",
    "\n",
    "A diferencias de las cadenas de caracteres, las listas son mutables porque se pueden cambiar el orden de los elementos o reasignar valor a las posiciones de la lista"
   ]
  },
  {
   "cell_type": "code",
   "execution_count": 4,
   "id": "fb909123-5488-4d87-883f-061971cd679b",
   "metadata": {},
   "outputs": [
    {
     "name": "stdout",
     "output_type": "stream",
     "text": [
      "['hola', 13, 2.8, 'mundo', True, '98456', 27]\n",
      "['hola', 13, 2.8, 3.8, True, '98456', 27]\n"
     ]
    }
   ],
   "source": [
    "print(primera_lista)\n",
    "primera_lista[3] = 3.8\n",
    "print(primera_lista)"
   ]
  },
  {
   "cell_type": "markdown",
   "id": "246f61b0-d556-41e5-b96d-4d22f9e61433",
   "metadata": {},
   "source": [
    "La función `len()` permite determinar el tamaño de la lista (cantidad de elementos que la componen)"
   ]
  },
  {
   "cell_type": "markdown",
   "id": "72f6fd7f-35c9-4e3f-ad19-1790a44cff85",
   "metadata": {},
   "source": [
    "Para saber cuáles métodos se aplican a una lista, se coloca el nombre de la lista seguido de un `.` y la opción autocompletar (tabulación). Se despliega un menú con los diferentes métodos:"
   ]
  },
  {
   "cell_type": "markdown",
   "id": "27d648a1-b0dd-44df-a7e7-c5583f4961b3",
   "metadata": {},
   "source": [
    "`primera_lista.`"
   ]
  },
  {
   "cell_type": "markdown",
   "id": "73ce3413-fc6d-4a61-b1d0-0ceffbade8db",
   "metadata": {},
   "source": [
    "Adicionalmente se puede mirar mas a detalle toda la lista de atributos que tienen las listas utilizando la función `dir`"
   ]
  },
  {
   "cell_type": "code",
   "execution_count": 5,
   "id": "3941842c-4464-4651-86e8-00250674a77d",
   "metadata": {},
   "outputs": [
    {
     "data": {
      "text/plain": [
       "['__add__',\n",
       " '__class__',\n",
       " '__class_getitem__',\n",
       " '__contains__',\n",
       " '__delattr__',\n",
       " '__delitem__',\n",
       " '__dir__',\n",
       " '__doc__',\n",
       " '__eq__',\n",
       " '__format__',\n",
       " '__ge__',\n",
       " '__getattribute__',\n",
       " '__getitem__',\n",
       " '__gt__',\n",
       " '__hash__',\n",
       " '__iadd__',\n",
       " '__imul__',\n",
       " '__init__',\n",
       " '__init_subclass__',\n",
       " '__iter__',\n",
       " '__le__',\n",
       " '__len__',\n",
       " '__lt__',\n",
       " '__mul__',\n",
       " '__ne__',\n",
       " '__new__',\n",
       " '__reduce__',\n",
       " '__reduce_ex__',\n",
       " '__repr__',\n",
       " '__reversed__',\n",
       " '__rmul__',\n",
       " '__setattr__',\n",
       " '__setitem__',\n",
       " '__sizeof__',\n",
       " '__str__',\n",
       " '__subclasshook__',\n",
       " 'append',\n",
       " 'clear',\n",
       " 'copy',\n",
       " 'count',\n",
       " 'extend',\n",
       " 'index',\n",
       " 'insert',\n",
       " 'pop',\n",
       " 'remove',\n",
       " 'reverse',\n",
       " 'sort']"
      ]
     },
     "execution_count": 5,
     "metadata": {},
     "output_type": "execute_result"
    }
   ],
   "source": [
    "dir(primera_lista)"
   ]
  },
  {
   "cell_type": "markdown",
   "id": "cde0811e-d4fe-4b9a-9c22-8fa30b12f8fb",
   "metadata": {},
   "source": [
    "A las listas se les permiten agregar nuevos valores mediante el método `append`. El método `append` adiciona cada vez un elemento al final de la lista (es lo que en estructura de datos se conoce con el concepto de `pila`"
   ]
  },
  {
   "cell_type": "code",
   "execution_count": 6,
   "id": "64d43f0e-88b0-4df6-9842-20b3b1baa352",
   "metadata": {},
   "outputs": [
    {
     "name": "stdout",
     "output_type": "stream",
     "text": [
      "['hola', 13, 2.8, 3.8, True, '98456', 27]\n",
      "['hola', 13, 2.8, 3.8, True, '98456', 27, 'bien']\n"
     ]
    }
   ],
   "source": [
    "print(primera_lista)\n",
    "primera_lista.append(\"bien\")\n",
    "print(primera_lista)"
   ]
  },
  {
   "cell_type": "markdown",
   "id": "55d41868-a0e1-4332-8af4-1eb4f0901424",
   "metadata": {},
   "source": [
    "Si se requiere insertar un elemento en una posición fija, entonces el método que se requiere es `insert`, el cual recibe dos argumentos la posición en la lista donde se desea ingresar el elemento y el elemento a ingresar en la lista"
   ]
  },
  {
   "cell_type": "code",
   "execution_count": 7,
   "id": "3a01ac55-7037-485e-987a-4a717597f598",
   "metadata": {},
   "outputs": [
    {
     "name": "stdout",
     "output_type": "stream",
     "text": [
      "La lista original es ['hola', 13, 2.8, 3.8, True, '98456', 27, 'bien'] con longitud 8\n",
      "La lista posterior es ['hola', 13, 2.8, 'Esto es una prueba', 3.8, True, '98456', 27, 'bien'] con longitud 9\n"
     ]
    }
   ],
   "source": [
    "print(\"La lista original es {} con longitud {}\".format(primera_lista,len(primera_lista)))\n",
    "primera_lista.insert(3,\"Esto es una prueba\")\n",
    "print(\"La lista posterior es {} con longitud {}\".format(primera_lista,len(primera_lista)))"
   ]
  },
  {
   "cell_type": "markdown",
   "id": "7d0a6e28-0126-4523-a1d8-a68d1d7a57b4",
   "metadata": {},
   "source": [
    "#### Problema 1\n",
    "\n",
    "Qué pasa si quiero agregar una lista a otra lista, es decir unir dos listas?\n",
    "Ej: Tengo la lista 1 que tiene los elementos l1 = [3,\"hola\",4.5] y la segunda lista tiene l2 = [\"prueba\",7]. Se requiere la lista que tenga las dos.\n",
    "\n",
    "**Solución**\n",
    "\n",
    "- Se utiliza solo el append?\n",
    "\n",
    "- Y que pasa con cada elemento?\n",
    "\n",
    "- Habra un método que nos ayude (Hint: extend)\n",
    "\n"
   ]
  },
  {
   "cell_type": "markdown",
   "id": "517e57c6-906f-4242-9862-c2639a9b62d4",
   "metadata": {},
   "source": [
    "Para eliminar elementos de una lista en Python, este te da tres opciones para hacerlo\n",
    "- `del`: eliminación por índice\n",
    "- `remove`: eliminación por valor\n",
    "- `pop`: Eliminación por índice, mostrando el elemento eliminado.\n"
   ]
  },
  {
   "cell_type": "code",
   "execution_count": 8,
   "id": "8435c1b6-127c-4e06-a390-b50456e5edc6",
   "metadata": {},
   "outputs": [
    {
     "name": "stdout",
     "output_type": "stream",
     "text": [
      "['hola', 13, 2.8, 'Esto es una prueba', 3.8, True, '98456', 27, 'bien']\n",
      "['hola', 13, 'Esto es una prueba', 3.8, True, '98456', 27, 'bien']\n"
     ]
    }
   ],
   "source": [
    "print(primera_lista)\n",
    "del primera_lista[2]\n",
    "print(primera_lista)"
   ]
  },
  {
   "cell_type": "code",
   "execution_count": 9,
   "id": "24c66db0-17eb-4f94-be63-ad1eb35ef9d0",
   "metadata": {},
   "outputs": [
    {
     "name": "stdout",
     "output_type": "stream",
     "text": [
      "[1, 6, 3, 4, 2, 1, 6, 7, 3]\n"
     ]
    }
   ],
   "source": [
    "segunda_lista = [1,6,3,4,2,1,6,7,3]\n",
    "print(segunda_lista)"
   ]
  },
  {
   "cell_type": "code",
   "execution_count": 10,
   "id": "adef9a34-46a0-47de-ae1f-6711ac38479a",
   "metadata": {},
   "outputs": [
    {
     "name": "stdout",
     "output_type": "stream",
     "text": [
      "[1, 3, 4, 2, 1, 6, 7, 3]\n"
     ]
    }
   ],
   "source": [
    "segunda_lista.remove(6)\n",
    "print(segunda_lista)"
   ]
  },
  {
   "cell_type": "code",
   "execution_count": 11,
   "id": "4ff36796-7fa3-4fd5-a779-bd86b78921e2",
   "metadata": {},
   "outputs": [
    {
     "ename": "ValueError",
     "evalue": "list.remove(x): x not in list",
     "output_type": "error",
     "traceback": [
      "\u001b[1;31m---------------------------------------------------------------------------\u001b[0m",
      "\u001b[1;31mValueError\u001b[0m                                Traceback (most recent call last)",
      "Cell \u001b[1;32mIn[11], line 1\u001b[0m\n\u001b[1;32m----> 1\u001b[0m segunda_lista\u001b[39m.\u001b[39;49mremove(\u001b[39m20\u001b[39;49m)\n\u001b[0;32m      2\u001b[0m \u001b[39mprint\u001b[39m(segunda_lista)\n",
      "\u001b[1;31mValueError\u001b[0m: list.remove(x): x not in list"
     ]
    }
   ],
   "source": [
    "segunda_lista.remove(20)\n",
    "print(segunda_lista)"
   ]
  },
  {
   "cell_type": "code",
   "execution_count": 12,
   "id": "7a44a840-a9b2-4f90-8ab4-91597831cec4",
   "metadata": {},
   "outputs": [
    {
     "name": "stdout",
     "output_type": "stream",
     "text": [
      "[1, 6, 3, 4, 2, 1, 6, 7, 3]\n"
     ]
    },
    {
     "data": {
      "text/plain": [
       "3"
      ]
     },
     "execution_count": 12,
     "metadata": {},
     "output_type": "execute_result"
    }
   ],
   "source": [
    "segunda_lista = [1,6,3,4,2,1,6,7,3]\n",
    "print(segunda_lista)\n",
    "segunda_lista.pop(2)"
   ]
  },
  {
   "cell_type": "markdown",
   "id": "599be875-e3b9-4504-b137-dd8cb77b67fd",
   "metadata": {},
   "source": [
    "#### Problema 2\n",
    "\n",
    "Qué pasa si lo que quiero es extraer una parte de una lista o modificarla, ya no solo un número sino varios?\n"
   ]
  },
  {
   "cell_type": "markdown",
   "id": "d67794ab-4301-46ed-aca6-41cb75f818a2",
   "metadata": {},
   "source": [
    "### Slicing ( particionado)\n",
    "Permitir seleccionar porciones de la lista para generar sublistas. \n",
    "\n",
    "\n",
    "- Si en lugar de un número escribimos dos números `start` y `stop` separados por dos puntos `lista[start:stop]`,  `Python` interpretará que queremos una lista que vaya desde la posición `start` hasta la posición `stop`, sin incluir este último. \n",
    "\n",
    "\n",
    "- Si escribimos tres números `lista[start:stop:step]` en lugar de dos, el tercero se utiliza para determinar cada cuantas posiciones añadir un elemento a la lista."
   ]
  },
  {
   "cell_type": "code",
   "execution_count": 13,
   "id": "5af0237d-d1ae-45c2-9b44-70305c60f091",
   "metadata": {},
   "outputs": [
    {
     "name": "stdout",
     "output_type": "stream",
     "text": [
      "['hola', 13, 2.8, 'mundo', True, '98456', 27]\n"
     ]
    }
   ],
   "source": [
    "primera_lista = ['hola', 13, 2.8, \"mundo\", True, \"98456\", 27]\n",
    "print(primera_lista)"
   ]
  },
  {
   "cell_type": "code",
   "execution_count": 14,
   "id": "11813a05-3fd5-4fa1-9a99-8b7bf09113fd",
   "metadata": {},
   "outputs": [
    {
     "name": "stdout",
     "output_type": "stream",
     "text": [
      "[13, 2.8]\n"
     ]
    }
   ],
   "source": [
    "sub_lista1 = primera_lista[1:3] #n-1\n",
    "print(sub_lista1)"
   ]
  },
  {
   "cell_type": "code",
   "execution_count": 15,
   "id": "ed515b0d-8185-4224-ac6d-24ea8e38069b",
   "metadata": {},
   "outputs": [
    {
     "name": "stdout",
     "output_type": "stream",
     "text": [
      "['hola', 2.8, True, 27]\n"
     ]
    }
   ],
   "source": [
    "sub_lista2 = primera_lista[0:7:2] #n-1\n",
    "print(sub_lista2)"
   ]
  },
  {
   "cell_type": "markdown",
   "id": "69f77f3f-9902-4fc9-9738-457038695ef5",
   "metadata": {},
   "source": [
    "Si usted quiere acceder al inicio o final para realizar el slicing no es necesario indicarlos explicitamente, sino que, si estos se omiten, se usarán por defecto las posiciones de inicio y fin de la lista, respectivamente."
   ]
  },
  {
   "cell_type": "code",
   "execution_count": 16,
   "id": "c9cdc1a7-ff8f-4b76-a0ef-cf2d9e46fa50",
   "metadata": {},
   "outputs": [
    {
     "name": "stdout",
     "output_type": "stream",
     "text": [
      "[True, '98456', 27]\n"
     ]
    }
   ],
   "source": [
    "sub_lista3 = primera_lista[4:] #n-1\n",
    "print(sub_lista3)"
   ]
  },
  {
   "cell_type": "code",
   "execution_count": 17,
   "id": "e6ce4382-c20c-4b86-b5ee-8441f303ba0d",
   "metadata": {},
   "outputs": [
    {
     "name": "stdout",
     "output_type": "stream",
     "text": [
      "['hola', 13, 2.8]\n"
     ]
    }
   ],
   "source": [
    "sub_lista4 = primera_lista[:3] #n-1\n",
    "print(sub_lista4)"
   ]
  },
  {
   "cell_type": "code",
   "execution_count": 18,
   "id": "34f7dcdd-181d-4c6c-95d8-e956da196f22",
   "metadata": {},
   "outputs": [
    {
     "name": "stdout",
     "output_type": "stream",
     "text": [
      "['hola', 13, 2.8, 'mundo', True, '98456', 27]\n"
     ]
    }
   ],
   "source": [
    "sub_lista5 = primera_lista[:] #n-1\n",
    "print(sub_lista5)"
   ]
  },
  {
   "cell_type": "code",
   "execution_count": 19,
   "id": "9751c91e-cebd-4354-b453-0678698ef517",
   "metadata": {},
   "outputs": [
    {
     "name": "stdout",
     "output_type": "stream",
     "text": [
      "['hola', 2.8, True, 27]\n"
     ]
    }
   ],
   "source": [
    "sub_lista3 = primera_lista[::2] #n-1\n",
    "print(sub_lista3)"
   ]
  },
  {
   "cell_type": "markdown",
   "id": "1ec40836-5dd0-4cb2-b625-dc6bd1db0a17",
   "metadata": {},
   "source": [
    "### Operaciones con listas\n",
    "\n",
    "Las listas son un conjunto de variables organizadas bajo un mismo nombre. Que pasa si le aplico operaciones básicas como suma y multiplicación?\n",
    "\n",
    "- El operador suma posibilita concatenar listas y no agregarlo como se fuera un elemento de la lista\n",
    "- El operador multiplicación permite hacer copias de la misma cadena `n` veces"
   ]
  },
  {
   "cell_type": "markdown",
   "id": "c4d3b5eb-2e04-4598-bfd5-e5220aed0cdc",
   "metadata": {},
   "source": [
    "lista_a = [12,\"como\",34]\n",
    "lista_b = [\"prueba\",54.5]\n",
    "lista_c = lista_a + lista_b\n",
    "print(lista_c)"
   ]
  },
  {
   "cell_type": "code",
   "execution_count": 20,
   "id": "0c18dd63-2536-473a-ac61-cabf1d5ac4ca",
   "metadata": {},
   "outputs": [
    {
     "name": "stdout",
     "output_type": "stream",
     "text": [
      "[0, 0, 0, 0]\n"
     ]
    }
   ],
   "source": [
    "print([0]*4)"
   ]
  },
  {
   "cell_type": "code",
   "execution_count": 21,
   "id": "507a8172-d14f-4dba-80cd-df58991130b1",
   "metadata": {},
   "outputs": [
    {
     "name": "stdout",
     "output_type": "stream",
     "text": [
      "[1, 2, 3, 1, 2, 3, 1, 2, 3, 1, 2, 3, 1, 2, 3]\n"
     ]
    }
   ],
   "source": [
    "print([1,2,3]*5)"
   ]
  },
  {
   "cell_type": "markdown",
   "id": "294b2eef-6041-4bfd-bea0-0cce9675fa44",
   "metadata": {},
   "source": [
    "### Listas y funciones\n",
    "\n",
    "Existen ciertas funciones ya escritas en Python que pueden ser usadas en las listas siempre y cuando cumplan ciertas restricciones. Anteriormente vimos que una de estas era `len`, la cual servia para obtener la longitud de la lista. Si la lista está compuesta por solo número entonces las siguientes funciones pueden ser aplicadas \n",
    "\n",
    "- `max()`: encuentra el número máximo de la lista\n",
    "- `min()`: encuentra el número mínimo de la lista\n",
    "- `sum()`: encuentra la suma de todos los elementos en la lista"
   ]
  },
  {
   "cell_type": "code",
   "execution_count": 22,
   "id": "c2c6d101-faff-4198-be1b-8e374cd0161b",
   "metadata": {},
   "outputs": [
    {
     "name": "stdout",
     "output_type": "stream",
     "text": [
      "74.5\n",
      "3\n",
      "155.0\n"
     ]
    }
   ],
   "source": [
    "nums = [3, 41, 12, 9.5, 74.5, 15]\n",
    "print(max(nums))\n",
    "print(min(nums))\n",
    "print(sum(nums))"
   ]
  },
  {
   "cell_type": "markdown",
   "id": "579b1a09-ba5c-4fb3-b389-76f100b647a3",
   "metadata": {},
   "source": [
    "Si la lista tiene un elemento que no es número entonces tendremos un error"
   ]
  },
  {
   "cell_type": "code",
   "execution_count": 23,
   "id": "457a9cad-2dbd-42de-9a85-3aa94411cd08",
   "metadata": {},
   "outputs": [
    {
     "ename": "TypeError",
     "evalue": "'>' not supported between instances of 'str' and 'int'",
     "output_type": "error",
     "traceback": [
      "\u001b[1;31m---------------------------------------------------------------------------\u001b[0m",
      "\u001b[1;31mTypeError\u001b[0m                                 Traceback (most recent call last)",
      "Cell \u001b[1;32mIn[23], line 2\u001b[0m\n\u001b[0;32m      1\u001b[0m nums \u001b[39m=\u001b[39m [\u001b[39m3\u001b[39m, \u001b[39m41\u001b[39m, \u001b[39m12\u001b[39m, \u001b[39m\"\u001b[39m\u001b[39mh\u001b[39m\u001b[39m\"\u001b[39m, \u001b[39m74.5\u001b[39m, \u001b[39m15\u001b[39m]\n\u001b[1;32m----> 2\u001b[0m \u001b[39mprint\u001b[39m(\u001b[39mmax\u001b[39;49m(nums))\n",
      "\u001b[1;31mTypeError\u001b[0m: '>' not supported between instances of 'str' and 'int'"
     ]
    }
   ],
   "source": [
    "nums = [3, 41, 12, \"h\", 74.5, 15]\n",
    "print(max(nums))"
   ]
  },
  {
   "cell_type": "markdown",
   "id": "a1811ecc-86c6-4ecf-9bdf-c2d5c9fc9a86",
   "metadata": {},
   "source": [
    "### Alias\n",
    "\n",
    "Consiste en cuando se asigna un objeto a otro, entonces ambos tendran la misma referencia. Por ejemplo si se tiene una lista `a` y se hace una asignación a la variable `b` de esa lista, entonces los dos acceden al mismo objeto. No se crea una copia. Si el objeto es mutable entonces un cambio en uno cambiará en el otro. "
   ]
  },
  {
   "cell_type": "code",
   "execution_count": 24,
   "id": "67705d67-e6c2-4483-af52-b0e553246d8b",
   "metadata": {},
   "outputs": [
    {
     "name": "stdout",
     "output_type": "stream",
     "text": [
      "[1, 2, 3]\n"
     ]
    }
   ],
   "source": [
    "a = [1,2,3]\n",
    "b = a\n",
    "print(b)"
   ]
  },
  {
   "cell_type": "code",
   "execution_count": 25,
   "id": "cf933580-8bd1-45b0-9c08-56798bc11cfb",
   "metadata": {},
   "outputs": [
    {
     "name": "stdout",
     "output_type": "stream",
     "text": [
      "[1, 25, 3]\n",
      "[1, 25, 3]\n"
     ]
    }
   ],
   "source": [
    "b[1] = 25\n",
    "print(a)\n",
    "print(b)"
   ]
  },
  {
   "cell_type": "markdown",
   "id": "dbb410ee-caf8-414a-8b04-aa6e8856299d",
   "metadata": {},
   "source": [
    "Si se requiere hacer la copia de la lista utilizar el comando `list`"
   ]
  },
  {
   "cell_type": "code",
   "execution_count": 26,
   "id": "ed901023-17f4-47eb-a98a-8f05208f5422",
   "metadata": {},
   "outputs": [
    {
     "name": "stdout",
     "output_type": "stream",
     "text": [
      "[1, 2, 3]\n"
     ]
    }
   ],
   "source": [
    "a = [1,2,3]\n",
    "b = list(a)\n",
    "print(b)"
   ]
  },
  {
   "cell_type": "code",
   "execution_count": 27,
   "id": "46ee0440-33db-4369-979f-734060e71ddb",
   "metadata": {},
   "outputs": [
    {
     "name": "stdout",
     "output_type": "stream",
     "text": [
      "[1, 2, 3]\n",
      "[1, 25, 3]\n"
     ]
    }
   ],
   "source": [
    "b[1] = 25\n",
    "print(a)\n",
    "print(b)"
   ]
  },
  {
   "cell_type": "markdown",
   "id": "250bce11-b87b-467a-85d6-0ef5ff94f198",
   "metadata": {},
   "source": [
    "### List comprenhension\n",
    "\n",
    "la comprensión de lista se incluyó en `Python`a partir de la versión `2.0`. Esencialmente, es la forma en que `Python` implementa una notación bien conocida para conjuntos como la usan los matemáticos.\n",
    "\n",
    "En matemáticas, si se requiere describir el conjunto de los números elevados al cuadrado de cada número natural, se puede utiliza notación de conjunto como {x2 | x ∈ ℕ} o el conjunto de enteros complejos {(x, y) | x ∈ ℤ ∧ y ∈ ℤ}.\n",
    "\n",
    "La comprensión de listas es una forma elegante de definir y crear listas en `Python`. Estas listas tienen a menudo las cualidades de conjuntos, pero no son en todos los casos conjuntos.\n",
    "\n",
    "La estructura de la comprensión de lista es:\n",
    "\n",
    "- list_variable = [x for x in iterable]"
   ]
  },
  {
   "cell_type": "code",
   "execution_count": 28,
   "id": "e86ad455-c2eb-4b92-b98a-8ce397afbece",
   "metadata": {},
   "outputs": [
    {
     "name": "stdout",
     "output_type": "stream",
     "text": [
      "[102.56, 97.7, 99.14, 100.03999999999999]\n"
     ]
    }
   ],
   "source": [
    "# Se requiere convertir una lista que contiene temperatura en grados Celsius a Fahrenheit\n",
    "Celsius = [39.2, 36.5, 37.3, 37.8]\n",
    "Fahrenheit = []\n",
    "for x in Celsius:\n",
    "    Fahrenheit.append((9/5*x + 32))\n",
    "print(Fahrenheit)"
   ]
  },
  {
   "cell_type": "code",
   "execution_count": 29,
   "id": "6ca7a859-8b48-462d-b735-57843bb0ba5f",
   "metadata": {},
   "outputs": [
    {
     "name": "stdout",
     "output_type": "stream",
     "text": [
      "[102.56, 97.7, 99.14, 100.03999999999999]\n"
     ]
    }
   ],
   "source": [
    "# Y como se resuelve de utilizando list comprehension?\n",
    "Celsius = [39.2, 36.5, 37.3, 37.8]\n",
    "Fahrenheit = [ (9/5*temp_C + 32) for temp_C in Celsius ]\n",
    "print(Fahrenheit)"
   ]
  },
  {
   "cell_type": "markdown",
   "id": "75201615-9f67-42ae-9684-171d1e4cbd62",
   "metadata": {},
   "source": [
    "## Tuplas\n",
    "\n",
    "- Una tupla es una variable que permite almacenar varios datos inmutables (no pueden ser modificados una vez creados) de tipos diferentes y separados por coma `,`. \n",
    "\n",
    "- Aunque no es obligatorio, es usual juntar estos datos entre paréntesis."
   ]
  },
  {
   "cell_type": "code",
   "execution_count": 30,
   "id": "e25a885c-b4ed-49eb-95ee-924c2d113d0b",
   "metadata": {},
   "outputs": [
    {
     "name": "stdout",
     "output_type": "stream",
     "text": [
      "(1, 'a', 2.5, 'dato')\n",
      "<class 'tuple'>\n"
     ]
    }
   ],
   "source": [
    "mi_tupla = (1, \"a\", 2.5, \"dato\" )\n",
    "print(mi_tupla)\n",
    "print(type(mi_tupla))"
   ]
  },
  {
   "cell_type": "code",
   "execution_count": 31,
   "id": "c8c13a47-484c-4baf-a371-f0fcd42b6067",
   "metadata": {},
   "outputs": [
    {
     "name": "stdout",
     "output_type": "stream",
     "text": [
      "(2, 'Dato', 2.9, 'Zammis', False, 'otro dato')\n",
      "<class 'tuple'>\n"
     ]
    }
   ],
   "source": [
    "otra_tupla = (2, \"Dato\", 2.9, \"Zammis\", False, \"otro dato\")\n",
    "print(otra_tupla)\n",
    "print(type(otra_tupla))"
   ]
  },
  {
   "cell_type": "markdown",
   "id": "27e76484-ac32-4771-b387-631c9bcbd207",
   "metadata": {},
   "source": [
    "Se pueden tener tuplas de un solo elemento, pero se debe asignar la coma al final, de lo contrario se tomara como una cadena. Adicionalmente se pueden crear tuplas vacias utilizando el constructor `tuple()`"
   ]
  },
  {
   "cell_type": "code",
   "execution_count": 32,
   "id": "20894087-1ade-4acb-a7df-72ee827f7080",
   "metadata": {},
   "outputs": [
    {
     "name": "stdout",
     "output_type": "stream",
     "text": [
      "('a',)\n",
      "<class 'tuple'>\n",
      "a\n",
      "<class 'str'>\n"
     ]
    }
   ],
   "source": [
    "individual_tupla = ('a',)\n",
    "print(individual_tupla)\n",
    "print(type(individual_tupla))\n",
    "\n",
    "no_tupla = ('a')\n",
    "print(no_tupla)\n",
    "print(type(no_tupla))"
   ]
  },
  {
   "cell_type": "code",
   "execution_count": 33,
   "id": "2b43a4bd-dcef-4ab0-90ec-fa240a44ad18",
   "metadata": {},
   "outputs": [
    {
     "name": "stdout",
     "output_type": "stream",
     "text": [
      "()\n",
      "<class 'tuple'>\n"
     ]
    }
   ],
   "source": [
    "t_empty = tuple()\n",
    "print(t_empty)\n",
    "print(type(t_empty))"
   ]
  },
  {
   "cell_type": "markdown",
   "id": "3ae5be85-63da-4d07-9aee-7ce3687852fd",
   "metadata": {},
   "source": [
    "Para acceder a los elementos de una tupla y hacer recortes en la misma, utilizamos el operador `[]` igual que en las listas"
   ]
  },
  {
   "cell_type": "code",
   "execution_count": 34,
   "id": "6177fee5-ee6b-444a-b4eb-0848a51234f6",
   "metadata": {},
   "outputs": [
    {
     "name": "stdout",
     "output_type": "stream",
     "text": [
      "(1, 'a', 2.5, 'dato')\n",
      "dato\n"
     ]
    }
   ],
   "source": [
    "print(mi_tupla)\n",
    "dato_tupla = mi_tupla[3]\n",
    "print(dato_tupla)"
   ]
  },
  {
   "cell_type": "markdown",
   "id": "5d61bbeb-0f81-485f-b6d5-560afa7235ea",
   "metadata": {},
   "source": [
    "Cuando se comparan las tuplas, se hace en forma de secuencias. Pytho comienza comparando de izquiera a derecha hasta que el primer elemento cumpla la comparación. Por ejemplo"
   ]
  },
  {
   "cell_type": "code",
   "execution_count": 35,
   "id": "45058f63-8c10-46c5-aaff-0296fbd60862",
   "metadata": {},
   "outputs": [
    {
     "data": {
      "text/plain": [
       "True"
      ]
     },
     "execution_count": 35,
     "metadata": {},
     "output_type": "execute_result"
    }
   ],
   "source": [
    "(0,1,2) < (0,3,4)"
   ]
  },
  {
   "cell_type": "code",
   "execution_count": 36,
   "id": "eb5da946-004b-4d3f-8e67-610b495e5a70",
   "metadata": {},
   "outputs": [
    {
     "data": {
      "text/plain": [
       "True"
      ]
     },
     "execution_count": 36,
     "metadata": {},
     "output_type": "execute_result"
    }
   ],
   "source": [
    "(0, 1, 2000000) < (0, 3, 4)"
   ]
  },
  {
   "cell_type": "markdown",
   "id": "f33cd48d-f9e3-4475-adb1-5fceea881b73",
   "metadata": {},
   "source": [
    "### Problema 1 - Tuplas\n",
    "\n",
    "Supongamos que se quiere organizar las palabras de una frase de la mas larga a la mas corta"
   ]
  },
  {
   "cell_type": "code",
   "execution_count": 37,
   "id": "a26c31b7-6a30-4f33-a4f6-cb8e9799369d",
   "metadata": {},
   "outputs": [
    {
     "name": "stdout",
     "output_type": "stream",
     "text": [
      "['but', 'soft', 'what', 'light', 'in', 'yonder', 'window', 'breaks']\n"
     ]
    }
   ],
   "source": [
    "txt = \"but soft what light in yonder window breaks\"\n",
    "words = txt.split()\n",
    "print(words)"
   ]
  },
  {
   "cell_type": "markdown",
   "id": "9af8d885-f6d9-4585-914b-a4ff665d3c33",
   "metadata": {},
   "source": [
    "A continuación creamos una lista de tuplas en donde se tendra la longitud y la palabra"
   ]
  },
  {
   "cell_type": "code",
   "execution_count": 38,
   "id": "338bebf7-db1a-4e23-a486-0fe928a6b55b",
   "metadata": {},
   "outputs": [
    {
     "name": "stdout",
     "output_type": "stream",
     "text": [
      "[(3, 'but'), (4, 'soft'), (4, 'what'), (5, 'light'), (2, 'in'), (6, 'yonder'), (6, 'window'), (6, 'breaks')]\n"
     ]
    }
   ],
   "source": [
    "t = list()\n",
    "for word in words:\n",
    "    t.append((len(word),word))\n",
    "print(t)"
   ]
  },
  {
   "cell_type": "code",
   "execution_count": 39,
   "id": "c54a98e1-f004-4f45-977d-a015f819a410",
   "metadata": {},
   "outputs": [
    {
     "name": "stdout",
     "output_type": "stream",
     "text": [
      "[(6, 'yonder'), (6, 'window'), (6, 'breaks'), (5, 'light'), (4, 'what'), (4, 'soft'), (3, 'but'), (2, 'in')]\n"
     ]
    }
   ],
   "source": [
    "t.sort(reverse=True)\n",
    "print(t)"
   ]
  },
  {
   "cell_type": "code",
   "execution_count": 40,
   "id": "a92259f0-5bac-4156-b84f-4b80f859641f",
   "metadata": {},
   "outputs": [
    {
     "name": "stdout",
     "output_type": "stream",
     "text": [
      "['yonder', 'window', 'breaks', 'light', 'what', 'soft', 'but', 'in']\n"
     ]
    }
   ],
   "source": [
    "res = list()\n",
    "for length, word in t:\n",
    "    res.append(word)\n",
    "print(res)"
   ]
  },
  {
   "cell_type": "markdown",
   "id": "4cde6613-30e3-47c1-b264-570ca03b5c22",
   "metadata": {},
   "source": [
    "## Diccionarios\n",
    "\n",
    "- Un Diccionario es una estructura de datos y un tipo de dato en `Python`, con características especiales que nos permite almacenar cualquier tipo de valor como: enteros, cadenas, listas e incluso otras funciones. Estos diccionarios nos permiten además identificar cada elemento por una *clave* (`Key`), a diferencia de las tuplas y listas que se hace por un índice.\n",
    "\n",
    "\n",
    "- Para definir un diccionario, se encierra el listado de valores entre llaves, `{clave0:valor0, clave1:valor1, clave2:valor1, ...}`. Las parejas de *clave* y *valor* se separan con comas, y la *clave* y el *valor* se separan con dos puntos, (`:`).\n",
    "\n",
    "\n",
    "- Los diccionarios (llamados *arrays asociativos* o *tablas de hash* en otros lenguajes), son una estructura de datos muy poderosa, que permite asociar un valor a una clave.\n",
    "\n",
    "\n",
    "- Las claves deben ser de tipo inmutable, los valores pueden ser de cualquier tipo.\n",
    "\n",
    "\n",
    "- Los diccionarios no están ordenados. Si bien se los puede recorrer, el orden en el que se tomarán los elementos no está determinado.\n"
   ]
  },
  {
   "cell_type": "code",
   "execution_count": 41,
   "id": "2da06b36-772e-4e39-a9e1-604398d9ab15",
   "metadata": {},
   "outputs": [
    {
     "name": "stdout",
     "output_type": "stream",
     "text": [
      "La ciudad no esta en la lista\n"
     ]
    }
   ],
   "source": [
    "city_population = [(\"New York City\",8550405), (\"Los Angeles\",3971883), \n",
    "                   (\"Toronto\",2731571), (\"Chicago\",2720546), (\"Houston\",2296224),\n",
    "                   (\"Montreal\",1704694), (\"Calgary\",1239220), (\"Vancouver\",631486),\n",
    "                   (\"Boston\",667137)]\n",
    "\n",
    "value = input(\"Ingrese el nombre de la ciudad: \")\n",
    "\n",
    "print_pop = -1\n",
    "for city, population in city_population:\n",
    "    if value == city:\n",
    "        print_pop = population\n",
    "        break\n",
    "\n",
    "if print_pop != -1:\n",
    "    print(print_pop)\n",
    "else:\n",
    "    print(\"La ciudad no esta en la lista\")"
   ]
  },
  {
   "cell_type": "code",
   "execution_count": 42,
   "id": "d33d2b23-b7ed-4780-95c7-6e13c5390ec1",
   "metadata": {},
   "outputs": [
    {
     "name": "stdout",
     "output_type": "stream",
     "text": [
      "{'New York City': 8550405, 'Los Angeles': 3971883, 'Toronto': 2731571, 'Chicago': 2720546, 'Houston': 2296224, 'Montreal': 1704694, 'Calgary': 1239220, 'Vancouver': 631486, 'Boston': 667137}\n"
     ]
    }
   ],
   "source": [
    "city_pop_dic = dict(city_population)\n",
    "print(city_pop_dic)"
   ]
  },
  {
   "cell_type": "code",
   "execution_count": 44,
   "id": "6fa6322c-2953-40aa-9753-432550cd72d3",
   "metadata": {},
   "outputs": [
    {
     "name": "stdout",
     "output_type": "stream",
     "text": [
      "3971883\n"
     ]
    }
   ],
   "source": [
    "value = input(\"Ingrese el nombre de la ciudad: \")\n",
    "print(city_pop_dic[value])"
   ]
  },
  {
   "cell_type": "code",
   "execution_count": 45,
   "id": "796f66c1-c6ed-4a9a-b9f3-84f756723837",
   "metadata": {},
   "outputs": [
    {
     "name": "stdout",
     "output_type": "stream",
     "text": [
      "No existe la ciudad\n"
     ]
    }
   ],
   "source": [
    "value = input(\"Ingrese el nombre de la ciudad: \")\n",
    "print(city_pop_dic.get(value, \"No existe la ciudad\"))"
   ]
  },
  {
   "cell_type": "markdown",
   "id": "dc3ce7f1-907e-433f-a46a-154d9cd82e16",
   "metadata": {},
   "source": [
    "Cómo compruebo si una llave existe en un diccionario?"
   ]
  },
  {
   "cell_type": "code",
   "execution_count": 46,
   "id": "5f1b24fe-c2d9-42ac-8d83-9446016b8a29",
   "metadata": {},
   "outputs": [
    {
     "data": {
      "text/plain": [
       "True"
      ]
     },
     "execution_count": 46,
     "metadata": {},
     "output_type": "execute_result"
    }
   ],
   "source": [
    "\"Boston\" in city_pop_dic"
   ]
  },
  {
   "cell_type": "code",
   "execution_count": 47,
   "id": "a1fb7b57-6e93-40ba-960e-4ba5924d6d6f",
   "metadata": {},
   "outputs": [
    {
     "data": {
      "text/plain": [
       "False"
      ]
     },
     "execution_count": 47,
     "metadata": {},
     "output_type": "execute_result"
    }
   ],
   "source": [
    "\"MEdellin\" in city_pop_dic"
   ]
  },
  {
   "cell_type": "markdown",
   "id": "9810eb31-8ac3-427b-9475-de3bf773af3b",
   "metadata": {},
   "source": [
    "Para adicionar un nuevo elemento en el diccionario, basta con indicar la nueva llave y el valor de dicha llave, por ejemplo"
   ]
  },
  {
   "cell_type": "code",
   "execution_count": 48,
   "id": "810cff7e-bc61-417d-aa74-542bb26fdf9b",
   "metadata": {},
   "outputs": [
    {
     "name": "stdout",
     "output_type": "stream",
     "text": [
      "{'New York City': 8550405, 'Los Angeles': 3971883, 'Toronto': 2731571, 'Chicago': 2720546, 'Houston': 2296224, 'Montreal': 1704694, 'Calgary': 1239220, 'Vancouver': 631486, 'Boston': 667137, 'Medellin': 156850}\n"
     ]
    }
   ],
   "source": [
    "city_pop_dic[\"Medellin\"]=156850\n",
    "print(city_pop_dic)"
   ]
  },
  {
   "cell_type": "markdown",
   "id": "a6a75569-b2b4-49fd-898c-ec7b58d74e86",
   "metadata": {},
   "source": [
    "Es importante aclarar que las nuevas llaves y valores no tienen que ser del mismo tipo"
   ]
  },
  {
   "cell_type": "code",
   "execution_count": 49,
   "id": "4047d320-659c-482d-b1ed-f8c92d0a56f4",
   "metadata": {},
   "outputs": [
    {
     "name": "stdout",
     "output_type": "stream",
     "text": [
      "{'New York City': 8550405, 'Los Angeles': 3971883, 'Toronto': 2731571, 'Chicago': 2720546, 'Houston': 2296224, 'Montreal': 1704694, 'Calgary': 1239220, 'Vancouver': 631486, 'Boston': 667137, 'Medellin': 156850, 4: [1, 3, 4]}\n"
     ]
    }
   ],
   "source": [
    "city_pop_dic[4] = [1,3,4]\n",
    "print(city_pop_dic)"
   ]
  },
  {
   "cell_type": "code",
   "execution_count": 50,
   "id": "a5f3f001-6dfe-4892-899e-3cb956cf9c12",
   "metadata": {},
   "outputs": [
    {
     "name": "stdout",
     "output_type": "stream",
     "text": [
      "{'New York City': 8550405, 'Los Angeles': 3971883, 'Toronto': 2731571, 'Chicago': 2720546, 'Houston': 2296224, 'Montreal': 1704694, 'Calgary': 1239220, 'Vancouver': 631486, 'Boston': 667137, 'Medellin': 156850, 4: [1, 3, 4], (2, 'h'): [1, 'a']}\n"
     ]
    }
   ],
   "source": [
    "city_pop_dic[(2,\"h\")] = [1,\"a\"]\n",
    "print(city_pop_dic)"
   ]
  },
  {
   "cell_type": "markdown",
   "id": "deced199-c774-490b-b03f-0aaa4d50daf8",
   "metadata": {},
   "source": [
    "Solo existe una condición para el uso de llaves, y es que los objetos sean inmutables. Por lo anterior, no se pueden usar listas u otro diccionario para crear las llaves. Si se requiere crear un diccionario de diccionario, las llaves deberan ser fijas"
   ]
  },
  {
   "cell_type": "code",
   "execution_count": 51,
   "id": "ec70bb2e-14ae-4aa9-8ab4-a512f1b43438",
   "metadata": {},
   "outputs": [
    {
     "name": "stdout",
     "output_type": "stream",
     "text": [
      "bleu\n"
     ]
    }
   ],
   "source": [
    "en_de = {\"red\" : \"rot\", \"green\" : \"grün\", \"blue\" : \"blau\", \"yellow\":\"gelb\"}\n",
    "de_fr = {\"rot\" : \"rouge\", \"grün\" : \"vert\", \"blau\" : \"bleu\", \"gelb\":\"jaune\"}\n",
    "\n",
    "dictionaries = {\"en_de\" : en_de, \"de_fr\" : de_fr }\n",
    "\n",
    "print(dictionaries[\"de_fr\"][\"blau\"])"
   ]
  },
  {
   "cell_type": "markdown",
   "id": "993942b9-0d39-4279-8d78-c76a44927a7e",
   "metadata": {},
   "source": [
    "### Operadores en diccionarios\n",
    "\n",
    "Algunos operadores en diccionarios son:\n",
    "\n",
    "- `len(d)`**:** Devuelve el número de entradas almacenadas, es decir, el número de los pares `(clave, valor)`\n",
    "\n",
    "\n",
    "- `del d[k]`**:** Borra la clave `k` junto con su valor asociado.\n",
    "\n",
    "\n",
    "- `k in d`**:** Devuelve `True`, si la clave `k` existe en el diccionario `d`\n",
    "\n",
    "\n",
    "- `k not in d`**:** Devuelve `True`, si la clave `k` no existe en el diccionario `d`"
   ]
  },
  {
   "cell_type": "code",
   "execution_count": 52,
   "id": "faaec36d-7bc6-454a-b078-4a2aed99f8c7",
   "metadata": {},
   "outputs": [
    {
     "name": "stdout",
     "output_type": "stream",
     "text": [
      "{'New York City': 8550405, 'Los Angeles': 3971883, 'Toronto': 2731571, 'Chicago': 2720546, 'Houston': 2296224, 'Montreal': 1704694, 'Calgary': 1239220, 'Vancouver': 631486, 'Boston': 667137, 'Medellin': 156850, 4: [1, 3, 4], (2, 'h'): [1, 'a']}\n",
      "12\n"
     ]
    }
   ],
   "source": [
    "print(city_pop_dic)\n",
    "print(len(city_pop_dic))"
   ]
  },
  {
   "cell_type": "code",
   "execution_count": 53,
   "id": "53f37748-71f1-4916-9bd3-f04beed5a060",
   "metadata": {},
   "outputs": [
    {
     "name": "stdout",
     "output_type": "stream",
     "text": [
      "{'New York City': 8550405, 'Los Angeles': 3971883, 'Toronto': 2731571, 'Chicago': 2720546, 'Houston': 2296224, 'Montreal': 1704694, 'Calgary': 1239220, 'Vancouver': 631486, 'Boston': 667137, 'Medellin': 156850, 4: [1, 3, 4]}\n"
     ]
    }
   ],
   "source": [
    "del city_pop_dic[(2, 'h')]\n",
    "print(city_pop_dic)"
   ]
  },
  {
   "cell_type": "code",
   "execution_count": 54,
   "id": "348657fb-1c00-48d4-b2ec-f5102ceb7a4e",
   "metadata": {},
   "outputs": [
    {
     "name": "stdout",
     "output_type": "stream",
     "text": [
      "[8550405, 3971883, 2731571, 2720546, 2296224, 1704694, 1239220, 631486, 667137, 156850, [1, 3, 4]]\n"
     ]
    }
   ],
   "source": [
    "print(list(city_pop_dic.values()))"
   ]
  },
  {
   "cell_type": "markdown",
   "id": "468b5754-5bd9-49b4-9dde-0c8676f30037",
   "metadata": {},
   "source": [
    "### Conexión entre Listas y Diccionarios\n",
    "\n",
    "Si ha trabajado durante un tiempo con `Python`, casi inevitablemente llegará el momento, cuando quiera o tenga que convertir listas en diccionarios o viceversa. No sería demasiado difícil escribir una función haciendo esto. Pero `Python` no sería `Python` si no proporcionara tales funcionalidades.\n",
    "\n",
    "Si tenemos un diccionario\n",
    "\n",
    "`D = {\"list\": \"Liste\", \"dictionary\": \"Wörterbuch\", \"function\": \"Funktion\"}`\n",
    "\n",
    "podríamos convertir esto en una lista con dos tuplas:\n",
    "\n",
    "`L = [(\"list\", \"Liste\"), (\"dictionary\", \"Wörterbuch\"), (\"function\", \"Funktion\")]`\n",
    "\n",
    "La lista `L` y el diccionario `D` contienen el mismo contenido, es decir, el contenido de la información. Por supuesto, la información es más difícil de recuperar de la lista `L` que del diccionario `D`. Para encontrar una determinada clave en `L`, tendríamos que examinar las tuplas de la lista y comparar los primeros componentes de las tuplas con la clave estan buscando. Esta búsqueda se implementa implícita y extremadamente eficiente para los diccionarios."
   ]
  },
  {
   "cell_type": "markdown",
   "id": "429fab67-35cd-49bb-8e63-e9be72afcd03",
   "metadata": {},
   "source": [
    "#### Lista desde diccionarios\n",
    "\n",
    "Es posible crear listas a partir de diccionarios utilizando los elementos de métodos `items()`, `keys()` y `values()`. Como su nombre lo indica, el método `keys()` crea una lista, que consiste únicamente en las claves del diccionario. `values()` produce una lista que consta de los valores. `items()` se pueden usar para crear una lista que consta de 2 tuplas de pares (clave, valor):\n",
    "\n",
    "\n",
    "- `items()`**:** Devuelve una lista de tuplas, cada tupla se compone de dos elementos: el primero será la *clave* y el segundo, su *valor*."
   ]
  },
  {
   "cell_type": "code",
   "execution_count": 55,
   "id": "cd28aee6-910f-45a9-9665-772d52d323f4",
   "metadata": {},
   "outputs": [
    {
     "name": "stdout",
     "output_type": "stream",
     "text": [
      "dict_items([('New York City', 8550405), ('Los Angeles', 3971883), ('Toronto', 2731571), ('Chicago', 2720546), ('Houston', 2296224), ('Montreal', 1704694), ('Calgary', 1239220), ('Vancouver', 631486), ('Boston', 667137)])\n",
      "<class 'dict_items'>\n"
     ]
    }
   ],
   "source": [
    "dic = {\"New York City\":8550405, \"Los Angeles\":3971883, \"Toronto\":2731571, \"Chicago\":2720546, \"Houston\":2296224, \"Montreal\":1704694, \"Calgary\":1239220, \"Vancouver\":631486, \"Boston\":667137}\n",
    "items1 = dic.items()\n",
    "print(items1)\n",
    "print(type(items1))"
   ]
  },
  {
   "cell_type": "markdown",
   "id": "66d05b06-7610-40e2-83e0-1d50e7c7e1dc",
   "metadata": {},
   "source": [
    "El objeto sigue siendo de la clase heredada de diccionarios, si se quiere convertir directamente en lista, hacemos un casting"
   ]
  },
  {
   "cell_type": "code",
   "execution_count": 56,
   "id": "31e38dd1-6871-4a70-b74d-e7447f317dd7",
   "metadata": {},
   "outputs": [
    {
     "name": "stdout",
     "output_type": "stream",
     "text": [
      "[('New York City', 8550405), ('Los Angeles', 3971883), ('Toronto', 2731571), ('Chicago', 2720546), ('Houston', 2296224), ('Montreal', 1704694), ('Calgary', 1239220), ('Vancouver', 631486), ('Boston', 667137)]\n",
      "<class 'list'>\n"
     ]
    }
   ],
   "source": [
    "lista_items1 = list(items1)\n",
    "print(lista_items1)\n",
    "print(type(lista_items1))"
   ]
  },
  {
   "cell_type": "markdown",
   "id": "f43198b4-949a-4d77-a38b-d86050775f44",
   "metadata": {},
   "source": [
    "- `keys()`**:** Retorna una lista de elementos, los cuales serán las *claves* de nuestro diccionario."
   ]
  },
  {
   "cell_type": "code",
   "execution_count": 57,
   "id": "019ed617-ea8e-433b-a5fb-bf7f04017189",
   "metadata": {},
   "outputs": [
    {
     "name": "stdout",
     "output_type": "stream",
     "text": [
      "['New York City', 'Los Angeles', 'Toronto', 'Chicago', 'Houston', 'Montreal', 'Calgary', 'Vancouver', 'Boston']\n"
     ]
    }
   ],
   "source": [
    "dic =  {\"New York City\":8550405, \"Los Angeles\":3971883, \"Toronto\":2731571, \"Chicago\":2720546, \"Houston\":2296224, \"Montreal\":1704694, \"Calgary\":1239220, \"Vancouver\":631486, \"Boston\":667137}\n",
    "keys= list(dic.keys())\n",
    "print(keys)"
   ]
  },
  {
   "cell_type": "markdown",
   "id": "b87f6a1e-c7d1-4b93-ad70-e90b9058f91a",
   "metadata": {},
   "source": [
    "- `values()`**:** Retorna una lista de elementos, que serán los *valores* de nuestro diccionario."
   ]
  },
  {
   "cell_type": "code",
   "execution_count": 58,
   "id": "e4f2e8ad-ea01-4393-a08f-03b762218be0",
   "metadata": {},
   "outputs": [
    {
     "name": "stdout",
     "output_type": "stream",
     "text": [
      "[8550405, 3971883, 2731571, 2720546, 2296224, 1704694, 1239220, 631486, 667137]\n"
     ]
    }
   ],
   "source": [
    "dic =  {\"New York City\":8550405, \"Los Angeles\":3971883, \"Toronto\":2731571, \"Chicago\":2720546, \"Houston\":2296224, \"Montreal\":1704694, \"Calgary\":1239220, \"Vancouver\":631486, \"Boston\":667137}\n",
    "values= list(dic.values())\n",
    "print(values)"
   ]
  },
  {
   "cell_type": "markdown",
   "id": "b8c839a6-f5a0-4b40-90d6-de6432aa0b76",
   "metadata": {},
   "source": [
    "#### Diccionarios desde listas\n",
    "\n",
    "Se mostrará como convertir listas a diccionarios, veamos el siguiente ejemplo:"
   ]
  },
  {
   "cell_type": "code",
   "execution_count": 59,
   "id": "2f3ffa3e-7f37-41da-87a0-64bf4b8edb13",
   "metadata": {},
   "outputs": [],
   "source": [
    "dishes = [\"pizza\", \"sauerkraut\", \"paella\", \"hamburger\", \"morcilla\"]\n",
    "countries = [\"Italy\", \"Germany\", \"Spain\", \"USA\", \"Envigado\"]"
   ]
  },
  {
   "cell_type": "markdown",
   "id": "0c1b40f8-4b73-4745-850d-28a374903779",
   "metadata": {},
   "source": [
    "Ahora crearemos un diccionario, que asigna un plato especifico de un país. Para este propósito necesitamos la función `zip()`. El nombre `zip` fue bien elegido, porque las dos listas se combinan como una \"cremallera\". El resultado es un iterador de lista. Esto significa que tenemos que ajustar una función de conversión `list()` alrededor de la llamada `zip` para obtener una lista para que podamos ver lo que está sucediendo:\n",
    "\n",
    "- `zip()`**:** Recibe como parámetro dos elementos iterables, ya sea una cadena, una lista o una tupla. Ambos parámetros deben tener el mismo número de elementos. Se devolverá un diccionario relacionando el elemento $i$-esimo de cada uno de los iterables."
   ]
  },
  {
   "cell_type": "code",
   "execution_count": 60,
   "id": "e2af22fb-92f6-4648-835d-b854fcc66964",
   "metadata": {},
   "outputs": [
    {
     "name": "stdout",
     "output_type": "stream",
     "text": [
      "<zip object at 0x0000015FF46B39C0>\n"
     ]
    }
   ],
   "source": [
    "country_specialities_iterator = zip(countries,dishes)\n",
    "print(country_specialities_iterator)"
   ]
  },
  {
   "cell_type": "code",
   "execution_count": 61,
   "id": "4c49cbe1-1fa2-47cd-a350-e38bf16f2eca",
   "metadata": {},
   "outputs": [
    {
     "name": "stdout",
     "output_type": "stream",
     "text": [
      "[('Italy', 'pizza'), ('Germany', 'sauerkraut'), ('Spain', 'paella'), ('USA', 'hamburger'), ('Envigado', 'morcilla')]\n",
      "<class 'list'>\n"
     ]
    }
   ],
   "source": [
    "country_specialities = list(country_specialities_iterator)\n",
    "print(country_specialities)\n",
    "print(type(country_specialities))"
   ]
  },
  {
   "cell_type": "code",
   "execution_count": 62,
   "id": "951c4427-8230-4d9d-8e57-a102c0f0be6c",
   "metadata": {},
   "outputs": [
    {
     "name": "stdout",
     "output_type": "stream",
     "text": [
      "{'Italy': 'pizza', 'Germany': 'sauerkraut', 'Spain': 'paella', 'USA': 'hamburger', 'Envigado': 'morcilla'}\n"
     ]
    }
   ],
   "source": [
    "print(dict(list(zip(countries,dishes))))"
   ]
  },
  {
   "cell_type": "markdown",
   "id": "1254a544-4ee3-4da9-bf1e-29882562601a",
   "metadata": {},
   "source": [
    "Ahora nuestros platos específicos de cada país están en forma de lista, es decir, una lista de dos tuplas, donde los primeros componentes se ven como claves y los segundos componentes como valores, que se pueden convertir automáticamente en un diccionario al convertirlo con `dict()`\n",
    "\n",
    "- `dict()`**:** Recibe como parámetro una representación de un diccionario y, si es factible, devuelve un diccionario de datos."
   ]
  },
  {
   "cell_type": "code",
   "execution_count": 63,
   "id": "4e6c7545-5937-4987-bb1f-a967e2adf02e",
   "metadata": {},
   "outputs": [
    {
     "name": "stdout",
     "output_type": "stream",
     "text": [
      "{'Italy': 'pizza', 'Germany': 'sauerkraut', 'Spain': 'paella', 'USA': 'hamburger', 'Envigado': 'morcilla'}\n"
     ]
    }
   ],
   "source": [
    "country_specialities_dict = dict(country_specialities)\n",
    "print(country_specialities_dict)"
   ]
  },
  {
   "cell_type": "code",
   "execution_count": 64,
   "id": "e741d288-ac03-4344-9de4-e554fd04d7a1",
   "metadata": {},
   "outputs": [
    {
     "data": {
      "text/plain": [
       "{'Italy': 'pizza',\n",
       " 'Germany': 'sauerkraut',\n",
       " 'Spain': 'paella',\n",
       " 'USA': 'hamburger',\n",
       " 'Envigado': 'morcilla'}"
      ]
     },
     "execution_count": 64,
     "metadata": {},
     "output_type": "execute_result"
    }
   ],
   "source": [
    "dict(zip(countries, dishes))"
   ]
  },
  {
   "cell_type": "markdown",
   "id": "5dfd8d67-c7fc-4497-acdc-78b115af8a4b",
   "metadata": {},
   "source": [
    "Todavía hay una pregunta sobre la función `zip()`. ¿Qué sucede si una de las dos listas de argumentos contiene más elementos que la otra?\n",
    "\n",
    "Es fácil de responder: los elementos que no se pueden emparejar, se ignorarán:"
   ]
  },
  {
   "cell_type": "code",
   "execution_count": 65,
   "id": "c702104b-9ac8-4baf-b432-9d70b6230734",
   "metadata": {},
   "outputs": [
    {
     "name": "stdout",
     "output_type": "stream",
     "text": [
      "{'Italy': 'pizza', 'Germany': 'sauerkraut', 'Spain': 'paella', 'USA': 'hamburguer'}\n"
     ]
    }
   ],
   "source": [
    "countries = [\"Italy\", \"Germany\", \"Spain\", \"USA\"]\n",
    "dishes = [\"pizza\", \"sauerkraut\", \"paella\", \"hamburguer\",\"Ajiaco\"]\n",
    "\n",
    "country_specialities = list(zip(countries, dishes))\n",
    "country_specialities_dict = dict(country_specialities)\n",
    "print(country_specialities_dict)"
   ]
  },
  {
   "cell_type": "markdown",
   "id": "14fd065a-1a55-4efe-b92b-3cfbeb2a8e97",
   "metadata": {},
   "source": [
    "### Otros metodos importantes de los diccionarios\n",
    "\n",
    "- `clear()`**:** Elimina todos los ítems del diccionario dejándolo vacío."
   ]
  },
  {
   "cell_type": "code",
   "execution_count": 66,
   "id": "9fa214aa-f4e2-4c9c-9fa0-232a000d968c",
   "metadata": {},
   "outputs": [
    {
     "name": "stdout",
     "output_type": "stream",
     "text": [
      "{}\n"
     ]
    }
   ],
   "source": [
    "dic1 = {'a' : 1, 'b' : 2, 'c' : 3 , 'd' : 4}\n",
    "dic1.clear()\n",
    "print(dic1)"
   ]
  },
  {
   "cell_type": "markdown",
   "id": "b499a068-b9ea-4b99-9944-d964e6005dd0",
   "metadata": {},
   "source": [
    "- `copy()`**:** Retorna una copia del diccionario original."
   ]
  },
  {
   "cell_type": "code",
   "execution_count": 67,
   "id": "c4c589e7-e1f2-46e5-b8ab-0b640218a05f",
   "metadata": {},
   "outputs": [
    {
     "name": "stdout",
     "output_type": "stream",
     "text": [
      "{'a': 1, 'b': 2, 'c': 3, 'd': 4}\n"
     ]
    }
   ],
   "source": [
    "dic = {'a' : 1, 'b' : 2, 'c' : 3 , 'd' : 4}\n",
    "dic1 = dic.copy()\n",
    "print(dic1)"
   ]
  },
  {
   "cell_type": "code",
   "execution_count": 68,
   "id": "eacd9e72-fa5a-4965-8ca7-5391ad851b48",
   "metadata": {},
   "outputs": [
    {
     "name": "stdout",
     "output_type": "stream",
     "text": [
      "{'a': 1, 'b': 2, 'c': 3, 'd': 4, 'nuevo': 5}\n"
     ]
    }
   ],
   "source": [
    "dic1[\"nuevo\"] = 5\n",
    "print(dic1)"
   ]
  },
  {
   "cell_type": "code",
   "execution_count": 69,
   "id": "e6cdc4ac-6302-49be-9eea-4d9855954def",
   "metadata": {},
   "outputs": [
    {
     "name": "stdout",
     "output_type": "stream",
     "text": [
      "{'a': 1, 'b': 2, 'c': 3, 'd': 4}\n"
     ]
    }
   ],
   "source": [
    "print(dic)"
   ]
  },
  {
   "cell_type": "markdown",
   "id": "9b7bc096-7dec-4e45-b5ea-5d1f2332936b",
   "metadata": {},
   "source": [
    "- `fromkeys()`**:** Recibe como parámetros un iterable y un valor, devolviendo un diccionario que contiene como claves los elementos del iterable con el mismo valor ingresado. Si el valor no es ingresado, devolverá none para todas las claves."
   ]
  },
  {
   "cell_type": "code",
   "execution_count": 70,
   "id": "60ca9bb0-f861-4295-b0b6-50de07c1dacd",
   "metadata": {},
   "outputs": [
    {
     "name": "stdout",
     "output_type": "stream",
     "text": [
      "{'a': 'Hola', 'b': 'Hola', 'c': 'Hola', 'd': 'Hola'}\n"
     ]
    }
   ],
   "source": [
    "dic = dict.fromkeys(['a','b','c','d'],\"Hola\")\n",
    "print(dic)"
   ]
  },
  {
   "cell_type": "markdown",
   "id": "7a773bf5-efc9-4e9b-9dc6-9c928eb368df",
   "metadata": {},
   "source": [
    "- `get()`**:** Recibe como parámetro una clave, devuelve el valor de la clave. Si no lo encuentra, devuelve un objeto none."
   ]
  },
  {
   "cell_type": "code",
   "execution_count": 71,
   "id": "39cc4be9-6e74-414e-a413-191f2246d532",
   "metadata": {},
   "outputs": [
    {
     "name": "stdout",
     "output_type": "stream",
     "text": [
      "3\n"
     ]
    }
   ],
   "source": [
    "dic = {'a' : 1, 'b' : 2, 'c' : 3 , 'd' : 4}\n",
    "valor = dic.get('c') \n",
    "print(valor)"
   ]
  },
  {
   "cell_type": "markdown",
   "id": "83568599-cf5d-4fb4-8a59-b9b50db02b7f",
   "metadata": {},
   "source": [
    "- `pop()`**:** Las listas se pueden usar como pilas y el operador `pop()` se usa para tomar un elemento de la pila. Para listas, funciona, pero ¿tiene sentido tener un método `pop()` para diccionarios? Después de todo, un diccionario no es un tipo de datos secuencial, es decir, no hay ordenación ni indexación. Por lo tanto, `pop()` se define de manera diferente con los diccionarios. Las claves y los valores se implementan en un orden arbitrario, que no es aleatorio, sino que depende de la implementación.\n",
    "\n",
    "  Si `D` es un diccionario, entonces `D.pop(k)` elimina la clave `k` con su valor del diccionario `D` y devuelve el valor correspondiente como el valor de retorno, es decir, `D[k]`.\n",
    "\n",
    "  Si no se encuentra la clave, se genera un `KeyError`:"
   ]
  },
  {
   "cell_type": "code",
   "execution_count": 72,
   "id": "e14308b1-b4e1-4393-9a9f-606604067732",
   "metadata": {},
   "outputs": [],
   "source": [
    "capitals = {\"Austria\":\"Vienna\", \"Germany\":\"Berlin\", \"Netherlands\":\"Amsterdam\"}"
   ]
  },
  {
   "cell_type": "code",
   "execution_count": 73,
   "id": "e47f9010-0cb5-4745-8f1f-c785d82583f6",
   "metadata": {},
   "outputs": [
    {
     "name": "stdout",
     "output_type": "stream",
     "text": [
      "Vienna\n",
      "{'Germany': 'Berlin', 'Netherlands': 'Amsterdam'}\n"
     ]
    }
   ],
   "source": [
    "capital = capitals.pop(\"Austria\")\n",
    "print(capital)\n",
    "print(capitals)"
   ]
  },
  {
   "cell_type": "markdown",
   "id": "75397b6b-30a0-451f-af6a-a249bf5c7d53",
   "metadata": {},
   "source": [
    "- `setdefault()`**:** Funciona de dos formas. En la primera como get si el elemento existe, sino se puede adicionar"
   ]
  },
  {
   "cell_type": "code",
   "execution_count": 74,
   "id": "9bf18128-86af-4feb-b010-d91291baff59",
   "metadata": {},
   "outputs": [
    {
     "name": "stdout",
     "output_type": "stream",
     "text": [
      "2\n",
      "{'a': 1, 'b': 2, 'c': 3, 'd': 4, 'e': None}\n",
      "{'a': 1, 'b': 2, 'c': 3, 'd': 4, 'e': None, 'f': 6}\n"
     ]
    }
   ],
   "source": [
    "dic = {'a' : 1, 'b' : 2, 'c' : 3 , 'd' : 4}\n",
    "valor = dic.setdefault('b')\n",
    "print(valor)\n",
    "\n",
    "valor = dic.setdefault('e')\n",
    "print(dic)\n",
    "\n",
    "valor = dic.setdefault('f',6)\n",
    "print(dic)"
   ]
  },
  {
   "cell_type": "markdown",
   "id": "6ffec522-91a7-4a9d-8e48-bb0712194d4f",
   "metadata": {},
   "source": [
    "### Iterando sobre diccionarios\n",
    "\n",
    "Para recorrer todo el Diccionario, podemos hacer uso de la estructura for:\n"
   ]
  },
  {
   "cell_type": "code",
   "execution_count": 75,
   "id": "e1d08f59-6519-4302-a14a-9a11bb5669e9",
   "metadata": {},
   "outputs": [
    {
     "name": "stdout",
     "output_type": "stream",
     "text": [
      "en_de : {'red': 'rot', 'green': 'grün', 'blue': 'blau', 'yellow': 'gelb'}\n",
      "de_fr : {'rot': 'rouge', 'grün': 'vert', 'blau': 'bleu', 'gelb': 'jaune'}\n"
     ]
    }
   ],
   "source": [
    "for a in dictionaries:\n",
    "    print(a, \":\", dictionaries[a])"
   ]
  },
  {
   "cell_type": "markdown",
   "id": "302693fb-6139-4526-8d62-a5591005a00a",
   "metadata": {},
   "source": [
    "No es necesario un método para iterar sobre las claves en un diccionario:"
   ]
  },
  {
   "cell_type": "code",
   "execution_count": 76,
   "id": "252adb3f-391a-4fc4-85ac-6fe16225857a",
   "metadata": {},
   "outputs": [
    {
     "name": "stdout",
     "output_type": "stream",
     "text": [
      "rot\n",
      "grün\n",
      "blau\n",
      "gelb\n"
     ]
    }
   ],
   "source": [
    "for key in de_fr:\n",
    "    print(key)"
   ]
  },
  {
   "cell_type": "markdown",
   "id": "fe7ecc9b-56e2-4f71-b93f-3678fb66e34f",
   "metadata": {},
   "source": [
    "El métodos `values` es una forma conveniente para iterar directamente sobre los valores:"
   ]
  },
  {
   "cell_type": "code",
   "execution_count": 77,
   "id": "34a65f3c-8faf-4a05-9ca2-c3af2094cb29",
   "metadata": {},
   "outputs": [
    {
     "name": "stdout",
     "output_type": "stream",
     "text": [
      "rouge\n",
      "vert\n",
      "bleu\n",
      "jaune\n"
     ]
    }
   ],
   "source": [
    "for value in de_fr.values():\n",
    "    print(value)"
   ]
  },
  {
   "cell_type": "markdown",
   "id": "4b3d9000-7e3a-4f60-b94b-92c34d7d3b37",
   "metadata": {},
   "source": [
    "### Alineación equipo de fútbol"
   ]
  },
  {
   "cell_type": "markdown",
   "id": "43d4efac-d283-4a42-9766-c99336570aef",
   "metadata": {},
   "source": [
    "Se desea crear un diccionario con el listado de jugadores de la selección española de fútbol campeona del mundial de Suráfrica 2010 y realizar una serie de consultas sobre él. (*Ejemplo de extraído del blog [Jarroba.com](https://jarroba.com/diccionario-python-ejemplos/)*)"
   ]
  },
  {
   "cell_type": "code",
   "execution_count": 78,
   "id": "03b6ff45-7211-451d-861e-3a7979254cee",
   "metadata": {},
   "outputs": [],
   "source": [
    "futbolistas = dict()\n",
    "\n",
    "futbolistas = {\n",
    "    1 : \"Casillas\", 15 : \"Ramos\",\n",
    "    3 : \"Pique\", 5 : \"Puyol\",\n",
    "    11 : \"Capdevila\", 14 : \"Xabi Alonso\",\n",
    "    16 : \"Busquets\", 8 : \"Xavi Hernandez\",\n",
    "    18 : \"Pedrito\", 6 : \"Iniesta\",\n",
    "    7 : \"Villa\"\n",
    "}"
   ]
  },
  {
   "cell_type": "markdown",
   "id": "3170c6f4-979e-48b1-a2cc-aa3165804a94",
   "metadata": {},
   "source": [
    "Recorriendo cada uno de los elementos del diccionario e imprimiendo el resultado"
   ]
  },
  {
   "cell_type": "code",
   "execution_count": 79,
   "id": "d4799294-223e-424a-bfda-2abcbec83335",
   "metadata": {},
   "outputs": [
    {
     "name": "stdout",
     "output_type": "stream",
     "text": [
      "el jugador # 1 es Casillas \n",
      "el jugador # 15 es Ramos \n",
      "el jugador # 3 es Pique \n",
      "el jugador # 5 es Puyol \n",
      "el jugador # 11 es Capdevila \n",
      "el jugador # 14 es Xabi Alonso \n",
      "el jugador # 16 es Busquets \n",
      "el jugador # 8 es Xavi Hernandez \n",
      "el jugador # 18 es Pedrito \n",
      "el jugador # 6 es Iniesta \n",
      "el jugador # 7 es Villa \n"
     ]
    }
   ],
   "source": [
    "for k,v in futbolistas.items():\n",
    "    print(\"el jugador # {0} es {1} \".format(k,v))\n",
    "    #print(\"el jugador #\", k, \"es \", v, \"mas\", 10.000)"
   ]
  },
  {
   "cell_type": "markdown",
   "id": "1e038fe7-3a13-4ff6-a069-992d53266c76",
   "metadata": {},
   "source": [
    "vamos a determinar la cantidad de elementos del diccionario"
   ]
  },
  {
   "cell_type": "code",
   "execution_count": 80,
   "id": "8c42ed09-4507-4f04-9c9a-558c1bc537f2",
   "metadata": {},
   "outputs": [
    {
     "name": "stdout",
     "output_type": "stream",
     "text": [
      "Numero de elementos del diccionario len(futbolistas) = 11\n"
     ]
    }
   ],
   "source": [
    "numElem = len(futbolistas)\n",
    "print(\"Numero de elementos del diccionario len(futbolistas) = {0}\".format(numElem))"
   ]
  },
  {
   "cell_type": "markdown",
   "id": "0fb68bc8-acf0-47ac-bd45-1e5fa2c05a3c",
   "metadata": {},
   "source": [
    "Ahora queremos ver por separado las claves y los valores del diccionario"
   ]
  },
  {
   "cell_type": "code",
   "execution_count": 81,
   "id": "ac303aed-140c-4767-b7a7-41ba6b203498",
   "metadata": {},
   "outputs": [
    {
     "name": "stdout",
     "output_type": "stream",
     "text": [
      "Las claves del diccionario son \n",
      " dict_keys([1, 15, 3, 5, 11, 14, 16, 8, 18, 6, 7])\n",
      "\n",
      "Los valores del diccionario son \n",
      " dict_values(['Casillas', 'Ramos', 'Pique', 'Puyol', 'Capdevila', 'Xabi Alonso', 'Busquets', 'Xavi Hernandez', 'Pedrito', 'Iniesta', 'Villa'])\n"
     ]
    }
   ],
   "source": [
    "# Imprimimos una lista con las claves del diccionario\n",
    "keys = futbolistas.keys();\n",
    "print(\"Las claves del diccionario son \\n {0}\".format(keys))\n",
    "\n",
    "# Imprimimos en una lista los valores del diccionario\n",
    "values = futbolistas.values()\n",
    "print(\"\\nLos valores del diccionario son \\n {0}\".format(values))"
   ]
  },
  {
   "cell_type": "markdown",
   "id": "59ed911b-70be-48f7-b1c2-924638e71dee",
   "metadata": {},
   "source": [
    "Si deseamos conocer el valor que tiene una determinada clave empleamos el método `get(key)`"
   ]
  },
  {
   "cell_type": "code",
   "execution_count": 82,
   "id": "b4d2c093-cbc3-46f9-bce6-a03fa9c2370b",
   "metadata": {
    "scrolled": true
   },
   "outputs": [
    {
     "name": "stdout",
     "output_type": "stream",
     "text": [
      "el nombre del futbolista que tiene el número '6' es Iniesta\n"
     ]
    }
   ],
   "source": [
    "elem = futbolistas.get(6)\n",
    "print(\"el nombre del futbolista que tiene el número '6' es {0}\".format(elem))"
   ]
  },
  {
   "cell_type": "markdown",
   "id": "a685d856-7d9f-4fcd-a6e6-888d40c272df",
   "metadata": {},
   "source": [
    "A continuación vamos a ver dos formas de insertar elementos en el diccionario. La primera de ellas es la más sencilla (como si de un array asociativo se tratase), pasándole la clave entre corchetes y asignándole un valor:"
   ]
  },
  {
   "cell_type": "code",
   "execution_count": 83,
   "id": "30e73273-aadb-4982-a55d-ab9c25b968d7",
   "metadata": {},
   "outputs": [
    {
     "name": "stdout",
     "output_type": "stream",
     "text": [
      "\n",
      "Diccionario tras añadir un elemento: \n",
      " {1: 'Casillas', 15: 'Ramos', 3: 'Pique', 5: 'Puyol', 11: 'Capdevila', 14: 'Xabi Alonso', 16: 'Busquets', 8: 'Xavi Hernandez', 18: 'Pedrito', 6: 'Iniesta', 7: 'Villa', 22: 'Navas'}\n"
     ]
    }
   ],
   "source": [
    "# Añadimos un nuevo elemento a la lista\n",
    "futbolistas[22] = 'Navas'\n",
    "print(\"\\nDiccionario tras añadir un elemento: \\n {0}\".format(futbolistas))"
   ]
  },
  {
   "cell_type": "code",
   "execution_count": 84,
   "id": "25550060-46a2-4515-9f0e-24aa9e77e60b",
   "metadata": {},
   "outputs": [
    {
     "name": "stdout",
     "output_type": "stream",
     "text": [
      "Numero de elementos del diccionario len(futbolistas) = 12\n"
     ]
    }
   ],
   "source": [
    "numElem = len(futbolistas)\n",
    "print(\"Numero de elementos del diccionario len(futbolistas) = {0}\".format(numElem))"
   ]
  },
  {
   "cell_type": "markdown",
   "id": "dfc5cf26-d307-49f5-a782-e1a8101cc10a",
   "metadata": {},
   "source": [
    "La segunda forma de insertar un elemento es con el método `setdefault(key,default=valor)` al que se le pasa como parámetros un clave y un valor. Este método tiene la peculiaridad de que solo inserta el elemento en el diccionario sino existe un elemento con esa clave. Si existe un elemento con esa clave no realiza la inserción:"
   ]
  },
  {
   "cell_type": "code",
   "execution_count": 85,
   "id": "6b2045ad-abe2-47b2-baac-32ba4397c83e",
   "metadata": {},
   "outputs": [
    {
     "name": "stdout",
     "output_type": "stream",
     "text": [
      "\n",
      "Insertamos un elemento en el diccionario (Si la clave existe no lo inserta): Cesc\n"
     ]
    }
   ],
   "source": [
    "# Insertamos un elemento en el array. Si la clave ya existe no inserta el elemento\n",
    "elem2 = futbolistas.setdefault(10,'Cesc')\n",
    "print(\"\\nInsertamos un elemento en el diccionario (Si la clave existe no lo inserta): {0}\".format(elem2))"
   ]
  },
  {
   "cell_type": "code",
   "execution_count": 86,
   "id": "557e79fd-e357-40cd-9074-b3364f9700e5",
   "metadata": {},
   "outputs": [
    {
     "name": "stdout",
     "output_type": "stream",
     "text": [
      "Numero de elementos del diccionario len(futbolistas) = 13\n"
     ]
    }
   ],
   "source": [
    "numElem = len(futbolistas)\n",
    "print(\"Numero de elementos del diccionario len(futbolistas) = {0}\".format(numElem))"
   ]
  },
  {
   "cell_type": "markdown",
   "id": "8c49d9b9-635c-4c8a-81fc-e188e653e96e",
   "metadata": {},
   "source": [
    "El siguiente método que vamos a ver `pop(key)` nos borrará del diccionario aquel elemento que tenga como clave, la que le pasamos como parámetro. Por ejemplo vamos a borrar el elemento con *clave = 22*:"
   ]
  },
  {
   "cell_type": "code",
   "execution_count": 87,
   "id": "9253df47-ce89-4a35-966b-f927e98611a2",
   "metadata": {},
   "outputs": [
    {
     "name": "stdout",
     "output_type": "stream",
     "text": [
      "\n",
      "Diccionario tras eliminar un elemento: {1: 'Casillas', 15: 'Ramos', 3: 'Pique', 5: 'Puyol', 11: 'Capdevila', 14: 'Xabi Alonso', 16: 'Busquets', 8: 'Xavi Hernandez', 18: 'Pedrito', 6: 'Iniesta', 7: 'Villa', 10: 'Cesc'}\n"
     ]
    }
   ],
   "source": [
    "# Eliminamos un elemento del diccionario dada su clave\n",
    "futbolistas.pop(22)\n",
    "print(\"\\nDiccionario tras eliminar un elemento: {0}\".format(futbolistas))"
   ]
  },
  {
   "cell_type": "code",
   "execution_count": 88,
   "id": "84e25ae2-f5a1-46f1-abe9-7b16b972b444",
   "metadata": {},
   "outputs": [
    {
     "name": "stdout",
     "output_type": "stream",
     "text": [
      "Numero de elementos del diccionario len(futbolistas) = 12\n"
     ]
    }
   ],
   "source": [
    "numElem = len(futbolistas)\n",
    "print(\"Numero de elementos del diccionario len(futbolistas) = {0}\".format(numElem))"
   ]
  },
  {
   "cell_type": "markdown",
   "id": "12b51597-9fb7-41b0-8241-70bd8a8534d6",
   "metadata": {},
   "source": [
    "Para hacer una copia de un diccionario, se utiliza el método `copy()`:"
   ]
  },
  {
   "cell_type": "code",
   "execution_count": 89,
   "id": "192a7afd-da90-4ebb-b322-76b1b2cbb370",
   "metadata": {},
   "outputs": [
    {
     "name": "stdout",
     "output_type": "stream",
     "text": [
      "\n",
      "Realizamos una copia del diccionario: \n",
      " {1: 'Casillas', 15: 'Ramos', 3: 'Pique', 5: 'Puyol', 11: 'Capdevila', 14: 'Xabi Alonso', 16: 'Busquets', 8: 'Xavi Hernandez', 18: 'Pedrito', 6: 'Iniesta', 7: 'Villa', 10: 'Cesc'}\n"
     ]
    }
   ],
   "source": [
    "# Hacemos una copia del diccionario\n",
    "futbolistasCopy = futbolistas.copy();\n",
    "print(\"\\nRealizamos una copia del diccionario: \\n {0}\".format(futbolistasCopy))"
   ]
  },
  {
   "cell_type": "markdown",
   "id": "b1ec6114-2bd9-45b0-a699-b9f3bd8de1f6",
   "metadata": {},
   "source": [
    "Para eliminar el contenido (o los elementos) de un diccionario utilizamos el método `clear()`:"
   ]
  },
  {
   "cell_type": "code",
   "execution_count": 90,
   "id": "6beaa7fb-3d28-4819-9f6f-72311e91ec6b",
   "metadata": {},
   "outputs": [
    {
     "name": "stdout",
     "output_type": "stream",
     "text": [
      "\n",
      "Eliminamos los elementos de un diccionario: {}\n"
     ]
    }
   ],
   "source": [
    "# Eliminamos los elementos de un diccionario\n",
    "futbolistasCopy.clear()\n",
    "print(\"\\nEliminamos los elementos de un diccionario: {0}\".format(futbolistasCopy))"
   ]
  },
  {
   "cell_type": "markdown",
   "id": "480fccc2-78d6-46aa-b387-b126915e89b9",
   "metadata": {},
   "source": [
    "Con el método `fromkeys(listKey,default=value)`, creamos un diccionario cuyas claves son las que le pasamos como parámetro en una lista. Si le pasamos un segundo parámetro, pondrá ese parámetro como clave de cada uno de los elementos. Veamos un ejemplo:"
   ]
  },
  {
   "cell_type": "code",
   "execution_count": 91,
   "id": "75166d52-2997-447c-9431-95824b8477a2",
   "metadata": {},
   "outputs": [
    {
     "name": "stdout",
     "output_type": "stream",
     "text": [
      "Creamos un diccionario a partir de una lista {'nombre': 'nada', 'apellidos': 'nada', 'edad': 'nada'}\n"
     ]
    }
   ],
   "source": [
    "# Creamos un diccionario a partir de una lista con las claves\n",
    "keys = ['nombre', 'apellidos', 'edad']\n",
    "dictList = dict.fromkeys(keys, 'nada')\n",
    "print(\"Creamos un diccionario a partir de una lista {0}\".format(dictList))"
   ]
  },
  {
   "cell_type": "markdown",
   "id": "0f00dab7-0209-4639-b75d-be35c0d74900",
   "metadata": {},
   "source": [
    "## Laboratorio\n",
    "\n",
    "1. ***Frecuencia de letras:*** escriba un programa que lea un archivo e imprima las letras en forma decreciente de acuerdo a la frecuencia en dicho texto. Su programa deberá convertir todas las entradas en minúsculas y sólo contar las letras de la a-z. Su programa no deberá contar espacios en blanco, digitos, puntuaciones o algún caracter diferentes a las letras. Encuentre diferentes ejemplo y comparelos con `https://wikipedia.org/wiki/Letter_frequencies`\n",
    "\n",
    "2. ***Frecuencia de emails:*** escriba un programa que lea a través de un log, escriba un histograma usando un diccionario contando cuantos mensajes vienen del mismo email e imprimirlo.\n",
    "\n",
    "`Enter file name: mbox-short.txt\n",
    "\n",
    "{'gopal.ramasammycook@gmail.com': 1, 'louis@media.berkeley.edu': 3,\n",
    "'cwen@iupui.edu': 5, 'antranig@caret.cam.ac.uk': 1,\n",
    "'rjlowe@iupui.edu': 2, 'gsilver@umich.edu': 3,\n",
    "'david.horwitz@uct.ac.za': 4, 'wagnermr@iupui.edu': 1,\n",
    "'zqian@umich.edu': 4, 'stephen.marquard@uct.ac.za': 2,\n",
    "'ray@media.berkeley.edu': 1}`"
   ]
  }
 ],
 "metadata": {
  "kernelspec": {
   "display_name": "mlfinance",
   "language": "python",
   "name": "python3"
  },
  "language_info": {
   "codemirror_mode": {
    "name": "ipython",
    "version": 3
   },
   "file_extension": ".py",
   "mimetype": "text/x-python",
   "name": "python",
   "nbconvert_exporter": "python",
   "pygments_lexer": "ipython3",
   "version": "3.10.9"
  },
  "vscode": {
   "interpreter": {
    "hash": "89cafe07fa9106b7e0014ff380c907a9e86547fc22d76eb24752761b967d32b8"
   }
  }
 },
 "nbformat": 4,
 "nbformat_minor": 5
}
