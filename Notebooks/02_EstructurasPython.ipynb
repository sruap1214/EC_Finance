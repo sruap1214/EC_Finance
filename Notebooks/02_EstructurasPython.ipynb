{
 "cells": [
  {
   "cell_type": "markdown",
   "id": "b7afeb4e-a725-4733-ba56-0629374a123b",
   "metadata": {},
   "source": [
    "<h1 align=\"center\"><b>Modelación Financiera I</b></h1>\n",
    "<h1 align=\"center\"><b> Módulo 2, parte 1 </b></h1>\n",
    "<h1 align=\"center\"><b> Estructuras de Python </b></h1>"
   ]
  },
  {
   "cell_type": "markdown",
   "id": "92f3cb9a-0cfa-4612-a196-948c2002448a",
   "metadata": {},
   "source": [
    "*** \n",
    "\n",
    "***Docente:*** Santiago Rúa Pérez, PhD.\n",
    "\n",
    "***e-mail:*** srua@udemedellin.edu.co\n",
    "\n",
    "***Herramienta:*** [Jupyter Notebook](http://jupyter.org/)\n",
    "\n",
    "***Kernel:*** Python 3.7\n",
    "\n",
    "***MEDELLÍN - COLOMBIA***\n",
    "\n",
    "***2022***\n",
    "\n",
    "***"
   ]
  },
  {
   "cell_type": "markdown",
   "id": "841377aa-60e8-4831-9921-fa961104eeb1",
   "metadata": {},
   "source": [
    "<h1>Table of Contents<span class=\"tocSkip\"></span></h1>\n",
    "<div class=\"toc\"><ul class=\"toc-item\">\n",
    "    <li><span><a href=\"#Introduccion\" data-toc-modified-id=\"Introduccion-1\"><span class=\"toc-item-num\">1&nbsp;&nbsp;</span>Introducción</a></span></li>\n",
    "    <li><span><a href=\"#Listas\" data-toc-modified-id=\"Lsitas-2\"><span class=\"toc-item-num\">2&nbsp;&nbsp;</span>Listas</a></span></li>\n",
    "    </ul></div>"
   ]
  },
  {
   "cell_type": "markdown",
   "id": "44d7e944-4207-4076-b5cb-b71850f0ada3",
   "metadata": {},
   "source": [
    "## Introducción\n",
    "\n",
    "- Por el momento cada variable trabaja se ha visto como una valor simple o número simple, o una cadena de caracteres. Cuando se trabaja los ciclos se vieron como una lista podia ser usada para recorrerla. Sin embargo, no se explico el potencial de estas.\n",
    "\n",
    "- Este módulo estará enfocado en como se pueden agrupar diferentes datos para formar estructuras mas complejas con características particulares a cada uno.\n",
    "\n",
    "- Python posee diferentes tipos de colecciones de datos: *Listas*, *Diccionarios* y *Tuplas*.\n",
    "\n",
    "- Estos tres tipos, pueden almacenar colecciones de datos de diversos tipos y se diferencian por su sintaxis y por la forma en la cual los datos pueden ser manipulados."
   ]
  },
  {
   "cell_type": "markdown",
   "id": "ec582835-26e2-48a5-860a-4663321173f3",
   "metadata": {},
   "source": [
    "## Listas\n",
    "\n",
    "Las listas son secuencias de valores, y se relacionan con los arreglos (`arrays`) en lenguajes como `C`, `C++` o `Java`. Sin embargo, a diferencia de los arreglos clásicos en estos lenguajes de programación, una lista en python es mas flexible ya que puede contener cualquier tipo de datos y adicionalmente estar mezclados.  \n",
    "\n",
    "Las principales propiedades de una lista son:\n",
    "\n",
    "- Están ordenados\n",
    "\n",
    "- Contienen una colección arbitraria de objetos (números, cadenas, booleanos, otras listas...)\n",
    "\n",
    "- Los elementos de una lista pueden ser accesados por un índice\n",
    "\n",
    "- Variable en tamaño\n",
    "\n",
    "- Son mutables, es decir, los elementos en una lista pueden cambiar\n",
    "\n",
    "Para definir una lista basta ubicar los diferentes elementos que la compondrán, separados por coma y entre corchetes"
   ]
  },
  {
   "cell_type": "code",
   "execution_count": 3,
   "id": "3686ef90-a266-4415-837f-5c46b098620d",
   "metadata": {},
   "outputs": [
    {
     "name": "stdout",
     "output_type": "stream",
     "text": [
      "<class 'list'>\n",
      "['hola', 13, 2.8, 'mundo', True, '98456', 27]\n"
     ]
    }
   ],
   "source": [
    "primera_lista = ['hola', 13, 2.8, \"mundo\", True, \"98456\", 27]\n",
    "print(type(primera_lista))\n",
    "print(primera_lista)"
   ]
  },
  {
   "cell_type": "markdown",
   "id": "7cf0e144-6c25-4601-a9ad-ab971bf215a4",
   "metadata": {},
   "source": [
    "- La indexación o acceso a los elementos de una lista siempre comienza con el indice cero (`0`) y de forma ascedente. También se puede acceder de forma negativa comenzando con la posición final `-1`."
   ]
  },
  {
   "cell_type": "code",
   "execution_count": 4,
   "id": "2f30d14c-51d5-4a90-90e5-01fde3ddbd69",
   "metadata": {},
   "outputs": [
    {
     "name": "stdout",
     "output_type": "stream",
     "text": [
      "hola\n",
      "hola\n"
     ]
    }
   ],
   "source": [
    "# ¿Cómo acceder al primer elemento de la lista?\n",
    "n = len(primera_lista)\n",
    "print(primera_lista[0])\n",
    "print(primera_lista[-n])"
   ]
  },
  {
   "cell_type": "code",
   "execution_count": 5,
   "id": "07b0c46f-dda5-4dfd-9233-3acdaf1054b5",
   "metadata": {},
   "outputs": [
    {
     "name": "stdout",
     "output_type": "stream",
     "text": [
      "27\n",
      "27\n"
     ]
    }
   ],
   "source": [
    "# ¿Cómo acceder al último elemento de la lista?\n",
    "n = len(primera_lista)\n",
    "print(primera_lista[n-1])\n",
    "print(primera_lista[-1])"
   ]
  },
  {
   "cell_type": "markdown",
   "id": "9d169af4-473f-4675-b2d9-e994c549a666",
   "metadata": {},
   "source": [
    "#### Mutabilidad en las listas\n",
    "\n",
    "A diferencias de las cadenas de caracteres, las listas son mutables porque se pueden cambiar el orden de los elementos o reasignar valor a las posiciones de la lista"
   ]
  },
  {
   "cell_type": "code",
   "execution_count": 7,
   "id": "fb909123-5488-4d87-883f-061971cd679b",
   "metadata": {},
   "outputs": [
    {
     "name": "stdout",
     "output_type": "stream",
     "text": [
      "['hola', 13, 3.8, 'mundo', True, '98456', 27]\n",
      "['hola', 13, 3.8, 3.8, True, '98456', 27]\n"
     ]
    }
   ],
   "source": [
    "print(primera_lista)\n",
    "primera_lista[3] = 3.8\n",
    "print(primera_lista)"
   ]
  },
  {
   "cell_type": "markdown",
   "id": "246f61b0-d556-41e5-b96d-4d22f9e61433",
   "metadata": {},
   "source": [
    "La función `len()` permite determinar el tamaño de la lista (cantidad de elementos que la componen)"
   ]
  },
  {
   "cell_type": "markdown",
   "id": "72f6fd7f-35c9-4e3f-ad19-1790a44cff85",
   "metadata": {},
   "source": [
    "Para saber cuáles métodos se aplican a una lista, se coloca el nombre de la lista seguido de un `.` y la opción autocompletar (tabulación). Se despliega un menú con los diferentes métodos:"
   ]
  },
  {
   "cell_type": "code",
   "execution_count": 10,
   "id": "a4461250-353f-470e-986b-9cdef545c332",
   "metadata": {},
   "outputs": [
    {
     "ename": "SyntaxError",
     "evalue": "invalid syntax (Temp/ipykernel_9500/3189932352.py, line 1)",
     "output_type": "error",
     "traceback": [
      "\u001b[1;36m  File \u001b[1;32m\"C:\\Users\\srua\\AppData\\Local\\Temp/ipykernel_9500/3189932352.py\"\u001b[1;36m, line \u001b[1;32m1\u001b[0m\n\u001b[1;33m    primera_lista.\u001b[0m\n\u001b[1;37m                  ^\u001b[0m\n\u001b[1;31mSyntaxError\u001b[0m\u001b[1;31m:\u001b[0m invalid syntax\n"
     ]
    }
   ],
   "source": [
    "primera_lista."
   ]
  },
  {
   "cell_type": "markdown",
   "id": "73ce3413-fc6d-4a61-b1d0-0ceffbade8db",
   "metadata": {},
   "source": [
    "Adicionalmente se puede mirar mas a detalle toda la lista de atributos que tienen las listas utilizando la función `dir`"
   ]
  },
  {
   "cell_type": "code",
   "execution_count": 8,
   "id": "3941842c-4464-4651-86e8-00250674a77d",
   "metadata": {},
   "outputs": [
    {
     "data": {
      "text/plain": [
       "['__add__',\n",
       " '__class__',\n",
       " '__contains__',\n",
       " '__delattr__',\n",
       " '__delitem__',\n",
       " '__dir__',\n",
       " '__doc__',\n",
       " '__eq__',\n",
       " '__format__',\n",
       " '__ge__',\n",
       " '__getattribute__',\n",
       " '__getitem__',\n",
       " '__gt__',\n",
       " '__hash__',\n",
       " '__iadd__',\n",
       " '__imul__',\n",
       " '__init__',\n",
       " '__init_subclass__',\n",
       " '__iter__',\n",
       " '__le__',\n",
       " '__len__',\n",
       " '__lt__',\n",
       " '__mul__',\n",
       " '__ne__',\n",
       " '__new__',\n",
       " '__reduce__',\n",
       " '__reduce_ex__',\n",
       " '__repr__',\n",
       " '__reversed__',\n",
       " '__rmul__',\n",
       " '__setattr__',\n",
       " '__setitem__',\n",
       " '__sizeof__',\n",
       " '__str__',\n",
       " '__subclasshook__',\n",
       " 'append',\n",
       " 'clear',\n",
       " 'copy',\n",
       " 'count',\n",
       " 'extend',\n",
       " 'index',\n",
       " 'insert',\n",
       " 'pop',\n",
       " 'remove',\n",
       " 'reverse',\n",
       " 'sort']"
      ]
     },
     "execution_count": 8,
     "metadata": {},
     "output_type": "execute_result"
    }
   ],
   "source": [
    "dir(primera_lista)"
   ]
  },
  {
   "cell_type": "markdown",
   "id": "cde0811e-d4fe-4b9a-9c22-8fa30b12f8fb",
   "metadata": {},
   "source": [
    "A las listas se les permiten agregar nuevos valores mediante el método `append`. El método `append` adiciona cada vez un elemento al final de la lista (es lo que en estructura de datos se conoce con el concepto de `pila`"
   ]
  },
  {
   "cell_type": "code",
   "execution_count": 11,
   "id": "64d43f0e-88b0-4df6-9842-20b3b1baa352",
   "metadata": {},
   "outputs": [
    {
     "name": "stdout",
     "output_type": "stream",
     "text": [
      "['hola', 13, 3.8, 3.8, True, '98456', 27]\n",
      "['hola', 13, 3.8, 3.8, True, '98456', 27, 'bien']\n"
     ]
    }
   ],
   "source": [
    "print(primera_lista)\n",
    "primera_lista.append(\"bien\")\n",
    "print(primera_lista)"
   ]
  },
  {
   "cell_type": "markdown",
   "id": "55d41868-a0e1-4332-8af4-1eb4f0901424",
   "metadata": {},
   "source": [
    "Si se requiere insertar un elemento en una posición fija, entonces el método que se requiere es `insert`, el cual recibe dos argumentos la posición en la lista donde se desea ingresar el elemento y el elemento a ingresar en la lista"
   ]
  },
  {
   "cell_type": "code",
   "execution_count": 12,
   "id": "3a01ac55-7037-485e-987a-4a717597f598",
   "metadata": {},
   "outputs": [
    {
     "name": "stdout",
     "output_type": "stream",
     "text": [
      "La lista original es ['hola', 13, 3.8, 3.8, True, '98456', 27, 'bien'] con longitud 8\n",
      "La lista posterior es ['hola', 13, 3.8, 'Esto es una prueba', 3.8, True, '98456', 27, 'bien'] con longitud 9\n"
     ]
    }
   ],
   "source": [
    "print(\"La lista original es {} con longitud {}\".format(primera_lista,len(primera_lista)))\n",
    "primera_lista.insert(3,\"Esto es una prueba\")\n",
    "print(\"La lista posterior es {} con longitud {}\".format(primera_lista,len(primera_lista)))"
   ]
  },
  {
   "cell_type": "markdown",
   "id": "7d0a6e28-0126-4523-a1d8-a68d1d7a57b4",
   "metadata": {},
   "source": [
    "#### Problema 1\n",
    "\n",
    "Qué pasa si quiero agregar una lista a otra lista, es decir unir dos listas?\n",
    "Ej: Tengo la lista 1 que tiene los elementos l1 = [3,\"hola\",4.5] y la segunda lista tiene l2 = [\"prueba\",7]. Se requiere la lista que tenga las dos.\n",
    "\n",
    "**Solución**\n",
    "\n",
    "- Se utiliza solo el append?\n",
    "\n",
    "- Y que pasa con cada elemento?\n",
    "\n",
    "- Habra un método que nos ayude (Hint: extend)\n",
    "\n"
   ]
  },
  {
   "cell_type": "markdown",
   "id": "517e57c6-906f-4242-9862-c2639a9b62d4",
   "metadata": {},
   "source": [
    "Para eliminar elementos de una lista en Python, este te da tres opciones para hacerlo\n",
    "- `del`: eliminación por índice\n",
    "- `remove`: eliminación por valor\n",
    "- `pop`: Eliminación por índice, mostrando el elemento eliminado.\n"
   ]
  },
  {
   "cell_type": "code",
   "execution_count": 14,
   "id": "8435c1b6-127c-4e06-a390-b50456e5edc6",
   "metadata": {},
   "outputs": [
    {
     "name": "stdout",
     "output_type": "stream",
     "text": [
      "['hola', 13, 3.8, 'Esto es una prueba', 3.8, True, '98456', 27, 'bien']\n",
      "['hola', 13, 'Esto es una prueba', 3.8, True, '98456', 27, 'bien']\n"
     ]
    }
   ],
   "source": [
    "print(primera_lista)\n",
    "del primera_lista[2]\n",
    "print(primera_lista)"
   ]
  },
  {
   "cell_type": "code",
   "execution_count": 20,
   "id": "24c66db0-17eb-4f94-be63-ad1eb35ef9d0",
   "metadata": {},
   "outputs": [
    {
     "name": "stdout",
     "output_type": "stream",
     "text": [
      "[1, 6, 3, 4, 2, 1, 6, 7, 3]\n"
     ]
    }
   ],
   "source": [
    "segunda_lista = [1,6,3,4,2,1,6,7,3]\n",
    "print(segunda_lista)"
   ]
  },
  {
   "cell_type": "code",
   "execution_count": 21,
   "id": "adef9a34-46a0-47de-ae1f-6711ac38479a",
   "metadata": {},
   "outputs": [
    {
     "name": "stdout",
     "output_type": "stream",
     "text": [
      "[1, 3, 4, 2, 1, 6, 7, 3]\n"
     ]
    }
   ],
   "source": [
    "segunda_lista.remove(6)\n",
    "print(segunda_lista)"
   ]
  },
  {
   "cell_type": "code",
   "execution_count": 22,
   "id": "4ff36796-7fa3-4fd5-a779-bd86b78921e2",
   "metadata": {},
   "outputs": [
    {
     "ename": "ValueError",
     "evalue": "list.remove(x): x not in list",
     "output_type": "error",
     "traceback": [
      "\u001b[1;31m---------------------------------------------------------------------------\u001b[0m",
      "\u001b[1;31mValueError\u001b[0m                                Traceback (most recent call last)",
      "\u001b[1;32m~\\AppData\\Local\\Temp/ipykernel_9500/899753157.py\u001b[0m in \u001b[0;36m<module>\u001b[1;34m\u001b[0m\n\u001b[1;32m----> 1\u001b[1;33m \u001b[0msegunda_lista\u001b[0m\u001b[1;33m.\u001b[0m\u001b[0mremove\u001b[0m\u001b[1;33m(\u001b[0m\u001b[1;36m20\u001b[0m\u001b[1;33m)\u001b[0m\u001b[1;33m\u001b[0m\u001b[0m\n\u001b[0m\u001b[0;32m      2\u001b[0m \u001b[0mprint\u001b[0m\u001b[1;33m(\u001b[0m\u001b[0msegunda_lista\u001b[0m\u001b[1;33m)\u001b[0m\u001b[1;33m\u001b[0m\u001b[0m\n",
      "\u001b[1;31mValueError\u001b[0m: list.remove(x): x not in list"
     ]
    }
   ],
   "source": [
    "segunda_lista.remove(20)\n",
    "print(segunda_lista)"
   ]
  },
  {
   "cell_type": "code",
   "execution_count": 26,
   "id": "7a44a840-a9b2-4f90-8ab4-91597831cec4",
   "metadata": {},
   "outputs": [
    {
     "name": "stdout",
     "output_type": "stream",
     "text": [
      "[1, 6, 3, 4, 2, 1, 6, 7, 3]\n"
     ]
    },
    {
     "data": {
      "text/plain": [
       "3"
      ]
     },
     "execution_count": 26,
     "metadata": {},
     "output_type": "execute_result"
    }
   ],
   "source": [
    "segunda_lista = [1,6,3,4,2,1,6,7,3]\n",
    "print(segunda_lista)\n",
    "segunda_lista.pop(2)"
   ]
  },
  {
   "cell_type": "markdown",
   "id": "599be875-e3b9-4504-b137-dd8cb77b67fd",
   "metadata": {},
   "source": [
    "#### Problema 2\n",
    "\n",
    "Qué pasa si lo que quiero es extraer una parte de una lista o modificarla, ya no solo un número sino varios?\n"
   ]
  },
  {
   "cell_type": "markdown",
   "id": "d67794ab-4301-46ed-aca6-41cb75f818a2",
   "metadata": {},
   "source": [
    "### Slicing ( particionado)\n",
    "Permitir seleccionar porciones de la lista para generar sublistas. \n",
    "\n",
    "\n",
    "- Si en lugar de un número escribimos dos números `start` y `stop` separados por dos puntos `lista[start:stop]`,  `Python` interpretará que queremos una lista que vaya desde la posición `start` hasta la posición `stop`, sin incluir este último. \n",
    "\n",
    "\n",
    "- Si escribimos tres números `lista[start:stop:step]` en lugar de dos, el tercero se utiliza para determinar cada cuantas posiciones añadir un elemento a la lista."
   ]
  },
  {
   "cell_type": "code",
   "execution_count": 28,
   "id": "5af0237d-d1ae-45c2-9b44-70305c60f091",
   "metadata": {},
   "outputs": [
    {
     "name": "stdout",
     "output_type": "stream",
     "text": [
      "['hola', 13, 2.8, 'mundo', True, '98456', 27]\n"
     ]
    }
   ],
   "source": [
    "primera_lista = ['hola', 13, 2.8, \"mundo\", True, \"98456\", 27]\n",
    "print(primera_lista)"
   ]
  },
  {
   "cell_type": "code",
   "execution_count": 35,
   "id": "11813a05-3fd5-4fa1-9a99-8b7bf09113fd",
   "metadata": {},
   "outputs": [
    {
     "name": "stdout",
     "output_type": "stream",
     "text": [
      "[13, 2.8]\n"
     ]
    }
   ],
   "source": [
    "sub_lista1 = primera_lista[1:3] #n-1\n",
    "print(sub_lista1)"
   ]
  },
  {
   "cell_type": "code",
   "execution_count": 40,
   "id": "ed515b0d-8185-4224-ac6d-24ea8e38069b",
   "metadata": {},
   "outputs": [
    {
     "name": "stdout",
     "output_type": "stream",
     "text": [
      "['hola', 2.8, True, 27]\n"
     ]
    }
   ],
   "source": [
    "sub_lista2 = primera_lista[0:7:2] #n-1\n",
    "print(sub_lista2)"
   ]
  },
  {
   "cell_type": "markdown",
   "id": "69f77f3f-9902-4fc9-9738-457038695ef5",
   "metadata": {},
   "source": [
    "Si usted quiere acceder al inicio o final para realizar el slicing no es necesario indicarlos explicitamente, sino que, si estos se omiten, se usarán por defecto las posiciones de inicio y fin de la lista, respectivamente."
   ]
  },
  {
   "cell_type": "code",
   "execution_count": 41,
   "id": "c9cdc1a7-ff8f-4b76-a0ef-cf2d9e46fa50",
   "metadata": {},
   "outputs": [
    {
     "name": "stdout",
     "output_type": "stream",
     "text": [
      "[True, '98456', 27]\n"
     ]
    }
   ],
   "source": [
    "sub_lista3 = primera_lista[4:] #n-1\n",
    "print(sub_lista3)"
   ]
  },
  {
   "cell_type": "code",
   "execution_count": 42,
   "id": "e6ce4382-c20c-4b86-b5ee-8441f303ba0d",
   "metadata": {},
   "outputs": [
    {
     "name": "stdout",
     "output_type": "stream",
     "text": [
      "['hola', 13, 2.8]\n"
     ]
    }
   ],
   "source": [
    "sub_lista4 = primera_lista[:3] #n-1\n",
    "print(sub_lista4)"
   ]
  },
  {
   "cell_type": "code",
   "execution_count": 44,
   "id": "34f7dcdd-181d-4c6c-95d8-e956da196f22",
   "metadata": {},
   "outputs": [
    {
     "name": "stdout",
     "output_type": "stream",
     "text": [
      "['hola', 13, 2.8, 'mundo', True, '98456', 27]\n"
     ]
    }
   ],
   "source": [
    "sub_lista5 = primera_lista[:] #n-1\n",
    "print(sub_lista5)"
   ]
  },
  {
   "cell_type": "code",
   "execution_count": 46,
   "id": "9751c91e-cebd-4354-b453-0678698ef517",
   "metadata": {},
   "outputs": [
    {
     "name": "stdout",
     "output_type": "stream",
     "text": [
      "['hola', 2.8, True, 27]\n"
     ]
    }
   ],
   "source": [
    "sub_lista3 = primera_lista[::2] #n-1\n",
    "print(sub_lista3)"
   ]
  },
  {
   "cell_type": "markdown",
   "id": "1ec40836-5dd0-4cb2-b625-dc6bd1db0a17",
   "metadata": {},
   "source": [
    "### Operaciones con listas\n",
    "\n",
    "Las listas son un conjunto de variables organizadas bajo un mismo nombre. Que pasa si le aplico operaciones básicas como suma y multiplicación?\n",
    "\n",
    "- El operador suma posibilita concatenar listas y no agregarlo como se fuera un elemento de la lista\n",
    "- El operador multiplicación permite hacer copias de la misma cadena `n` veces"
   ]
  },
  {
   "cell_type": "markdown",
   "id": "c4d3b5eb-2e04-4598-bfd5-e5220aed0cdc",
   "metadata": {},
   "source": [
    "lista_a = [12,\"como\",34]\n",
    "lista_b = [\"prueba\",54.5]\n",
    "lista_c = lista_a + lista_b\n",
    "print(lista_c)"
   ]
  },
  {
   "cell_type": "code",
   "execution_count": 48,
   "id": "0c18dd63-2536-473a-ac61-cabf1d5ac4ca",
   "metadata": {},
   "outputs": [
    {
     "name": "stdout",
     "output_type": "stream",
     "text": [
      "[0, 0, 0, 0]\n"
     ]
    }
   ],
   "source": [
    "print([0]*4)"
   ]
  },
  {
   "cell_type": "code",
   "execution_count": 49,
   "id": "507a8172-d14f-4dba-80cd-df58991130b1",
   "metadata": {},
   "outputs": [
    {
     "name": "stdout",
     "output_type": "stream",
     "text": [
      "[1, 2, 3, 1, 2, 3, 1, 2, 3, 1, 2, 3, 1, 2, 3]\n"
     ]
    }
   ],
   "source": [
    "print([1,2,3]*5)"
   ]
  },
  {
   "cell_type": "markdown",
   "id": "294b2eef-6041-4bfd-bea0-0cce9675fa44",
   "metadata": {},
   "source": [
    "### Listas y funciones\n",
    "\n",
    "Existen ciertas funciones ya escritas en Python que pueden ser usadas en las listas siempre y cuando cumplan ciertas restricciones. Anteriormente vimos que una de estas era `len`, la cual servia para obtener la longitud de la lista. Si la lista está compuesta por solo número entonces las siguientes funciones pueden ser aplicadas \n",
    "\n",
    "- `max()`: encuentra el número máximo de la lista\n",
    "- `min()`: encuentra el número mínimo de la lista\n",
    "- `sum()`: encuentra la suma de todos los elementos en la lista"
   ]
  },
  {
   "cell_type": "code",
   "execution_count": 50,
   "id": "c2c6d101-faff-4198-be1b-8e374cd0161b",
   "metadata": {},
   "outputs": [
    {
     "name": "stdout",
     "output_type": "stream",
     "text": [
      "74.5\n",
      "3\n",
      "155.0\n"
     ]
    }
   ],
   "source": [
    "nums = [3, 41, 12, 9.5, 74.5, 15]\n",
    "print(max(nums))\n",
    "print(min(nums))\n",
    "print(sum(nums))"
   ]
  },
  {
   "cell_type": "markdown",
   "id": "579b1a09-ba5c-4fb3-b389-76f100b647a3",
   "metadata": {},
   "source": [
    "Si la lista tiene un elemento que no es número entonces tendremos un error"
   ]
  },
  {
   "cell_type": "code",
   "execution_count": 52,
   "id": "457a9cad-2dbd-42de-9a85-3aa94411cd08",
   "metadata": {},
   "outputs": [
    {
     "ename": "TypeError",
     "evalue": "'>' not supported between instances of 'str' and 'int'",
     "output_type": "error",
     "traceback": [
      "\u001b[1;31m---------------------------------------------------------------------------\u001b[0m",
      "\u001b[1;31mTypeError\u001b[0m                                 Traceback (most recent call last)",
      "\u001b[1;32m~\\AppData\\Local\\Temp/ipykernel_9500/3075371489.py\u001b[0m in \u001b[0;36m<module>\u001b[1;34m\u001b[0m\n\u001b[0;32m      1\u001b[0m \u001b[0mnums\u001b[0m \u001b[1;33m=\u001b[0m \u001b[1;33m[\u001b[0m\u001b[1;36m3\u001b[0m\u001b[1;33m,\u001b[0m \u001b[1;36m41\u001b[0m\u001b[1;33m,\u001b[0m \u001b[1;36m12\u001b[0m\u001b[1;33m,\u001b[0m \u001b[1;34m\"h\"\u001b[0m\u001b[1;33m,\u001b[0m \u001b[1;36m74.5\u001b[0m\u001b[1;33m,\u001b[0m \u001b[1;36m15\u001b[0m\u001b[1;33m]\u001b[0m\u001b[1;33m\u001b[0m\u001b[0m\n\u001b[1;32m----> 2\u001b[1;33m \u001b[0mprint\u001b[0m\u001b[1;33m(\u001b[0m\u001b[0mmax\u001b[0m\u001b[1;33m(\u001b[0m\u001b[0mnums\u001b[0m\u001b[1;33m)\u001b[0m\u001b[1;33m)\u001b[0m\u001b[1;33m\u001b[0m\u001b[0m\n\u001b[0m",
      "\u001b[1;31mTypeError\u001b[0m: '>' not supported between instances of 'str' and 'int'"
     ]
    }
   ],
   "source": [
    "nums = [3, 41, 12, \"h\", 74.5, 15]\n",
    "print(max(nums))"
   ]
  },
  {
   "cell_type": "markdown",
   "id": "a1811ecc-86c6-4ecf-9bdf-c2d5c9fc9a86",
   "metadata": {},
   "source": [
    "### Alias\n",
    "\n",
    "Consiste en cuando se asigna un objeto a otro, entonces ambos tendran la misma referencia. Por ejemplo si se tiene una lista `a` y se hace una asignación a la variable `b` de esa lista, entonces los dos acceden al mismo objeto. No se crea una copia. Si el objeto es mutable entonces un cambio en uno cambiará en el otro. "
   ]
  },
  {
   "cell_type": "code",
   "execution_count": 53,
   "id": "67705d67-e6c2-4483-af52-b0e553246d8b",
   "metadata": {},
   "outputs": [
    {
     "name": "stdout",
     "output_type": "stream",
     "text": [
      "[1, 2, 3]\n"
     ]
    }
   ],
   "source": [
    "a = [1,2,3]\n",
    "b = a\n",
    "print(b)"
   ]
  },
  {
   "cell_type": "code",
   "execution_count": 54,
   "id": "cf933580-8bd1-45b0-9c08-56798bc11cfb",
   "metadata": {},
   "outputs": [
    {
     "name": "stdout",
     "output_type": "stream",
     "text": [
      "[1, 25, 3]\n",
      "[1, 25, 3]\n"
     ]
    }
   ],
   "source": [
    "b[1] = 25\n",
    "print(a)\n",
    "print(b)"
   ]
  },
  {
   "cell_type": "markdown",
   "id": "dbb410ee-caf8-414a-8b04-aa6e8856299d",
   "metadata": {},
   "source": [
    "Si se requiere hacer la copia de la lista utilizar el comando `list`"
   ]
  },
  {
   "cell_type": "code",
   "execution_count": 55,
   "id": "ed901023-17f4-47eb-a98a-8f05208f5422",
   "metadata": {},
   "outputs": [
    {
     "name": "stdout",
     "output_type": "stream",
     "text": [
      "[1, 2, 3]\n"
     ]
    }
   ],
   "source": [
    "a = [1,2,3]\n",
    "b = list(a)\n",
    "print(b)"
   ]
  },
  {
   "cell_type": "code",
   "execution_count": 56,
   "id": "46ee0440-33db-4369-979f-734060e71ddb",
   "metadata": {},
   "outputs": [
    {
     "name": "stdout",
     "output_type": "stream",
     "text": [
      "[1, 2, 3]\n",
      "[1, 25, 3]\n"
     ]
    }
   ],
   "source": [
    "b[1] = 25\n",
    "print(a)\n",
    "print(b)"
   ]
  },
  {
   "cell_type": "markdown",
   "id": "250bce11-b87b-467a-85d6-0ef5ff94f198",
   "metadata": {},
   "source": [
    "### List comprenhension\n",
    "\n",
    "la comprensión de lista se incluyó en `Python`a partir de la versión `2.0`. Esencialmente, es la forma en que `Python` implementa una notación bien conocida para conjuntos como la usan los matemáticos.\n",
    "\n",
    "En matemáticas, si se requiere describir el conjunto de los números elevados al cuadrado de cada número natural, se puede utiliza notación de conjunto como {x2 | x ∈ ℕ} o el conjunto de enteros complejos {(x, y) | x ∈ ℤ ∧ y ∈ ℤ}.\n",
    "\n",
    "La comprensión de listas es una forma elegante de definir y crear listas en `Python`. Estas listas tienen a menudo las cualidades de conjuntos, pero no son en todos los casos conjuntos.\n",
    "\n",
    "La estructura de la comprensión de lista es:\n",
    "\n",
    "- list_variable = [x for x in iterable]"
   ]
  },
  {
   "cell_type": "code",
   "execution_count": 57,
   "id": "e86ad455-c2eb-4b92-b98a-8ce397afbece",
   "metadata": {},
   "outputs": [
    {
     "name": "stdout",
     "output_type": "stream",
     "text": [
      "[102.56, 97.7, 99.14, 100.03999999999999]\n"
     ]
    }
   ],
   "source": [
    "# Se requiere convertir una lista que contiene temperatura en grados Celsius a Fahrenheit\n",
    "Celsius = [39.2, 36.5, 37.3, 37.8]\n",
    "Fahrenheit = []\n",
    "for x in Celsius:\n",
    "    Fahrenheit.append((9/5*x + 32))\n",
    "print(Fahrenheit)"
   ]
  },
  {
   "cell_type": "code",
   "execution_count": 58,
   "id": "6ca7a859-8b48-462d-b735-57843bb0ba5f",
   "metadata": {},
   "outputs": [
    {
     "name": "stdout",
     "output_type": "stream",
     "text": [
      "[102.56, 97.7, 99.14, 100.03999999999999]\n"
     ]
    }
   ],
   "source": [
    "# Y como se resuelve de utilizando list comprehension?\n",
    "Celsius = [39.2, 36.5, 37.3, 37.8]\n",
    "Fahrenheit = [ (9/5*temp_C + 32) for temp_C in Celsius ]\n",
    "print(Fahrenheit)"
   ]
  },
  {
   "cell_type": "code",
   "execution_count": null,
   "id": "eb8f872c-02fa-42bb-bd16-b88598b6be2d",
   "metadata": {},
   "outputs": [],
   "source": []
  },
  {
   "cell_type": "code",
   "execution_count": null,
   "id": "c8c13a47-484c-4baf-a371-f0fcd42b6067",
   "metadata": {},
   "outputs": [],
   "source": []
  },
  {
   "cell_type": "code",
   "execution_count": null,
   "id": "20894087-1ade-4acb-a7df-72ee827f7080",
   "metadata": {},
   "outputs": [],
   "source": []
  },
  {
   "cell_type": "code",
   "execution_count": null,
   "id": "587c6b59-2e73-4d21-abb4-3bf3d5330263",
   "metadata": {},
   "outputs": [],
   "source": []
  },
  {
   "cell_type": "code",
   "execution_count": null,
   "id": "2b43a4bd-dcef-4ab0-90ec-fa240a44ad18",
   "metadata": {},
   "outputs": [],
   "source": []
  }
 ],
 "metadata": {
  "kernelspec": {
   "display_name": "Python 3 (ipykernel)",
   "language": "python",
   "name": "python3"
  },
  "language_info": {
   "codemirror_mode": {
    "name": "ipython",
    "version": 3
   },
   "file_extension": ".py",
   "mimetype": "text/x-python",
   "name": "python",
   "nbconvert_exporter": "python",
   "pygments_lexer": "ipython3",
   "version": "3.7.0"
  }
 },
 "nbformat": 4,
 "nbformat_minor": 5
}
