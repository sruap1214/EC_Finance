{
 "cells": [
  {
   "cell_type": "markdown",
   "id": "b7afeb4e-a725-4733-ba56-0629374a123b",
   "metadata": {},
   "source": [
    "<h1 align=\"center\"><b>Modelación Financiera I</b></h1>\n",
    "<h1 align=\"center\"><b> Módulo 3, parte 1 </b></h1>\n",
    "<h1 align=\"center\"><b> Computación numérica </b></h1>"
   ]
  },
  {
   "cell_type": "markdown",
   "id": "92f3cb9a-0cfa-4612-a196-948c2002448a",
   "metadata": {},
   "source": [
    "*** \n",
    "\n",
    "***Docente:*** Santiago Rúa Pérez, PhD.\n",
    "\n",
    "***e-mail:*** srua@udemedellin.edu.co\n",
    "\n",
    "***Herramienta:*** [Jupyter Notebook](http://jupyter.org/)\n",
    "\n",
    "***Kernel:*** Python 3.7\n",
    "\n",
    "***MEDELLÍN - COLOMBIA***\n",
    "\n",
    "***2022***\n",
    "\n",
    "***"
   ]
  },
  {
   "cell_type": "markdown",
   "id": "841377aa-60e8-4831-9921-fa961104eeb1",
   "metadata": {},
   "source": [
    "<h1>Table of Contents<span class=\"tocSkip\"></span></h1>\n",
    "<div class=\"toc\"><ul class=\"toc-item\">\n",
    "    <li><span><a href=\"#Introducci%C3%B3n\" data-toc-modified-id=\"Introducci%C3%B3n-1\"><span class=\"toc-item-num\">1&nbsp;&nbsp;</span>Introducción</a></span></li>\n",
    "    <li><span><a href=\"#Introducci%C3%B3n-a-numpy\" data-toc-modified-id=\"Introducci%C3%B3n-a-numpy-2\"><span class=\"toc-item-num\">2&nbsp;&nbsp;</span>Introducción a numpy</a></span></li>\n",
    "    <div class=\"toc\"><ul class=\"toc-item\">\n",
    "        <li><span><a href=\"#Entendiendo-los-tipos-de-datos-en-Python\" data-toc-modified-id=\"Entendiendo-los-tipos-de-datos en-Python-2.1\"><span class=\"toc-item-num\">2.1&nbsp;&nbsp;</span>Entendiendo los tipos de datos en Python</a></span></li>\n",
    "        <li><span><a href=\"#Una-lista-en-Python-es-mas-que-una-lista\" data-toc-modified-id=\"Una-lista-en-Python-es-mas-que-una-lista-2.2\"><span class=\"toc-item-num\">2.2&nbsp;&nbsp;</span>Una lista en Python es mas que una lista</a></span></li>\n",
    "        <li><span><a href=\"#Creando-array-de-listas\" data-toc-modified-id=\"Creando-array-de-listas-2.3\"><span class=\"toc-item-num\">2.3&nbsp;&nbsp;</span>Creando array de listas</a></span></li>\n",
    "        <li><span><a href=\"#Creando-arrays-desde-cero\" data-toc-modified-id=\"Creando-arrays-desde-cero-2.4\"><span class=\"toc-item-num\">2.4&nbsp;&nbsp;</span>Creando arrays desde cero</a></span></li>\n",
    "        <li><span><a href=\"#Atributos-de-los-numpy-arrays\" data-toc-modified-id=\"Atributos-de-los-numpy-arrays-2.5\"><span class=\"toc-item-num\">2.5&nbsp;&nbsp;</span>Atributos de los numpy arrays</a></span></li>\n",
    "        <li><span><a href=\"#Indexing-y-Slicing\" data-toc-modified-id=\"Indexing-y-Slicing-2.6\"><span class=\"toc-item-num\">2.6&nbsp;&nbsp;</span>Indexing y Slicing</a></span></li>\n",
    "        <li><span><a href=\"#Reshaping\" data-toc-modified-id=\"Reshaping-2.7\"><span class=\"toc-item-num\">2.7&nbsp;&nbsp;</span>Reshaping</a></span></li>\n",
    "        <li><span><a href=\"#Concatenaci%C3%B3n-y-divisi%C3%B3n-de-arrays\" data-toc-modified-id=\"Concatenaci%C3%B3n-y-divisi%C3%B3n-de-arrays-2.8\"><span class=\"toc-item-num\">2.8&nbsp;&nbsp;</span>Concatenación y división de arrays</a></span></li>\n",
    "    </ul></div>\n",
    "    <li><span><a href=\"#Computaci%C3%B3n-y-agregaciones\" data-toc-modified-id=\"Computaci%C3%B3n-y-agregaciones-3\"><span class=\"toc-item-num\">3&nbsp;&nbsp;</span>Computación y agregaciones</a></span></li>\n",
    "    <div class=\"toc\"><ul class=\"toc-item\">\n",
    "        <li><span><a href=\"#Introducci%C3%B3n-a-las-funciones-universales\" data-toc-modified-id=\"Introducci%C3%B3n-a-las-funciones-universales-3.1\"><span class=\"toc-item-num\">3.1&nbsp;&nbsp;</span>Introducción a las funciones universales</a></span></li>\n",
    "        <li><span><a href=\"#Agregaciones:-Min,-Max,-y-otros\" data-toc-modified-id=\"Agregaciones:-Min,-Max,-y-otros-3.2\"><span class=\"toc-item-num\">3.2&nbsp;&nbsp;</span>Agregaciones: Min, Max, y otros</a></span></li>\n",
    "    </ul></div>\n",
    "    </ul></div>"
   ]
  },
  {
   "cell_type": "markdown",
   "id": "44d7e944-4207-4076-b5cb-b71850f0ada3",
   "metadata": {},
   "source": [
    "## Introducción\n",
    "\n",
    "- Por el momento solo se ha trabajado con números individuales o con conjunto de datos arreglados. Este conjunto de datos organizados bajo un mismo nombre se ha trabajado desde listas, tuplas y diccionarios. \n",
    "\n",
    "- Estas estructuras sin embargo no son eficientes cuando se tratan de realizar operaciones matemáticas. \n",
    "\n",
    "- Lo anterior generar la necesidad de crear un tipo de datos que sean eficientes cuando se esten realizando computos matemáticos. Para solucionar este problema se utiliza la libreria `numpy`"
   ]
  },
  {
   "cell_type": "markdown",
   "id": "c1cc33db-9186-4b73-bc67-ec000712adde",
   "metadata": {},
   "source": [
    "## Introducción a numpy\n",
    "\n",
    "**Qué es numpy?**\n",
    "- Una biblioteca para `Python`: `ndarray` + `ufunc`\n",
    "\n",
    "- Los arrays multidimensionales (`ndarray`) nos permiten almacenar datos de manera estructurada\n",
    "\n",
    "- Las funciones universales (`ufunc`) nos permiten operar con esos datos de manera eficiente\n",
    "\n",
    "`Python` está organizado en módulos, que son archivos con extensión `*.py` que contienen funciones, variables y otros objetos, y paquetes, que son conjuntos de módulos. \n",
    "\n",
    "\n",
    "Cuando queremos utilizar objetos que están definidos en un módulo tenemos que *importarlo*, y una vez que lo hemos hecho podemos usar el operador \"`.`\" para ir descendiendo en la jerarquía de paquetes y acceder al objeto que necesitamos."
   ]
  },
  {
   "cell_type": "code",
   "execution_count": 1,
   "id": "8143452a-d568-4e36-bc21-9e455252fa00",
   "metadata": {},
   "outputs": [
    {
     "data": {
      "text/plain": [
       "<module 'numpy.random' from 'C:\\\\Users\\\\srua\\\\Anaconda3\\\\envs\\\\MLFinancePy3_7\\\\lib\\\\site-packages\\\\numpy\\\\random\\\\__init__.py'>"
      ]
     },
     "execution_count": 1,
     "metadata": {},
     "output_type": "execute_result"
    }
   ],
   "source": [
    "import numpy as np\n",
    "np.random"
   ]
  },
  {
   "cell_type": "code",
   "execution_count": 2,
   "id": "c8f0ba4f-e875-4bde-b7fb-8bbcc0823db9",
   "metadata": {},
   "outputs": [],
   "source": [
    "from numpy import random"
   ]
  },
  {
   "cell_type": "markdown",
   "id": "a97a110f-bba9-499b-9586-c1792c06034a",
   "metadata": {},
   "source": [
    "Para encontrar ayuda sobre cierto tema podemos usar la función `lookfor`:"
   ]
  },
  {
   "cell_type": "code",
   "execution_count": 3,
   "id": "12eff402-4ce5-4f17-a2d4-7842f012287b",
   "metadata": {},
   "outputs": [
    {
     "name": "stdout",
     "output_type": "stream",
     "text": [
      "Search results for 'random'\n",
      "---------------------------\n",
      "numpy.matlib.rand\n",
      "    Return a matrix of random values with given shape.\n",
      "numpy.matlib.randn\n",
      "    Return a random matrix with data from the \"standard normal\" distribution.\n",
      "numpy.flip\n",
      "    Reverse the order of elements in an array along the given axis.\n",
      "numpy.poly\n",
      "    Find the coefficients of a polynomial with the given sequence of roots.\n",
      "numpy.prod\n",
      "    Return the product of array elements over a given axis.\n",
      "numpy.empty\n",
      "    Return a new array of given shape and type, without initializing entries.\n",
      "numpy.stack\n",
      "    Join a sequence of arrays along a new axis.\n",
      "numpy.fliplr\n",
      "    Flip array in the left/right direction.\n",
      "numpy.flipud\n",
      "    Flip array in the up/down direction.\n",
      "numpy.ndarray\n",
      "    ndarray(shape, dtype=float, buffer=None, offset=0,\n",
      "numpy.convolve\n",
      "    Returns the discrete, linear convolution of two one-dimensional sequences.\n",
      "numpy.histogram\n",
      "    Compute the histogram of a set of data.\n",
      "numpy.empty_like\n",
      "    Return a new array with the same shape and type as a given array.\n",
      "numpy.einsum_path\n",
      "    Evaluates the lowest cost contraction order for an einsum expression by\n",
      "numpy.histogram2d\n",
      "    Compute the bi-dimensional histogram of two data samples.\n",
      "numpy.histogramdd\n",
      "    Compute the multidimensional histogram of some data.\n",
      "numpy.fft.fftn\n",
      "    Compute the N-dimensional discrete Fourier Transform.\n",
      "numpy.fft.ifft\n",
      "    Compute the one-dimensional inverse discrete Fourier Transform.\n",
      "numpy.fft.ifftn\n",
      "    Compute the N-dimensional inverse discrete Fourier Transform.\n",
      "numpy.ma.empty\n",
      "    Return a new array of given shape and type, without initializing entries.\n",
      "numpy.ma.stack\n",
      "    Join a sequence of arrays along a new axis.\n",
      "numpy.linalg.qr\n",
      "    Compute the qr factorization of a matrix.\n",
      "numpy.linalg.svd\n",
      "    Singular Value Decomposition.\n",
      "numpy.linalg.pinv\n",
      "    Compute the (Moore-Penrose) pseudo-inverse of a matrix.\n",
      "numpy.savez_compressed\n",
      "    Save several arrays into a single file in compressed ``.npz`` format.\n",
      "numpy.chararray.item\n",
      "    a.item(*args)\n",
      "numpy.matlib.empty\n",
      "    Return a new matrix of given shape and type, without initializing entries.\n",
      "numpy.ma.empty_like\n",
      "    Return a new array with the same shape and type as a given array.\n",
      "numpy.linalg.eigvals\n",
      "    Compute the eigenvalues of a general matrix.\n",
      "numpy.set_string_function\n",
      "    Set a Python function to be used when pretty printing arrays.\n",
      "numpy.chararray.itemset\n",
      "    a.itemset(*args)\n",
      "numpy.linalg.multi_dot\n",
      "    Compute the dot product of two or more arrays in a single function call,\n",
      "numpy.linalg.tensorinv\n",
      "    Compute the 'inverse' of an N-dimensional array.\n",
      "numpy.random.tests.test_random.TestRandint.rfunc\n",
      "    Return random integers from `low` (inclusive) to `high` (exclusive).\n",
      "numpy.linalg.tensorsolve\n",
      "    Solve the tensor equation ``a x = b`` for x.\n",
      "numpy.distutils.read_config\n",
      "    Return library info for a package from its configuration file.\n",
      "numpy.testing.tests.test_doctesting.check_random_directive\n",
      "    >>> 2+2\n",
      "numpy.polynomial.Hermite._fit\n",
      "    Least squares fit of Hermite series to data.\n",
      "numpy.polynomial.HermiteE._fit\n",
      "    Least squares fit of Hermite series to data.\n",
      "numpy.polynomial.Laguerre._fit\n",
      "    Least squares fit of Laguerre series to data.\n",
      "numpy.polynomial.Polynomial._fit\n",
      "    Least-squares fit of a polynomial to data.\n",
      "numpy.ma.tests.test_subclassing.SubArray\n",
      "    ndarray(shape, dtype=float, buffer=None, offset=0,\n",
      "numpy.lib.tests.test_stride_tricks.SimpleSubClass\n",
      "    ndarray(shape, dtype=float, buffer=None, offset=0,\n",
      "numpy.core.tests.test_function_base.PhysicalQuantity2\n",
      "    ndarray(shape, dtype=float, buffer=None, offset=0,\n",
      "numpy.ma.tests.test_subclassing.ComplicatedSubArray\n",
      "    ndarray(shape, dtype=float, buffer=None, offset=0,\n",
      "numpy.lib.tests.test_stride_tricks.VerySimpleSubClass\n",
      "    ndarray(shape, dtype=float, buffer=None, offset=0,"
     ]
    }
   ],
   "source": [
    "np.lookfor(\"random\")"
   ]
  },
  {
   "cell_type": "markdown",
   "id": "6c950f81-beb6-4aaf-9a29-f308877769b1",
   "metadata": {},
   "source": [
    "### Entendiendo los tipos de datos en Python\n",
    "\n",
    "La ciencia y la computación efectivas basadas en datos requieren comprender cómo se almacenan y manipulan los datos. Esta sección describe y contrasta cómo se manejan las matrices de datos en el propio lenguaje Python y cómo NumPy mejora esto.\n",
    "\n",
    "Los usuarios de Python a menudo se sienten atraídos por su facilidad de uso, una de las cuales es la escritura dinámica. Mientras que un lenguaje de tipo estático como C o Java requiere que cada variable se declare explícitamente, un lenguaje de tipo dinámico como Python omite esta especificación. Por ejemplo, en C puede especificar una operación en particular de la siguiente manera\n",
    "\n",
    "```c\n",
    "/* C code */\n",
    "int result = 0;\n",
    "for(int i=0; i<100; i++){\n",
    "    result += i;\n",
    "}\n",
    "```\n",
    "\n",
    "Mientras que en Python se tiene la operación equivalente\n",
    "\n",
    "```python\n",
    "# Python code\n",
    "result = 0\n",
    "for i in range(100):\n",
    "    result += i\n",
    "```\n",
    "\n",
    "La principal diferencia es el tipo de variable declarada explícitamente. Eso significa que en python se puede asignar cualquier valor a la variables.\n",
    "\n",
    "```python\n",
    "# Python code\n",
    "x = 4\n",
    "x = \"four\"\n",
    "```\n",
    "\n",
    "Si hicieramos lo mismo con C o javascript entonces se genera un error de compilación. \n",
    "\n"
   ]
  },
  {
   "cell_type": "markdown",
   "id": "ce0ea06d-6993-4c43-ba7e-bb5e7777761b",
   "metadata": {},
   "source": [
    "### Una lista en Python es mas que una lista\n",
    "\n",
    "Ahora se procede a analizar que pasa cuando se crea una lista en Python. Recuerde que las listas en Python son objetos mutables "
   ]
  },
  {
   "cell_type": "code",
   "execution_count": 4,
   "id": "0b69d484-b951-416f-9895-a3950c457eb3",
   "metadata": {},
   "outputs": [
    {
     "data": {
      "text/plain": [
       "[0, 1, 2, 3, 4, 5, 6, 7, 8, 9]"
      ]
     },
     "execution_count": 4,
     "metadata": {},
     "output_type": "execute_result"
    }
   ],
   "source": [
    "L = list(range(10))\n",
    "L"
   ]
  },
  {
   "cell_type": "code",
   "execution_count": 5,
   "id": "1b66ced5-0c11-435c-a56b-1458008f4df5",
   "metadata": {},
   "outputs": [
    {
     "data": {
      "text/plain": [
       "int"
      ]
     },
     "execution_count": 5,
     "metadata": {},
     "output_type": "execute_result"
    }
   ],
   "source": [
    "type(L[0])"
   ]
  },
  {
   "cell_type": "markdown",
   "id": "8b7a3c5b-5a6e-46a8-83b2-919b0f25c107",
   "metadata": {},
   "source": [
    "También se puede crear una lista de cadenas"
   ]
  },
  {
   "cell_type": "code",
   "execution_count": 6,
   "id": "ac0e4386-a865-4cce-8976-9d98bfbfc5bc",
   "metadata": {},
   "outputs": [
    {
     "data": {
      "text/plain": [
       "['0', '1', '2', '3', '4', '5', '6', '7', '8', '9']"
      ]
     },
     "execution_count": 6,
     "metadata": {},
     "output_type": "execute_result"
    }
   ],
   "source": [
    "L2 = [str(c) for c in L]\n",
    "L2"
   ]
  },
  {
   "cell_type": "markdown",
   "id": "f78413cc-b87c-4adc-b441-093f8aa71a27",
   "metadata": {},
   "source": [
    "La fleixibilidad de las listas viene con un costo: cada elemento de la lista debe tener su propia informacion de referencia. En el caso donde todos los datos son lo mismos, se tiene información redundante. Se puede realizar una comparación de la creación de un numpy array y una lista conteniendo la misma información\n",
    "\n",
    "![ArrayList](img/array_vs_list.png)\n",
    "\n",
    "Notese que tienen los mismos datos pero las listas son mas ineficientes cuando contienen el mismo tipo de datos. Para mejorar lo anterior Python cuenta con la libreria `array` la cual sirve para mejorar la eficiencia en el almacenado de los datos. Sin embargo, la libreria `numpy` le adiciona operaciones a esos datos de forma eficiente."
   ]
  },
  {
   "cell_type": "markdown",
   "id": "977c1dfb-2441-4b83-803c-05220b189e27",
   "metadata": {},
   "source": [
    "### Creando array de listas\n",
    "\n",
    "Se puede utiliza la función `np.array` para crear array de una lista"
   ]
  },
  {
   "cell_type": "code",
   "execution_count": 9,
   "id": "f7df0250-45bc-4243-87fa-dd0174a2d9ea",
   "metadata": {},
   "outputs": [
    {
     "name": "stdout",
     "output_type": "stream",
     "text": [
      "[1 2 5 3]\n",
      "<class 'numpy.ndarray'>\n"
     ]
    }
   ],
   "source": [
    "import numpy as np\n",
    "a = np.array([1,2,5,3])\n",
    "print(a)\n",
    "print(type(a))"
   ]
  },
  {
   "cell_type": "markdown",
   "id": "599d2439-449b-40c4-9825-6461da2f6bff",
   "metadata": {},
   "source": [
    "Recuerde que los datos deben ser del mismo tipo, o python hace el casting si es posible. Tambien se puede especificar de forma directa\n"
   ]
  },
  {
   "cell_type": "code",
   "execution_count": 10,
   "id": "70acfa75-e718-4c9a-aa23-3e34d7bb45c8",
   "metadata": {},
   "outputs": [
    {
     "data": {
      "text/plain": [
       "array([1., 2., 3., 4.], dtype=float32)"
      ]
     },
     "execution_count": 10,
     "metadata": {},
     "output_type": "execute_result"
    }
   ],
   "source": [
    "np.array([1, 2, 3, 4], dtype='float32')"
   ]
  },
  {
   "cell_type": "markdown",
   "id": "e386eb64-7057-4a7f-95f2-82c00683ed48",
   "metadata": {},
   "source": [
    "Tambien se puede trabajar array multidimensionales"
   ]
  },
  {
   "cell_type": "code",
   "execution_count": 13,
   "id": "d82f1ce0-58f8-4c89-94fc-84cd465b5eb2",
   "metadata": {},
   "outputs": [
    {
     "name": "stdout",
     "output_type": "stream",
     "text": [
      "[range(2, 5), range(4, 7), range(6, 9)]\n",
      "[[2 3 4]\n",
      " [4 5 6]\n",
      " [6 7 8]]\n"
     ]
    }
   ],
   "source": [
    "a_list = [range(i, i + 3) for i in [2, 4, 6]]\n",
    "print(a_list)\n",
    "a_numpy = np.array(a_list)\n",
    "print(a_numpy)"
   ]
  },
  {
   "cell_type": "markdown",
   "id": "c3896637-8ad0-4e9b-97ec-8a0b0dad4270",
   "metadata": {},
   "source": [
    "### Creando arrays desde cero\n",
    "\n",
    "Se pueden crear array desde cero utilizando métodos propios de la libreria. A continuación algunos métodos:\n",
    "\n",
    "- `np.zeros(dim)`: crea un numpy array de ceros de acuerdo a la dimension especificada\n",
    "\n",
    "- `np.ones(dim)`: crea un numpy array de unos de acuerdo a la dimensión especificada\n",
    "\n",
    "- `np.full(dim, number)`: crea un numpy array de un número especificado de acuerdo a la dimensión selecionada\n",
    "\n",
    "- `np.linspace(start,stop,n)`: crea un numpy array desde `start` hasta el `stop` con `n` número igualmente espaciados\n",
    "\n",
    "- `np.random.random(dim)`: crea un numpy array de dimensión `dim` con número aleatorios uniformemente distribuidos\n",
    "\n",
    "- `np.eye(dim)`: crea una matriz identidad de dimensión `dim`"
   ]
  },
  {
   "cell_type": "code",
   "execution_count": 15,
   "id": "5adf992f-a1bd-4e34-afe5-7b79b3affa9c",
   "metadata": {},
   "outputs": [
    {
     "name": "stdout",
     "output_type": "stream",
     "text": [
      "[0 0 0 0 0 0 0 0 0 0]\n",
      "<class 'numpy.ndarray'>\n"
     ]
    }
   ],
   "source": [
    "a = np.zeros(10, dtype=int)\n",
    "print(a)\n",
    "print(type(a))"
   ]
  },
  {
   "cell_type": "code",
   "execution_count": 16,
   "id": "cda2553a-8dc3-4336-9222-da8996ef65f8",
   "metadata": {},
   "outputs": [
    {
     "name": "stdout",
     "output_type": "stream",
     "text": [
      "[[1. 1. 1. 1. 1.]\n",
      " [1. 1. 1. 1. 1.]\n",
      " [1. 1. 1. 1. 1.]]\n",
      "<class 'numpy.ndarray'>\n"
     ]
    }
   ],
   "source": [
    "a = np.ones((3, 5), dtype=float)\n",
    "print(a)\n",
    "print(type(a))"
   ]
  },
  {
   "cell_type": "code",
   "execution_count": 17,
   "id": "31b05074-7744-4e59-b864-b8676ee47cfa",
   "metadata": {},
   "outputs": [
    {
     "name": "stdout",
     "output_type": "stream",
     "text": [
      "[[3.14 3.14 3.14 3.14 3.14]\n",
      " [3.14 3.14 3.14 3.14 3.14]\n",
      " [3.14 3.14 3.14 3.14 3.14]]\n",
      "<class 'numpy.ndarray'>\n"
     ]
    }
   ],
   "source": [
    "a = np.full((3, 5), 3.14)\n",
    "print(a)\n",
    "print(type(a))"
   ]
  },
  {
   "cell_type": "code",
   "execution_count": 18,
   "id": "0e8343cc-a069-4483-bf01-441e06062e72",
   "metadata": {},
   "outputs": [
    {
     "name": "stdout",
     "output_type": "stream",
     "text": [
      "[ 0  2  4  6  8 10 12 14 16 18]\n",
      "<class 'numpy.ndarray'>\n"
     ]
    }
   ],
   "source": [
    "a = np.arange(0, 20, 2)\n",
    "print(a)\n",
    "print(type(a))"
   ]
  },
  {
   "cell_type": "code",
   "execution_count": 19,
   "id": "45497b65-2495-4a8e-80bb-4f28b9cf525b",
   "metadata": {},
   "outputs": [
    {
     "name": "stdout",
     "output_type": "stream",
     "text": [
      "[0.   0.25 0.5  0.75 1.  ]\n",
      "<class 'numpy.ndarray'>\n"
     ]
    }
   ],
   "source": [
    "a = np.linspace(0, 1, 5)\n",
    "print(a)\n",
    "print(type(a))"
   ]
  },
  {
   "cell_type": "code",
   "execution_count": 21,
   "id": "a9f8040d-f6eb-45bd-b41e-c48b1ea45a5f",
   "metadata": {},
   "outputs": [
    {
     "name": "stdout",
     "output_type": "stream",
     "text": [
      "[[0.62660592 0.16599201 0.89690686]\n",
      " [0.70473871 0.75698946 0.29659111]\n",
      " [0.2881069  0.34731606 0.37435606]]\n",
      "<class 'numpy.ndarray'>\n"
     ]
    }
   ],
   "source": [
    "a = np.random.random((3, 3))\n",
    "print(a)\n",
    "print(type(a))"
   ]
  },
  {
   "cell_type": "code",
   "execution_count": 22,
   "id": "4c0156f4-b5d2-4dd9-8f05-8517300624f7",
   "metadata": {},
   "outputs": [
    {
     "name": "stdout",
     "output_type": "stream",
     "text": [
      "[[1. 0. 0.]\n",
      " [0. 1. 0.]\n",
      " [0. 0. 1.]]\n",
      "<class 'numpy.ndarray'>\n"
     ]
    }
   ],
   "source": [
    "a = np.eye(3)\n",
    "print(a)\n",
    "print(type(a))"
   ]
  },
  {
   "cell_type": "markdown",
   "id": "ac4acc02-5945-4f65-ba78-58a118de0569",
   "metadata": {},
   "source": [
    "| Data type\t    | Description |\n",
    "|---------------|-------------|\n",
    "| ``bool_``     | Boolean (True or False) stored as a byte |\n",
    "| ``int_``      | Default integer type (same as C ``long``; normally either ``int64`` or ``int32``)| \n",
    "| ``intc``      | Identical to C ``int`` (normally ``int32`` or ``int64``)| \n",
    "| ``intp``      | Integer used for indexing (same as C ``ssize_t``; normally either ``int32`` or ``int64``)| \n",
    "| ``int8``      | Byte (-128 to 127)| \n",
    "| ``int16``     | Integer (-32768 to 32767)|\n",
    "| ``int32``     | Integer (-2147483648 to 2147483647)|\n",
    "| ``int64``     | Integer (-9223372036854775808 to 9223372036854775807)| \n",
    "| ``uint8``     | Unsigned integer (0 to 255)| \n",
    "| ``uint16``    | Unsigned integer (0 to 65535)| \n",
    "| ``uint32``    | Unsigned integer (0 to 4294967295)| \n",
    "| ``uint64``    | Unsigned integer (0 to 18446744073709551615)| \n",
    "| ``float_``    | Shorthand for ``float64``.| \n",
    "| ``float16``   | Half precision float: sign bit, 5 bits exponent, 10 bits mantissa| \n",
    "| ``float32``   | Single precision float: sign bit, 8 bits exponent, 23 bits mantissa| \n",
    "| ``float64``   | Double precision float: sign bit, 11 bits exponent, 52 bits mantissa| \n",
    "| ``complex_``  | Shorthand for ``complex128``.| \n",
    "| ``complex64`` | Complex number, represented by two 32-bit floats| \n",
    "| ``complex128``| Complex number, represented by two 64-bit floats| "
   ]
  },
  {
   "cell_type": "markdown",
   "id": "5d86f80e-6eb6-4f63-adae-6412eb70e019",
   "metadata": {},
   "source": [
    "### Atributos de los numpy arrays\n",
    "\n",
    "Es importante revisar algunos de los atributos que presenta la clase `numpy`. Cada array tiene tres atributos principales relacionados con el tamaño: ``ndim`` número de dimensiones, ``shape`` el tamaño de cada dimensión, and ``size`` el tamaño total del array. Para entender lo anterior se procede a crear tres arrays"
   ]
  },
  {
   "cell_type": "code",
   "execution_count": 25,
   "id": "a1331c7d-e8aa-499c-b50f-d2022c566d41",
   "metadata": {},
   "outputs": [
    {
     "name": "stdout",
     "output_type": "stream",
     "text": [
      "x3 ndim:  3\n",
      "x3 shape: (3, 4, 5)\n",
      "x3 size:  60\n"
     ]
    }
   ],
   "source": [
    "import numpy as np\n",
    "np.random.seed(0)  # seed for reproducibility\n",
    "\n",
    "x1 = np.random.randint(10, size=6)  # One-dimensional array\n",
    "x2 = np.random.randint(10, size=(3, 4))  # Two-dimensional array\n",
    "x3 = np.random.randint(10, size=(3, 4, 5))  # Three-dimensional array\n",
    "\n",
    "print(\"x3 ndim: \", x3.ndim)\n",
    "print(\"x3 shape:\", x3.shape)\n",
    "print(\"x3 size: \", x3.size)"
   ]
  },
  {
   "cell_type": "markdown",
   "id": "92f43e1a-2961-4c8b-aa0f-83702935dc9b",
   "metadata": {},
   "source": [
    "Otros tres atributos interesantes con: `dtype` el cual indica el tipo de dato, `itemize` da información del tamaño ocupado en memoria por cada dato, y `nbytes` el tamaño total en bytes."
   ]
  },
  {
   "cell_type": "code",
   "execution_count": 26,
   "id": "8e9d800f-e538-410c-bf3c-4d3e914060ae",
   "metadata": {},
   "outputs": [
    {
     "name": "stdout",
     "output_type": "stream",
     "text": [
      "dtype: int32\n",
      "itemsize: 4 bytes\n",
      "nbytes: 240 bytes\n"
     ]
    }
   ],
   "source": [
    "print(\"dtype:\", x3.dtype)\n",
    "print(\"itemsize:\", x3.itemsize, \"bytes\")\n",
    "print(\"nbytes:\", x3.nbytes, \"bytes\")"
   ]
  },
  {
   "cell_type": "markdown",
   "id": "7f7490a7-28a0-478a-9d38-566f1cec6fc3",
   "metadata": {},
   "source": [
    "### Indexing y Slicing\n",
    "\n",
    "La indexación y el slicing para los numpy array se realiza de la misma forma que se realizaba con las listas de python"
   ]
  },
  {
   "cell_type": "code",
   "execution_count": 27,
   "id": "aa4e5adc-8b21-4d45-ab2d-58829d923a2f",
   "metadata": {},
   "outputs": [
    {
     "data": {
      "text/plain": [
       "5"
      ]
     },
     "execution_count": 27,
     "metadata": {},
     "output_type": "execute_result"
    }
   ],
   "source": [
    "x1[0]"
   ]
  },
  {
   "cell_type": "code",
   "execution_count": 28,
   "id": "d436bc7d-f49a-4da0-9ff5-4bce2f5f9e40",
   "metadata": {},
   "outputs": [
    {
     "data": {
      "text/plain": [
       "9"
      ]
     },
     "execution_count": 28,
     "metadata": {},
     "output_type": "execute_result"
    }
   ],
   "source": [
    "x1[-1]"
   ]
  },
  {
   "cell_type": "code",
   "execution_count": 29,
   "id": "2a307c90-21c5-48a4-986f-190e49248fcc",
   "metadata": {},
   "outputs": [
    {
     "data": {
      "text/plain": [
       "1"
      ]
     },
     "execution_count": 29,
     "metadata": {},
     "output_type": "execute_result"
    }
   ],
   "source": [
    "x2[2, 0]"
   ]
  },
  {
   "cell_type": "code",
   "execution_count": 30,
   "id": "3fef5f21-c759-48f6-a337-b0916a581e96",
   "metadata": {},
   "outputs": [
    {
     "name": "stdout",
     "output_type": "stream",
     "text": [
      "[[3 5 2 4]\n",
      " [7 6 8 8]\n",
      " [1 6 7 7]]\n",
      "[[12  5  2  4]\n",
      " [ 7  6  8  8]\n",
      " [ 1  6  7  7]]\n"
     ]
    }
   ],
   "source": [
    "print(x2)\n",
    "x2[0, 0] = 12\n",
    "print(x2)"
   ]
  },
  {
   "cell_type": "markdown",
   "id": "160a8a05-073a-428f-a149-899071306556",
   "metadata": {},
   "source": [
    "Recuerde que a diferencia de las listas en python, los numpy array tiene un dato fijo. Lo anterior significa que python intetará almacenar el nuevo valor haciendo un casting o saldrá un error. El slicing sigue el mismo patron\n",
    "\n",
    "``` python\n",
    "x[start:stop:step]\n",
    "```\n",
    "\n"
   ]
  },
  {
   "cell_type": "code",
   "execution_count": 34,
   "id": "22963a41-e84b-4038-bab8-80d2c18bfda6",
   "metadata": {},
   "outputs": [
    {
     "data": {
      "text/plain": [
       "array([3, 7])"
      ]
     },
     "execution_count": 34,
     "metadata": {},
     "output_type": "execute_result"
    }
   ],
   "source": [
    "x1[2::2]"
   ]
  },
  {
   "cell_type": "code",
   "execution_count": 43,
   "id": "edf09134-dc29-4178-9fab-65b4be9d8977",
   "metadata": {},
   "outputs": [
    {
     "data": {
      "text/plain": [
       "array([0, 1, 2, 3, 4, 5, 6, 7, 8, 9])"
      ]
     },
     "execution_count": 43,
     "metadata": {},
     "output_type": "execute_result"
    }
   ],
   "source": [
    "x = np.arange(10)\n",
    "x"
   ]
  },
  {
   "cell_type": "code",
   "execution_count": 41,
   "id": "5d73de9c-d250-4c59-89c2-275be19977e1",
   "metadata": {},
   "outputs": [
    {
     "data": {
      "text/plain": [
       "array([0, 1, 2, 3, 4])"
      ]
     },
     "execution_count": 41,
     "metadata": {},
     "output_type": "execute_result"
    }
   ],
   "source": [
    "x[:5]"
   ]
  },
  {
   "cell_type": "code",
   "execution_count": 36,
   "id": "f480a99f-0914-4dc9-a590-5b29568711e4",
   "metadata": {},
   "outputs": [
    {
     "data": {
      "text/plain": [
       "array([0, 2, 4, 6, 8])"
      ]
     },
     "execution_count": 36,
     "metadata": {},
     "output_type": "execute_result"
    }
   ],
   "source": [
    "x[::2]"
   ]
  },
  {
   "cell_type": "code",
   "execution_count": 38,
   "id": "6b47661b-94a0-416f-9b4a-d296710a95cf",
   "metadata": {},
   "outputs": [
    {
     "data": {
      "text/plain": [
       "array([9, 8, 7, 6, 5, 4, 3, 2, 1, 0])"
      ]
     },
     "execution_count": 38,
     "metadata": {},
     "output_type": "execute_result"
    }
   ],
   "source": [
    "x[::-1]"
   ]
  },
  {
   "cell_type": "code",
   "execution_count": 39,
   "id": "ce60e5fd-16da-46ba-9d7a-3dafcfb588ac",
   "metadata": {},
   "outputs": [
    {
     "data": {
      "text/plain": [
       "array([5, 3, 1])"
      ]
     },
     "execution_count": 39,
     "metadata": {},
     "output_type": "execute_result"
    }
   ],
   "source": [
    "x[5::-2]"
   ]
  },
  {
   "cell_type": "code",
   "execution_count": 44,
   "id": "9c263d8e-bf8d-4664-b029-bd4b5dec4228",
   "metadata": {},
   "outputs": [
    {
     "data": {
      "text/plain": [
       "array([[12,  5,  2],\n",
       "       [ 7,  6,  8]])"
      ]
     },
     "execution_count": 44,
     "metadata": {},
     "output_type": "execute_result"
    }
   ],
   "source": [
    "x2[:2, :3]"
   ]
  },
  {
   "cell_type": "code",
   "execution_count": 45,
   "id": "54c199f8-cf5f-4fbc-8cb9-008b278833c3",
   "metadata": {},
   "outputs": [
    {
     "data": {
      "text/plain": [
       "array([[ 7,  7,  6,  1],\n",
       "       [ 8,  8,  6,  7],\n",
       "       [ 4,  2,  5, 12]])"
      ]
     },
     "execution_count": 45,
     "metadata": {},
     "output_type": "execute_result"
    }
   ],
   "source": [
    "x2[::-1, ::-1]"
   ]
  },
  {
   "cell_type": "markdown",
   "id": "f169c299-b223-4107-8faa-71c5af21952e",
   "metadata": {},
   "source": [
    "***Nota**: recuerde que cuando hace asignación, para los numpy array equivale a crea un alias y no un copia en memoria. Si quiere una copia totalmente diferente recuerde utilizar el metodo `numpy.copy`"
   ]
  },
  {
   "cell_type": "markdown",
   "id": "e7627b7a-e152-421b-9c7a-2a85d64c079e",
   "metadata": {},
   "source": [
    "### Reshaping\n",
    "\n",
    "Numpy nos posibilita también realizar cambio de dimensiones en los arrays. La forma más flexible y fácil de realizar esto es mediante la función `reshape`. Por ejemplo, si se desea poner un vector fila de 9 posiciones en un matriz de 3x3, entonces"
   ]
  },
  {
   "cell_type": "code",
   "execution_count": 46,
   "id": "a1e6e4c9-5db8-49be-af9d-958752baf520",
   "metadata": {},
   "outputs": [
    {
     "name": "stdout",
     "output_type": "stream",
     "text": [
      "[[1 2 3]\n",
      " [4 5 6]\n",
      " [7 8 9]]\n"
     ]
    }
   ],
   "source": [
    "grid = np.arange(1, 10).reshape((3, 3))\n",
    "print(grid)"
   ]
  },
  {
   "cell_type": "markdown",
   "id": "fbafe67c-fdad-4a27-a27d-b817726ce44e",
   "metadata": {},
   "source": [
    "Es importante aclarar que el tamaño nuevo al que se quiere ajustar deben tener el mismo tamaño. Cuando sea posible el método reshape usará una no-copia del array original, pero no siempre es el caso. "
   ]
  },
  {
   "cell_type": "code",
   "execution_count": 51,
   "id": "1db6ea34-92e9-4b39-8e66-9315214f2c15",
   "metadata": {},
   "outputs": [
    {
     "name": "stdout",
     "output_type": "stream",
     "text": [
      "(3,)\n",
      "(1, 3)\n"
     ]
    }
   ],
   "source": [
    "x = np.array([1, 2, 3])\n",
    "print(x.shape)\n",
    "print(x.reshape((1, 3)).shape)"
   ]
  },
  {
   "cell_type": "code",
   "execution_count": 53,
   "id": "9b57d7aa-1a1c-4091-9853-4d743a37c4a6",
   "metadata": {},
   "outputs": [
    {
     "data": {
      "text/plain": [
       "(1, 3)"
      ]
     },
     "execution_count": 53,
     "metadata": {},
     "output_type": "execute_result"
    }
   ],
   "source": [
    "x[np.newaxis, :].shape"
   ]
  },
  {
   "cell_type": "code",
   "execution_count": 54,
   "id": "4817a31a-dbc1-4c1c-975b-ad55e54af4eb",
   "metadata": {},
   "outputs": [
    {
     "data": {
      "text/plain": [
       "(3, 1)"
      ]
     },
     "execution_count": 54,
     "metadata": {},
     "output_type": "execute_result"
    }
   ],
   "source": [
    "x.reshape((3, 1)).shape"
   ]
  },
  {
   "cell_type": "code",
   "execution_count": 55,
   "id": "f24728fe-8999-4de7-8a65-2de121325e49",
   "metadata": {},
   "outputs": [
    {
     "data": {
      "text/plain": [
       "(3, 1)"
      ]
     },
     "execution_count": 55,
     "metadata": {},
     "output_type": "execute_result"
    }
   ],
   "source": [
    "x[:, np.newaxis].shape"
   ]
  },
  {
   "cell_type": "markdown",
   "id": "e296f525-d27d-4a62-b944-7ee242605665",
   "metadata": {},
   "source": [
    "### Concatenación y división de arrays\n",
    "\n",
    "Es posible realizar concatenación o división de arrays en multiples arrays. \n",
    "\n",
    "- Para concatenar se pueden utilizar las rutinas tales como: `np.concatenate`, `np.vstack`, `np.hstack`\n",
    "\n",
    "- Para dividirlos se pueden utilizar las rutinas tales como: `np.split`, `np.hsplit`, `np.vsplit`"
   ]
  },
  {
   "cell_type": "code",
   "execution_count": 56,
   "id": "4edaef27-f27a-4700-845c-77a64e1f4961",
   "metadata": {},
   "outputs": [
    {
     "data": {
      "text/plain": [
       "array([1, 2, 3, 3, 2, 1])"
      ]
     },
     "execution_count": 56,
     "metadata": {},
     "output_type": "execute_result"
    }
   ],
   "source": [
    "x = np.array([1, 2, 3])\n",
    "y = np.array([3, 2, 1])\n",
    "np.concatenate([x, y])"
   ]
  },
  {
   "cell_type": "code",
   "execution_count": 57,
   "id": "b9a87839-1f76-426d-90bd-b5ae6d6a6997",
   "metadata": {},
   "outputs": [
    {
     "name": "stdout",
     "output_type": "stream",
     "text": [
      "[ 1  2  3  3  2  1 99 99 99]\n"
     ]
    }
   ],
   "source": [
    "z = [99, 99, 99]\n",
    "print(np.concatenate([x, y, z]))"
   ]
  },
  {
   "cell_type": "code",
   "execution_count": 58,
   "id": "e7c35180-476f-4d7e-a062-487bc04debe6",
   "metadata": {},
   "outputs": [
    {
     "data": {
      "text/plain": [
       "array([[1, 2, 3],\n",
       "       [4, 5, 6],\n",
       "       [1, 2, 3],\n",
       "       [4, 5, 6]])"
      ]
     },
     "execution_count": 58,
     "metadata": {},
     "output_type": "execute_result"
    }
   ],
   "source": [
    "grid = np.array([[1, 2, 3],\n",
    "                 [4, 5, 6]])\n",
    "np.concatenate([grid, grid])"
   ]
  },
  {
   "cell_type": "code",
   "execution_count": 59,
   "id": "9ee3e51e-ba74-4132-9609-c09f2d8b10bc",
   "metadata": {},
   "outputs": [
    {
     "data": {
      "text/plain": [
       "array([[1, 2, 3, 1, 2, 3],\n",
       "       [4, 5, 6, 4, 5, 6]])"
      ]
     },
     "execution_count": 59,
     "metadata": {},
     "output_type": "execute_result"
    }
   ],
   "source": [
    "# Se puede seleccionar la dimensión sobre el que se quiere concatenar\n",
    "np.concatenate([grid, grid], axis=1)"
   ]
  },
  {
   "cell_type": "code",
   "execution_count": 60,
   "id": "09399b85-4421-48ae-8a5e-3ed4fa75245b",
   "metadata": {},
   "outputs": [
    {
     "data": {
      "text/plain": [
       "array([[1, 2, 3],\n",
       "       [9, 8, 7],\n",
       "       [6, 5, 4]])"
      ]
     },
     "execution_count": 60,
     "metadata": {},
     "output_type": "execute_result"
    }
   ],
   "source": [
    "# Te posibilita trabajar con diferentes dimensiones\n",
    "x = np.array([1, 2, 3])\n",
    "grid = np.array([[9, 8, 7],\n",
    "                 [6, 5, 4]])\n",
    "\n",
    "# vertically stack the arrays\n",
    "np.vstack([x, grid])"
   ]
  },
  {
   "cell_type": "code",
   "execution_count": 61,
   "id": "0edf7588-aa05-467c-9415-515b1353dc6b",
   "metadata": {},
   "outputs": [
    {
     "data": {
      "text/plain": [
       "array([[ 9,  8,  7, 99],\n",
       "       [ 6,  5,  4, 99]])"
      ]
     },
     "execution_count": 61,
     "metadata": {},
     "output_type": "execute_result"
    }
   ],
   "source": [
    "# horizontally stack the arrays\n",
    "y = np.array([[99],\n",
    "              [99]])\n",
    "np.hstack([grid, y])"
   ]
  },
  {
   "cell_type": "markdown",
   "id": "a6c12df8-0697-4d14-b1f9-402526a46b1e",
   "metadata": {},
   "source": [
    "Realizando las operaciones opuestas a concatenación para dividr los array entonces se tiene que:"
   ]
  },
  {
   "cell_type": "code",
   "execution_count": 64,
   "id": "1fe39b64-602f-4035-b45a-3fe1191b8e4a",
   "metadata": {},
   "outputs": [
    {
     "name": "stdout",
     "output_type": "stream",
     "text": [
      "[1 2 3] [99 99] [3 2 1]\n"
     ]
    }
   ],
   "source": [
    "x = [1, 2, 3, 99, 99, 3, 2, 1]\n",
    "x1, x2, x3 = np.split(x, [3, 5])\n",
    "print(x1, x2, x3)"
   ]
  },
  {
   "cell_type": "code",
   "execution_count": 65,
   "id": "daba3f23-9de3-46e7-9a8c-71ad3e2b970f",
   "metadata": {},
   "outputs": [
    {
     "data": {
      "text/plain": [
       "array([[ 0,  1,  2,  3],\n",
       "       [ 4,  5,  6,  7],\n",
       "       [ 8,  9, 10, 11],\n",
       "       [12, 13, 14, 15]])"
      ]
     },
     "execution_count": 65,
     "metadata": {},
     "output_type": "execute_result"
    }
   ],
   "source": [
    "grid = np.arange(16).reshape((4, 4))\n",
    "grid"
   ]
  },
  {
   "cell_type": "code",
   "execution_count": 66,
   "id": "bf616ccf-895b-4f7c-9231-8f31c4c0c7bf",
   "metadata": {},
   "outputs": [
    {
     "name": "stdout",
     "output_type": "stream",
     "text": [
      "[[0 1 2 3]\n",
      " [4 5 6 7]]\n",
      "[[ 8  9 10 11]\n",
      " [12 13 14 15]]\n"
     ]
    }
   ],
   "source": [
    "upper, lower = np.vsplit(grid, [2])\n",
    "print(upper)\n",
    "print(lower)"
   ]
  },
  {
   "cell_type": "code",
   "execution_count": 67,
   "id": "a3d030e6-e11d-4e2c-bc2d-3166b00f1d55",
   "metadata": {},
   "outputs": [
    {
     "name": "stdout",
     "output_type": "stream",
     "text": [
      "[[ 0  1]\n",
      " [ 4  5]\n",
      " [ 8  9]\n",
      " [12 13]]\n",
      "[[ 2  3]\n",
      " [ 6  7]\n",
      " [10 11]\n",
      " [14 15]]\n"
     ]
    }
   ],
   "source": [
    "left, right = np.hsplit(grid, [2])\n",
    "print(left)\n",
    "print(right)"
   ]
  },
  {
   "cell_type": "markdown",
   "id": "ebd7bc63-b37a-46f1-90d8-9f2621586863",
   "metadata": {},
   "source": [
    "## Computación y agregaciones\n",
    "\n",
    "Hasta el momento solo se ha discutido o mostrado las nociones básicas de la libreria. Sin embargo, a continuación se mostrará la potencia de la libreria y porque se ha convertido en el estándar para la ciencia de datos. \n",
    "\n",
    "Las operaciones con `numpy` pueden ser muy rápidas o lentas dependiendo de la implementación. La clave para que sean rápidos es que se utilicen la forma vectorizada de las operaciones y evitar a toda costa el uso de loops.\n",
    "\n",
    "Un mal ejemplo de utilización de python es por ejemplo cuando se desea recorrer un vector para realizar una operación sobre el mismo. Por ejemplo, supongamos que se desea encontrar el inverso de un vector"
   ]
  },
  {
   "cell_type": "code",
   "execution_count": 1,
   "id": "bae25440-bd2f-4ba2-88db-215fd75f5781",
   "metadata": {},
   "outputs": [
    {
     "data": {
      "text/plain": [
       "array([0.16666667, 1.        , 0.25      , 0.25      , 0.125     ])"
      ]
     },
     "execution_count": 1,
     "metadata": {},
     "output_type": "execute_result"
    }
   ],
   "source": [
    "import numpy as np\n",
    "np.random.seed(0)\n",
    "\n",
    "def compute_reciprocals(values):\n",
    "    output = np.empty(len(values))\n",
    "    for i in range(len(values)):\n",
    "        output[i] = 1.0 / values[i]\n",
    "    return output\n",
    "        \n",
    "values = np.random.randint(1, 10, size=5)\n",
    "compute_reciprocals(values)"
   ]
  },
  {
   "cell_type": "markdown",
   "id": "8a020d8a-5670-4026-8598-e2f214109148",
   "metadata": {},
   "source": [
    "Para una persona que conozca otros lenguajes de programación, esta implementación puede ser la más lógica. Sin embargo, no se está aprovechando la utilizanción de la libreria. Podemos obtener el tiempo en que se demorar ejecutar la función utilizando la función mágica de IPython ```%timeit```"
   ]
  },
  {
   "cell_type": "code",
   "execution_count": 8,
   "id": "7aa14fc5-6ca4-4cd4-99d6-4ab6588890f2",
   "metadata": {},
   "outputs": [
    {
     "name": "stdout",
     "output_type": "stream",
     "text": [
      "1.44 s ± 15.8 ms per loop (mean ± std. dev. of 7 runs, 1 loop each)\n"
     ]
    }
   ],
   "source": [
    "big_array = np.random.randint(1, 100, size=1000000)\n",
    "%timeit compute_reciprocals(big_array)"
   ]
  },
  {
   "cell_type": "markdown",
   "id": "2ea50310-ca73-46d3-98b7-12331112a8be",
   "metadata": {},
   "source": [
    "### Introducción a las funciones universales\n",
    "\n",
    "Para muchas aplicaciones, `numpy` provee una interfaz conveniente para realizar operaciones y compilarlas directamente. Lo anterior se conoce como operaciones vectorizadas. Lo anterior implica que se realiza una operación y se ejecuta elemento a elemento. El objetivo de realizar esto es que la operación se de en la capa de compilación de la libreria para una ejecución más rápida"
   ]
  },
  {
   "cell_type": "code",
   "execution_count": 5,
   "id": "99b40720-f08e-4a92-9e71-7bb20c3164c3",
   "metadata": {},
   "outputs": [
    {
     "name": "stdout",
     "output_type": "stream",
     "text": [
      "[0.16666667 1.         0.25       0.25       0.125     ]\n",
      "[0.16666667 1.         0.25       0.25       0.125     ]\n"
     ]
    }
   ],
   "source": [
    "print(compute_reciprocals(values))\n",
    "print(1.0 / values)"
   ]
  },
  {
   "cell_type": "markdown",
   "id": "36c0aff9-5b24-4659-9230-38f95e6c8eb1",
   "metadata": {},
   "source": [
    "Recordemos que los resultados utilizando un loop fueron\n",
    "\n",
    "```python\n",
    "1.44 s ± 15.8 ms per loop (mean ± std. dev. of 7 runs, 1 loop each)\n",
    "```\n",
    "\n",
    "Ahora analizando la ejecución de la última instrucción se tiene que"
   ]
  },
  {
   "cell_type": "code",
   "execution_count": 9,
   "id": "9e3dfb6f-c5ad-4e92-ae45-35efd137e2de",
   "metadata": {},
   "outputs": [
    {
     "name": "stdout",
     "output_type": "stream",
     "text": [
      "2.95 ms ± 33 µs per loop (mean ± std. dev. of 7 runs, 100 loops each)\n"
     ]
    }
   ],
   "source": [
    "%timeit (1.0 / big_array)"
   ]
  },
  {
   "cell_type": "code",
   "execution_count": 11,
   "id": "a03e9470-9ed3-4b0a-83f7-e3c46a7d8e7a",
   "metadata": {},
   "outputs": [
    {
     "data": {
      "text/plain": [
       "array([0, 1, 2, 3, 4])"
      ]
     },
     "execution_count": 11,
     "metadata": {},
     "output_type": "execute_result"
    }
   ],
   "source": [
    "np.arange(5)"
   ]
  },
  {
   "cell_type": "markdown",
   "id": "99df6366-f631-4fcd-bdc9-514711d08076",
   "metadata": {},
   "source": [
    "Es importante entender que las operaciones pueden ser realizadas para arrays de diferentes tamaños. Por ejemplo se tiene las operaciones matemáticas básicas"
   ]
  },
  {
   "cell_type": "code",
   "execution_count": 12,
   "id": "485d1d56-be7e-48f2-83ef-8df784016281",
   "metadata": {},
   "outputs": [
    {
     "name": "stdout",
     "output_type": "stream",
     "text": [
      "x     = [0 1 2 3]\n",
      "x + 5 = [5 6 7 8]\n",
      "x - 5 = [-5 -4 -3 -2]\n",
      "x * 2 = [0 2 4 6]\n",
      "x / 2 = [0.  0.5 1.  1.5]\n",
      "x // 2 = [0 0 1 1]\n"
     ]
    }
   ],
   "source": [
    "x = np.arange(4)\n",
    "print(\"x     =\", x)\n",
    "print(\"x + 5 =\", x + 5)\n",
    "print(\"x - 5 =\", x - 5)\n",
    "print(\"x * 2 =\", x * 2)\n",
    "print(\"x / 2 =\", x / 2)\n",
    "print(\"x // 2 =\", x // 2)  # floor division"
   ]
  },
  {
   "cell_type": "code",
   "execution_count": 13,
   "id": "e1e17c79-2b4a-4c7d-b14d-10699f582e0c",
   "metadata": {},
   "outputs": [
    {
     "name": "stdout",
     "output_type": "stream",
     "text": [
      "-x     =  [ 0 -1 -2 -3]\n",
      "x ** 2 =  [0 1 4 9]\n",
      "x % 2  =  [0 1 0 1]\n"
     ]
    }
   ],
   "source": [
    "print(\"-x     = \", -x)\n",
    "print(\"x ** 2 = \", x ** 2)\n",
    "print(\"x % 2  = \", x % 2)"
   ]
  },
  {
   "cell_type": "code",
   "execution_count": 14,
   "id": "b08bf217-92da-4e1f-a411-e52d4b074a78",
   "metadata": {},
   "outputs": [
    {
     "data": {
      "text/plain": [
       "array([-1.  , -2.25, -4.  , -6.25])"
      ]
     },
     "execution_count": 14,
     "metadata": {},
     "output_type": "execute_result"
    }
   ],
   "source": [
    "-(0.5*x + 1) ** 2"
   ]
  },
  {
   "cell_type": "markdown",
   "id": "2309a16c-f827-44ae-bb63-53030e9d114c",
   "metadata": {},
   "source": [
    "La siguiente tabla muestras las operaciones implementadas en numpy:\n",
    "\n",
    "| Operador\t    | ufunc    | Descripción                           |\n",
    "|---------------|---------------------|---------------------------------------|\n",
    "|``+``          |``np.add``           |Addition (e.g., ``1 + 1 = 2``)         |\n",
    "|``-``          |``np.subtract``      |Subtraction (e.g., ``3 - 2 = 1``)      |\n",
    "|``-``          |``np.negative``      |Unary negation (e.g., ``-2``)          |\n",
    "|``*``          |``np.multiply``      |Multiplication (e.g., ``2 * 3 = 6``)   |\n",
    "|``/``          |``np.divide``        |Division (e.g., ``3 / 2 = 1.5``)       |\n",
    "|``//``         |``np.floor_divide``  |Floor division (e.g., ``3 // 2 = 1``)  |\n",
    "|``**``         |``np.power``         |Exponentiation (e.g., ``2 ** 3 = 8``)  |\n",
    "|``%``          |``np.mod``           |Modulus/remainder (e.g., ``9 % 4 = 1``)|\n"
   ]
  },
  {
   "cell_type": "code",
   "execution_count": 15,
   "id": "10d8f1f4-dd99-4389-9f2a-fc080123b982",
   "metadata": {},
   "outputs": [
    {
     "name": "stdout",
     "output_type": "stream",
     "text": [
      "[2 1 0 1 2]\n",
      "[2 1 0 1 2]\n",
      "[2 1 0 1 2]\n"
     ]
    }
   ],
   "source": [
    "x = np.array([-2, -1, 0, 1, 2])\n",
    "print(abs(x))\n",
    "print(np.absolute(x))\n",
    "print(np.abs(x))"
   ]
  },
  {
   "cell_type": "code",
   "execution_count": 16,
   "id": "044de80a-22bf-4399-a75d-8a8705c9d760",
   "metadata": {},
   "outputs": [
    {
     "name": "stdout",
     "output_type": "stream",
     "text": [
      "theta      =  [0.         1.57079633 3.14159265]\n",
      "sin(theta) =  [0.0000000e+00 1.0000000e+00 1.2246468e-16]\n",
      "cos(theta) =  [ 1.000000e+00  6.123234e-17 -1.000000e+00]\n",
      "tan(theta) =  [ 0.00000000e+00  1.63312394e+16 -1.22464680e-16]\n"
     ]
    }
   ],
   "source": [
    "theta = np.linspace(0, np.pi, 3)\n",
    "print(\"theta      = \", theta)\n",
    "print(\"sin(theta) = \", np.sin(theta))\n",
    "print(\"cos(theta) = \", np.cos(theta))\n",
    "print(\"tan(theta) = \", np.tan(theta))"
   ]
  },
  {
   "cell_type": "code",
   "execution_count": 17,
   "id": "6c430b95-c8d3-4ecf-adb1-90af31d07d79",
   "metadata": {},
   "outputs": [
    {
     "name": "stdout",
     "output_type": "stream",
     "text": [
      "x         =  [-1, 0, 1]\n",
      "arcsin(x) =  [-1.57079633  0.          1.57079633]\n",
      "arccos(x) =  [3.14159265 1.57079633 0.        ]\n",
      "arctan(x) =  [-0.78539816  0.          0.78539816]\n"
     ]
    }
   ],
   "source": [
    "x = [-1, 0, 1]\n",
    "print(\"x         = \", x)\n",
    "print(\"arcsin(x) = \", np.arcsin(x))\n",
    "print(\"arccos(x) = \", np.arccos(x))\n",
    "print(\"arctan(x) = \", np.arctan(x))"
   ]
  },
  {
   "cell_type": "code",
   "execution_count": 18,
   "id": "0cfef6e6-7693-4d76-bc14-782bc959ae28",
   "metadata": {},
   "outputs": [
    {
     "name": "stdout",
     "output_type": "stream",
     "text": [
      "x     = [1, 2, 3]\n",
      "e^x   = [ 2.71828183  7.3890561  20.08553692]\n",
      "2^x   = [2. 4. 8.]\n",
      "3^x   = [ 3  9 27]\n"
     ]
    }
   ],
   "source": [
    "x = [1, 2, 3]\n",
    "print(\"x     =\", x)\n",
    "print(\"e^x   =\", np.exp(x))\n",
    "print(\"2^x   =\", np.exp2(x))\n",
    "print(\"3^x   =\", np.power(3, x))"
   ]
  },
  {
   "cell_type": "code",
   "execution_count": 19,
   "id": "b0ffb576-cc55-4ec0-89fc-7e793143917a",
   "metadata": {},
   "outputs": [
    {
     "name": "stdout",
     "output_type": "stream",
     "text": [
      "x        = [1, 2, 4, 10]\n",
      "ln(x)    = [0.         0.69314718 1.38629436 2.30258509]\n",
      "log2(x)  = [0.         1.         2.         3.32192809]\n",
      "log10(x) = [0.         0.30103    0.60205999 1.        ]\n"
     ]
    }
   ],
   "source": [
    "x = [1, 2, 4, 10]\n",
    "print(\"x        =\", x)\n",
    "print(\"ln(x)    =\", np.log(x))\n",
    "print(\"log2(x)  =\", np.log2(x))\n",
    "print(\"log10(x) =\", np.log10(x))"
   ]
  },
  {
   "cell_type": "markdown",
   "id": "3484196d-3f65-4637-99ba-deb071db2555",
   "metadata": {},
   "source": [
    "### Agregaciones: Min, Max, y otros\n",
    "\n",
    "A menudo cuando se tiene gran cantidad de datos, uno de los primeros pasos es obtener el resumen estadístico de los datos en cuestión. Los agregados mas conocidos son el promedio y la desviación estandar, el cual permite resumir como se distribuyen los datos en un conjunto. Adicional a estos, existen otro útiles como la suma, el producto, minimo, máximo, cuantiles, entre otros."
   ]
  },
  {
   "cell_type": "code",
   "execution_count": 2,
   "id": "4055b8ac-6435-4578-b8c7-2e9294d377df",
   "metadata": {},
   "outputs": [
    {
     "name": "stdout",
     "output_type": "stream",
     "text": [
      "49.953353339892786\n",
      "49.95335333989279\n"
     ]
    }
   ],
   "source": [
    "import numpy as np\n",
    "L = np.random.random(100)\n",
    "print(sum(L))\n",
    "print(np.sum(L))"
   ]
  },
  {
   "cell_type": "markdown",
   "id": "d8f64c7c-72b8-46f7-ba2c-a6335a94ebeb",
   "metadata": {},
   "source": [
    "A pesar de tener el mismo resultado, utilizando la libreria `numpy` es mucho mas rápido ya que se ejecuta el código compilado"
   ]
  },
  {
   "cell_type": "code",
   "execution_count": 4,
   "id": "1dadb8b4-bf2c-4a25-a261-d8b4d93fcc90",
   "metadata": {},
   "outputs": [
    {
     "name": "stdout",
     "output_type": "stream",
     "text": [
      "70.3 ms ± 830 µs per loop (mean ± std. dev. of 7 runs, 10 loops each)\n",
      "1.14 ms ± 158 µs per loop (mean ± std. dev. of 7 runs, 1000 loops each)\n"
     ]
    }
   ],
   "source": [
    "big_array = np.random.rand(1000000)\n",
    "%timeit sum(big_array)\n",
    "%timeit np.sum(big_array)"
   ]
  },
  {
   "cell_type": "code",
   "execution_count": 5,
   "id": "f86bbaa2-7d6e-46c3-bdc1-ab4b8ca63671",
   "metadata": {},
   "outputs": [
    {
     "data": {
      "text/plain": [
       "(1.8959773551152637e-06, 0.9999993144195066)"
      ]
     },
     "execution_count": 5,
     "metadata": {},
     "output_type": "execute_result"
    }
   ],
   "source": [
    "min(big_array), max(big_array)"
   ]
  },
  {
   "cell_type": "code",
   "execution_count": 6,
   "id": "7b28a2d5-2b74-4e71-921d-f11d7f2606ea",
   "metadata": {},
   "outputs": [
    {
     "data": {
      "text/plain": [
       "(1.8959773551152637e-06, 0.9999993144195066)"
      ]
     },
     "execution_count": 6,
     "metadata": {},
     "output_type": "execute_result"
    }
   ],
   "source": [
    "np.min(big_array), np.max(big_array)"
   ]
  },
  {
   "cell_type": "code",
   "execution_count": 7,
   "id": "acec1623-03ef-4d43-bee3-8c1732639616",
   "metadata": {},
   "outputs": [
    {
     "name": "stdout",
     "output_type": "stream",
     "text": [
      "53.7 ms ± 1.11 ms per loop (mean ± std. dev. of 7 runs, 10 loops each)\n",
      "433 µs ± 21.2 µs per loop (mean ± std. dev. of 7 runs, 1000 loops each)\n"
     ]
    }
   ],
   "source": [
    "%timeit min(big_array)\n",
    "%timeit np.min(big_array)"
   ]
  },
  {
   "cell_type": "markdown",
   "id": "45dd7775-3985-4d4e-9d99-b6d7428f3e80",
   "metadata": {},
   "source": [
    "Otra forma de utilizar estas agregaciones, es utilizar el método como tal del objeto"
   ]
  },
  {
   "cell_type": "code",
   "execution_count": 8,
   "id": "1000a10a-3d28-4004-8d83-460b6eca858d",
   "metadata": {},
   "outputs": [
    {
     "name": "stdout",
     "output_type": "stream",
     "text": [
      "1.8959773551152637e-06 0.9999993144195066 499730.8317864362\n"
     ]
    }
   ],
   "source": [
    "print(big_array.min(), big_array.max(), big_array.sum())"
   ]
  },
  {
   "cell_type": "markdown",
   "id": "6791d431-1355-4795-800b-8823d15ed187",
   "metadata": {},
   "source": [
    "Y que pasa cuando se tiene **arreglos multidimensionales**?"
   ]
  },
  {
   "cell_type": "code",
   "execution_count": 9,
   "id": "3d503572-e2dc-4de7-877e-98630e077c3d",
   "metadata": {},
   "outputs": [
    {
     "name": "stdout",
     "output_type": "stream",
     "text": [
      "[[2.30482729e-01 7.61760421e-02 2.71902076e-01 9.57098763e-01]\n",
      " [6.08927113e-01 3.87959466e-01 3.75383439e-01 7.72669329e-01]\n",
      " [1.45031746e-04 4.45511471e-01 7.55729572e-01 9.12226582e-01]]\n"
     ]
    }
   ],
   "source": [
    "M = np.random.random((3, 4))\n",
    "print(M)"
   ]
  },
  {
   "cell_type": "code",
   "execution_count": 10,
   "id": "d158319d-852e-40ac-87c4-f3e61fc4f8c6",
   "metadata": {},
   "outputs": [
    {
     "data": {
      "text/plain": [
       "5.794211614632969"
      ]
     },
     "execution_count": 10,
     "metadata": {},
     "output_type": "execute_result"
    }
   ],
   "source": [
    "M.sum()"
   ]
  },
  {
   "cell_type": "code",
   "execution_count": 12,
   "id": "257739ee-1856-462f-ad86-0113a3348916",
   "metadata": {},
   "outputs": [
    {
     "data": {
      "text/plain": [
       "array([7.61760421e-02, 3.75383439e-01, 1.45031746e-04])"
      ]
     },
     "execution_count": 12,
     "metadata": {},
     "output_type": "execute_result"
    }
   ],
   "source": [
    "M.min(axis=1)"
   ]
  },
  {
   "cell_type": "markdown",
   "id": "3ad05083-12f3-46e3-9eef-629a3154c55b",
   "metadata": {},
   "source": [
    "Otras agregaciones utilizadas con la libreria de `numpy` son\n",
    "\n",
    "|Function Name      |   NaN-safe Version  | Description                                   |\n",
    "|-------------------|---------------------|-----------------------------------------------|\n",
    "| ``np.sum``        | ``np.nansum``       | Compute sum of elements                       |\n",
    "| ``np.prod``       | ``np.nanprod``      | Compute product of elements                   |\n",
    "| ``np.mean``       | ``np.nanmean``      | Compute mean of elements                      |\n",
    "| ``np.std``        | ``np.nanstd``       | Compute standard deviation                    |\n",
    "| ``np.var``        | ``np.nanvar``       | Compute variance                              |\n",
    "| ``np.min``        | ``np.nanmin``       | Find minimum value                            |\n",
    "| ``np.max``        | ``np.nanmax``       | Find maximum value                            |\n",
    "| ``np.argmin``     | ``np.nanargmin``    | Find index of minimum value                   |\n",
    "| ``np.argmax``     | ``np.nanargmax``    | Find index of maximum value                   |\n",
    "| ``np.median``     | ``np.nanmedian``    | Compute median of elements                    |\n",
    "| ``np.percentile`` | ``np.nanpercentile``| Compute rank-based statistics of elements     |\n",
    "| ``np.any``        | N/A                 | Evaluate whether any elements are true        |\n",
    "| ``np.all``        | N/A                 | Evaluate whether all elements are true        |"
   ]
  },
  {
   "cell_type": "markdown",
   "id": "316555c4-ad0b-40ef-a343-c1972d19c92a",
   "metadata": {},
   "source": [
    "#### **Ejemplo**\n",
    "\n",
    "Cual es el promedio de alturas de presidentes en los Estados Unidos?\n",
    "\n",
    "Para resolver lo anterior vamos a utilizar un archivo .csv donde contiene la información y la libreria `pandas` la cual trabajaremos en el siguiente módulo.\n",
    "\n"
   ]
  },
  {
   "cell_type": "code",
   "execution_count": 14,
   "id": "4784a22b-cac4-4233-a93b-d2b11e388831",
   "metadata": {},
   "outputs": [
    {
     "name": "stdout",
     "output_type": "stream",
     "text": [
      "[189 170 189 163 183 171 185 168 173 183 173 173 175 178 183 193 178 173\n",
      " 174 183 183 168 170 178 182 180 183 178 182 188 175 179 183 193 182 183\n",
      " 177 185 188 188 182 185]\n"
     ]
    }
   ],
   "source": [
    "import pandas as pd\n",
    "data = pd.read_csv('data/president_heights.csv')\n",
    "heights = np.array(data['height(cm)'])\n",
    "print(heights)"
   ]
  },
  {
   "cell_type": "code",
   "execution_count": 19,
   "id": "0c6923c8-276b-46b0-953b-29cec2f0744b",
   "metadata": {},
   "outputs": [
    {
     "name": "stdout",
     "output_type": "stream",
     "text": [
      "Altura promedio:        179.73809523809524\n",
      "Desviacion estandar:    6.931843442745892\n",
      "Altura mínimat:         163\n",
      "Altura máxima:          193\n"
     ]
    }
   ],
   "source": [
    "print(\"Altura promedio:       \", heights.mean())\n",
    "print(\"Desviacion estandar:   \", heights.std())\n",
    "print(\"Altura mínimat:        \", heights.min())\n",
    "print(\"Altura máxima:         \", heights.max())"
   ]
  },
  {
   "cell_type": "code",
   "execution_count": 18,
   "id": "3ad31dc1-f233-4b00-bbf9-c83b01b55749",
   "metadata": {},
   "outputs": [
    {
     "name": "stdout",
     "output_type": "stream",
     "text": [
      "Percentil 25:    174.25\n",
      "Media:           182.0\n",
      "Percentil 75:    183.0\n"
     ]
    }
   ],
   "source": [
    "print(\"Percentil 25:   \", np.percentile(heights, 25))\n",
    "print(\"Media:          \", np.median(heights))\n",
    "print(\"Percentil 75:   \", np.percentile(heights, 75))"
   ]
  },
  {
   "cell_type": "markdown",
   "id": "15f9f025-992d-4655-beb4-49b9dbd7cfdd",
   "metadata": {},
   "source": [
    "Usaremos otra libreria que se usa conmunmente para gráfica datos"
   ]
  },
  {
   "cell_type": "code",
   "execution_count": 21,
   "id": "f1dfc8e3-f9a7-43cf-aeea-302d4a4ac676",
   "metadata": {},
   "outputs": [
    {
     "data": {
      "image/png": "[encoded data removed]",
      "text/plain": [
       "<Figure size 432x288 with 1 Axes>"
      ]
     },
     "metadata": {},
     "output_type": "display_data"
    }
   ],
   "source": [
    "%matplotlib inline\n",
    "import matplotlib.pyplot as plt\n",
    "import seaborn; seaborn.set()  # set plot style\n",
    "\n",
    "plt.hist(heights)\n",
    "plt.title('Distribución de altura de presidentes de estados unidos')\n",
    "plt.xlabel('altura (cm)')\n",
    "plt.ylabel('cantidad');"
   ]
  },
  {
   "cell_type": "code",
   "execution_count": null,
   "id": "47ed1752-5b13-49d1-afc6-02670c8808a6",
   "metadata": {},
   "outputs": [],
   "source": []
  },
  {
   "cell_type": "code",
   "execution_count": null,
   "id": "7d99f48e-7c2b-45b2-9cd6-db1e6b16a910",
   "metadata": {},
   "outputs": [],
   "source": []
  },
  {
   "cell_type": "code",
   "execution_count": null,
   "id": "ba8cd95a-08c6-4383-8842-e542dca4fa71",
   "metadata": {},
   "outputs": [],
   "source": []
  }
 ],
 "metadata": {
  "kernelspec": {
   "display_name": "Python 3 (ipykernel)",
   "language": "python",
   "name": "python3"
  },
  "language_info": {
   "codemirror_mode": {
    "name": "ipython",
    "version": 3
   },
   "file_extension": ".py",
   "mimetype": "text/x-python",
   "name": "python",
   "nbconvert_exporter": "python",
   "pygments_lexer": "ipython3",
   "version": "3.7.0"
  }
 },
 "nbformat": 4,
 "nbformat_minor": 5
}
